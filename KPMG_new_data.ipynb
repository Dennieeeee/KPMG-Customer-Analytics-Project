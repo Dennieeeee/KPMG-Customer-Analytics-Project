{
  "nbformat": 4,
  "nbformat_minor": 0,
  "metadata": {
    "colab": {
      "name": "KPMG_new_data.ipynb",
      "provenance": [],
      "collapsed_sections": [],
      "authorship_tag": "ABX9TyMHjbjYddTwM3yhNtJ2SsOw",
      "include_colab_link": true
    },
    "kernelspec": {
      "name": "python3",
      "display_name": "Python 3"
    }
  },
  "cells": [
    {
      "cell_type": "markdown",
      "metadata": {
        "id": "view-in-github",
        "colab_type": "text"
      },
      "source": [
        "<a href=\"https://colab.research.google.com/github/Dennieeeee/KPMG-virtual-internship/blob/master/KPMG_new_data.ipynb\" target=\"_parent\"><img src=\"https://colab.research.google.com/assets/colab-badge.svg\" alt=\"Open In Colab\"/></a>"
      ]
    },
    {
      "cell_type": "markdown",
      "metadata": {
        "id": "xQYoOtMBQ75c",
        "colab_type": "text"
      },
      "source": [
        "# Overview:\n",
        "This dataset contains variables gender, transaction_date, online_order order_status, brand, product_line, product_class, product_size, list_price,  standard_cost.\n",
        "\n",
        "Business question is to target the right customer for each brand.\n"
      ]
    },
    {
      "cell_type": "code",
      "metadata": {
        "id": "UCpxX7gyxJCQ",
        "colab_type": "code",
        "colab": {
          "base_uri": "https://localhost:8080/",
          "height": 71
        },
        "outputId": "f7f20536-673b-40c2-e494-6fa76a3eae48"
      },
      "source": [
        "import pandas as pd\n",
        "import numpy as np\n",
        "import matplotlib.pyplot as plt\n",
        "import seaborn as sns\n",
        "%matplotlib inline\n",
        "from google.colab import files\n",
        "import io"
      ],
      "execution_count": 2,
      "outputs": [
        {
          "output_type": "stream",
          "text": [
            "/usr/local/lib/python3.6/dist-packages/statsmodels/tools/_testing.py:19: FutureWarning: pandas.util.testing is deprecated. Use the functions in the public API at pandas.testing instead.\n",
            "  import pandas.util.testing as tm\n"
          ],
          "name": "stderr"
        }
      ]
    },
    {
      "cell_type": "code",
      "metadata": {
        "id": "BzRwyci4x-MP",
        "colab_type": "code",
        "colab": {}
      },
      "source": [
        "url = 'https://raw.githubusercontent.com/Dennieeeee/KPMG-virtual-internship/master/KPMG_new_data.csv'"
      ],
      "execution_count": 3,
      "outputs": []
    },
    {
      "cell_type": "code",
      "metadata": {
        "id": "iavy2yHTyHps",
        "colab_type": "code",
        "colab": {}
      },
      "source": [
        "df = pd.read_csv(url)"
      ],
      "execution_count": 4,
      "outputs": []
    },
    {
      "cell_type": "markdown",
      "metadata": {
        "id": "PnHnWiYay8Pv",
        "colab_type": "text"
      },
      "source": [
        "# Preparing the Dataset"
      ]
    },
    {
      "cell_type": "code",
      "metadata": {
        "id": "J2ufvhacy7Vw",
        "colab_type": "code",
        "colab": {}
      },
      "source": [
        "df1=df[['gender','transaction_date','online_order','order_status','brand','product_line','product_class','product_size','list_price','standard_cost']]"
      ],
      "execution_count": 5,
      "outputs": []
    },
    {
      "cell_type": "code",
      "metadata": {
        "id": "hV7T785jSWE6",
        "colab_type": "code",
        "colab": {
          "base_uri": "https://localhost:8080/",
          "height": 204
        },
        "outputId": "a6bda685-6940-4dc2-d8c8-fa47d8163be6"
      },
      "source": [
        "df1.head()"
      ],
      "execution_count": 6,
      "outputs": [
        {
          "output_type": "execute_result",
          "data": {
            "text/html": [
              "<div>\n",
              "<style scoped>\n",
              "    .dataframe tbody tr th:only-of-type {\n",
              "        vertical-align: middle;\n",
              "    }\n",
              "\n",
              "    .dataframe tbody tr th {\n",
              "        vertical-align: top;\n",
              "    }\n",
              "\n",
              "    .dataframe thead th {\n",
              "        text-align: right;\n",
              "    }\n",
              "</style>\n",
              "<table border=\"1\" class=\"dataframe\">\n",
              "  <thead>\n",
              "    <tr style=\"text-align: right;\">\n",
              "      <th></th>\n",
              "      <th>gender</th>\n",
              "      <th>transaction_date</th>\n",
              "      <th>online_order</th>\n",
              "      <th>order_status</th>\n",
              "      <th>brand</th>\n",
              "      <th>product_line</th>\n",
              "      <th>product_class</th>\n",
              "      <th>product_size</th>\n",
              "      <th>list_price</th>\n",
              "      <th>standard_cost</th>\n",
              "    </tr>\n",
              "  </thead>\n",
              "  <tbody>\n",
              "    <tr>\n",
              "      <th>0</th>\n",
              "      <td>Female</td>\n",
              "      <td>2017-05-21</td>\n",
              "      <td>1.0</td>\n",
              "      <td>Approved</td>\n",
              "      <td>Trek Bicycles</td>\n",
              "      <td>Standard</td>\n",
              "      <td>medium</td>\n",
              "      <td>large</td>\n",
              "      <td>2091.47</td>\n",
              "      <td>388.92</td>\n",
              "    </tr>\n",
              "    <tr>\n",
              "      <th>1</th>\n",
              "      <td>Female</td>\n",
              "      <td>2017-10-05</td>\n",
              "      <td>0.0</td>\n",
              "      <td>Approved</td>\n",
              "      <td>Giant Bicycles</td>\n",
              "      <td>Standard</td>\n",
              "      <td>high</td>\n",
              "      <td>medium</td>\n",
              "      <td>1129.13</td>\n",
              "      <td>677.48</td>\n",
              "    </tr>\n",
              "    <tr>\n",
              "      <th>2</th>\n",
              "      <td>Female</td>\n",
              "      <td>2017-10-30</td>\n",
              "      <td>1.0</td>\n",
              "      <td>Approved</td>\n",
              "      <td>Solex</td>\n",
              "      <td>Standard</td>\n",
              "      <td>medium</td>\n",
              "      <td>medium</td>\n",
              "      <td>100.35</td>\n",
              "      <td>75.26</td>\n",
              "    </tr>\n",
              "    <tr>\n",
              "      <th>3</th>\n",
              "      <td>Female</td>\n",
              "      <td>2017-01-30</td>\n",
              "      <td>0.0</td>\n",
              "      <td>Approved</td>\n",
              "      <td>Giant Bicycles</td>\n",
              "      <td>Standard</td>\n",
              "      <td>medium</td>\n",
              "      <td>large</td>\n",
              "      <td>569.56</td>\n",
              "      <td>528.43</td>\n",
              "    </tr>\n",
              "    <tr>\n",
              "      <th>4</th>\n",
              "      <td>Female</td>\n",
              "      <td>2017-01-20</td>\n",
              "      <td>1.0</td>\n",
              "      <td>Approved</td>\n",
              "      <td>Solex</td>\n",
              "      <td>Standard</td>\n",
              "      <td>medium</td>\n",
              "      <td>medium</td>\n",
              "      <td>1577.53</td>\n",
              "      <td>826.51</td>\n",
              "    </tr>\n",
              "  </tbody>\n",
              "</table>\n",
              "</div>"
            ],
            "text/plain": [
              "   gender transaction_date  ...  list_price standard_cost\n",
              "0  Female       2017-05-21  ...     2091.47        388.92\n",
              "1  Female       2017-10-05  ...     1129.13        677.48\n",
              "2  Female       2017-10-30  ...      100.35         75.26\n",
              "3  Female       2017-01-30  ...      569.56        528.43\n",
              "4  Female       2017-01-20  ...     1577.53        826.51\n",
              "\n",
              "[5 rows x 10 columns]"
            ]
          },
          "metadata": {
            "tags": []
          },
          "execution_count": 6
        }
      ]
    },
    {
      "cell_type": "code",
      "metadata": {
        "id": "Pw0XIUV7an2P",
        "colab_type": "code",
        "colab": {
          "base_uri": "https://localhost:8080/",
          "height": 85
        },
        "outputId": "a3ba8185-f37a-4fb6-d798-0108150ea1e9"
      },
      "source": [
        "df1.columns"
      ],
      "execution_count": 7,
      "outputs": [
        {
          "output_type": "execute_result",
          "data": {
            "text/plain": [
              "Index(['gender', 'transaction_date', 'online_order', 'order_status', 'brand',\n",
              "       'product_line', 'product_class', 'product_size', 'list_price',\n",
              "       'standard_cost'],\n",
              "      dtype='object')"
            ]
          },
          "metadata": {
            "tags": []
          },
          "execution_count": 7
        }
      ]
    },
    {
      "cell_type": "code",
      "metadata": {
        "id": "fFK85AJda2n1",
        "colab_type": "code",
        "colab": {
          "base_uri": "https://localhost:8080/",
          "height": 204
        },
        "outputId": "1b57ba44-ad41-4a02-a71e-c829f570262b"
      },
      "source": [
        "df1.isnull().sum()"
      ],
      "execution_count": 44,
      "outputs": [
        {
          "output_type": "execute_result",
          "data": {
            "text/plain": [
              "gender               0\n",
              "transaction_date     0\n",
              "online_order        88\n",
              "order_status         0\n",
              "brand               53\n",
              "product_line        53\n",
              "product_class       53\n",
              "product_size        53\n",
              "list_price           0\n",
              "standard_cost       53\n",
              "dtype: int64"
            ]
          },
          "metadata": {
            "tags": []
          },
          "execution_count": 44
        }
      ]
    },
    {
      "cell_type": "code",
      "metadata": {
        "id": "SE5VbJB2P9Uk",
        "colab_type": "code",
        "colab": {
          "base_uri": "https://localhost:8080/",
          "height": 68
        },
        "outputId": "7c458a62-b5cc-465b-c3fd-cb7c79bc5499"
      },
      "source": [
        "df1['order_status'].value_counts()"
      ],
      "execution_count": 43,
      "outputs": [
        {
          "output_type": "execute_result",
          "data": {
            "text/plain": [
              "Approved     10100\n",
              "Cancelled      103\n",
              "Name: order_status, dtype: int64"
            ]
          },
          "metadata": {
            "tags": []
          },
          "execution_count": 43
        }
      ]
    },
    {
      "cell_type": "code",
      "metadata": {
        "id": "TKSjqwpzyX0F",
        "colab_type": "code",
        "colab": {
          "base_uri": "https://localhost:8080/",
          "height": 297
        },
        "outputId": "40c18c71-8dd5-4ea8-e99f-697601307422"
      },
      "source": [
        "df1.describe()"
      ],
      "execution_count": 9,
      "outputs": [
        {
          "output_type": "execute_result",
          "data": {
            "text/html": [
              "<div>\n",
              "<style scoped>\n",
              "    .dataframe tbody tr th:only-of-type {\n",
              "        vertical-align: middle;\n",
              "    }\n",
              "\n",
              "    .dataframe tbody tr th {\n",
              "        vertical-align: top;\n",
              "    }\n",
              "\n",
              "    .dataframe thead th {\n",
              "        text-align: right;\n",
              "    }\n",
              "</style>\n",
              "<table border=\"1\" class=\"dataframe\">\n",
              "  <thead>\n",
              "    <tr style=\"text-align: right;\">\n",
              "      <th></th>\n",
              "      <th>online_order</th>\n",
              "      <th>list_price</th>\n",
              "      <th>standard_cost</th>\n",
              "    </tr>\n",
              "  </thead>\n",
              "  <tbody>\n",
              "    <tr>\n",
              "      <th>count</th>\n",
              "      <td>10035.000000</td>\n",
              "      <td>10203.000000</td>\n",
              "      <td>10104.000000</td>\n",
              "    </tr>\n",
              "    <tr>\n",
              "      <th>mean</th>\n",
              "      <td>0.501545</td>\n",
              "      <td>1108.163378</td>\n",
              "      <td>557.809863</td>\n",
              "    </tr>\n",
              "    <tr>\n",
              "      <th>std</th>\n",
              "      <td>0.500023</td>\n",
              "      <td>581.577621</td>\n",
              "      <td>406.813848</td>\n",
              "    </tr>\n",
              "    <tr>\n",
              "      <th>min</th>\n",
              "      <td>0.000000</td>\n",
              "      <td>12.010000</td>\n",
              "      <td>7.210000</td>\n",
              "    </tr>\n",
              "    <tr>\n",
              "      <th>25%</th>\n",
              "      <td>0.000000</td>\n",
              "      <td>575.270000</td>\n",
              "      <td>215.140000</td>\n",
              "    </tr>\n",
              "    <tr>\n",
              "      <th>50%</th>\n",
              "      <td>1.000000</td>\n",
              "      <td>1151.960000</td>\n",
              "      <td>486.150000</td>\n",
              "    </tr>\n",
              "    <tr>\n",
              "      <th>75%</th>\n",
              "      <td>1.000000</td>\n",
              "      <td>1635.300000</td>\n",
              "      <td>795.100000</td>\n",
              "    </tr>\n",
              "    <tr>\n",
              "      <th>max</th>\n",
              "      <td>1.000000</td>\n",
              "      <td>2091.470000</td>\n",
              "      <td>1759.850000</td>\n",
              "    </tr>\n",
              "  </tbody>\n",
              "</table>\n",
              "</div>"
            ],
            "text/plain": [
              "       online_order    list_price  standard_cost\n",
              "count  10035.000000  10203.000000   10104.000000\n",
              "mean       0.501545   1108.163378     557.809863\n",
              "std        0.500023    581.577621     406.813848\n",
              "min        0.000000     12.010000       7.210000\n",
              "25%        0.000000    575.270000     215.140000\n",
              "50%        1.000000   1151.960000     486.150000\n",
              "75%        1.000000   1635.300000     795.100000\n",
              "max        1.000000   2091.470000    1759.850000"
            ]
          },
          "metadata": {
            "tags": []
          },
          "execution_count": 9
        }
      ]
    },
    {
      "cell_type": "code",
      "metadata": {
        "id": "ElhDFImP7-IR",
        "colab_type": "code",
        "colab": {
          "base_uri": "https://localhost:8080/",
          "height": 34
        },
        "outputId": "4e8e8542-60ce-4a61-9c79-2040476bbab2"
      },
      "source": [
        "#sample size of online order: Yes and No\n",
        "online_order_yes = df1.loc[df1['online_order']==1]\n",
        "online_order_no = df1.loc[df1['online_order']==0]\n",
        "print(online_order_yes.shape,online_order_no.shape)"
      ],
      "execution_count": 10,
      "outputs": [
        {
          "output_type": "stream",
          "text": [
            "(5033, 10) (5002, 10)\n"
          ],
          "name": "stdout"
        }
      ]
    },
    {
      "cell_type": "code",
      "metadata": {
        "id": "DiI0jJxL89m8",
        "colab_type": "code",
        "colab": {
          "base_uri": "https://localhost:8080/",
          "height": 34
        },
        "outputId": "2c61056b-f3cf-4632-8582-a175c68d956a"
      },
      "source": [
        "#sample size of female and male guests\n",
        "female = df1.loc[df1['gender']=='Female']\n",
        "male = df1.loc[df1['gender']=='Male']\n",
        "print(female.shape,male.shape)"
      ],
      "execution_count": 11,
      "outputs": [
        {
          "output_type": "stream",
          "text": [
            "(5186, 10) (5017, 10)\n"
          ],
          "name": "stdout"
        }
      ]
    },
    {
      "cell_type": "code",
      "metadata": {
        "id": "0DUUohZF9QsK",
        "colab_type": "code",
        "colab": {
          "base_uri": "https://localhost:8080/",
          "height": 142
        },
        "outputId": "60c73957-d6a3-4fd2-d84a-b7c2ada6d681"
      },
      "source": [
        "df1.groupby('gender').agg({'list_price':'mean'})"
      ],
      "execution_count": 12,
      "outputs": [
        {
          "output_type": "execute_result",
          "data": {
            "text/html": [
              "<div>\n",
              "<style scoped>\n",
              "    .dataframe tbody tr th:only-of-type {\n",
              "        vertical-align: middle;\n",
              "    }\n",
              "\n",
              "    .dataframe tbody tr th {\n",
              "        vertical-align: top;\n",
              "    }\n",
              "\n",
              "    .dataframe thead th {\n",
              "        text-align: right;\n",
              "    }\n",
              "</style>\n",
              "<table border=\"1\" class=\"dataframe\">\n",
              "  <thead>\n",
              "    <tr style=\"text-align: right;\">\n",
              "      <th></th>\n",
              "      <th>list_price</th>\n",
              "    </tr>\n",
              "    <tr>\n",
              "      <th>gender</th>\n",
              "      <th></th>\n",
              "    </tr>\n",
              "  </thead>\n",
              "  <tbody>\n",
              "    <tr>\n",
              "      <th>Female</th>\n",
              "      <td>1099.758299</td>\n",
              "    </tr>\n",
              "    <tr>\n",
              "      <th>Male</th>\n",
              "      <td>1116.851587</td>\n",
              "    </tr>\n",
              "  </tbody>\n",
              "</table>\n",
              "</div>"
            ],
            "text/plain": [
              "         list_price\n",
              "gender             \n",
              "Female  1099.758299\n",
              "Male    1116.851587"
            ]
          },
          "metadata": {
            "tags": []
          },
          "execution_count": 12
        }
      ]
    },
    {
      "cell_type": "code",
      "metadata": {
        "id": "f7fW5YNmAQWw",
        "colab_type": "code",
        "colab": {
          "base_uri": "https://localhost:8080/",
          "height": 142
        },
        "outputId": "cbf14584-f5f9-46d7-e2f0-e9b3160cfebf"
      },
      "source": [
        "#online itmes are cheaper\n",
        "df1.groupby('online_order').agg({'list_price':'mean','standard_cost':'mean'})"
      ],
      "execution_count": 13,
      "outputs": [
        {
          "output_type": "execute_result",
          "data": {
            "text/html": [
              "<div>\n",
              "<style scoped>\n",
              "    .dataframe tbody tr th:only-of-type {\n",
              "        vertical-align: middle;\n",
              "    }\n",
              "\n",
              "    .dataframe tbody tr th {\n",
              "        vertical-align: top;\n",
              "    }\n",
              "\n",
              "    .dataframe thead th {\n",
              "        text-align: right;\n",
              "    }\n",
              "</style>\n",
              "<table border=\"1\" class=\"dataframe\">\n",
              "  <thead>\n",
              "    <tr style=\"text-align: right;\">\n",
              "      <th></th>\n",
              "      <th>list_price</th>\n",
              "      <th>standard_cost</th>\n",
              "    </tr>\n",
              "    <tr>\n",
              "      <th>online_order</th>\n",
              "      <th></th>\n",
              "      <th></th>\n",
              "    </tr>\n",
              "  </thead>\n",
              "  <tbody>\n",
              "    <tr>\n",
              "      <th>0.0</th>\n",
              "      <td>1111.816885</td>\n",
              "      <td>560.888414</td>\n",
              "    </tr>\n",
              "    <tr>\n",
              "      <th>1.0</th>\n",
              "      <td>1103.788935</td>\n",
              "      <td>555.280286</td>\n",
              "    </tr>\n",
              "  </tbody>\n",
              "</table>\n",
              "</div>"
            ],
            "text/plain": [
              "               list_price  standard_cost\n",
              "online_order                            \n",
              "0.0           1111.816885     560.888414\n",
              "1.0           1103.788935     555.280286"
            ]
          },
          "metadata": {
            "tags": []
          },
          "execution_count": 13
        }
      ]
    },
    {
      "cell_type": "code",
      "metadata": {
        "id": "-cxuXzTxBdjD",
        "colab_type": "code",
        "colab": {
          "base_uri": "https://localhost:8080/",
          "height": 297
        },
        "outputId": "289ce758-b43c-4e1e-8127-01f0246c7b41"
      },
      "source": [
        "sns.barplot(x='online_order',y='gender',data=df1)"
      ],
      "execution_count": 14,
      "outputs": [
        {
          "output_type": "execute_result",
          "data": {
            "text/plain": [
              "<matplotlib.axes._subplots.AxesSubplot at 0x7f63f1123588>"
            ]
          },
          "metadata": {
            "tags": []
          },
          "execution_count": 14
        },
        {
          "output_type": "display_data",
          "data": {
            "image/png": "[encoded data removed]",
            "text/plain": [
              "<Figure size 432x288 with 1 Axes>"
            ]
          },
          "metadata": {
            "tags": [],
            "needs_background": "light"
          }
        }
      ]
    },
    {
      "cell_type": "code",
      "metadata": {
        "id": "v4srwYVJHldG",
        "colab_type": "code",
        "colab": {
          "base_uri": "https://localhost:8080/",
          "height": 345
        },
        "outputId": "bc41a175-e884-4967-9433-e78e61ae52be"
      },
      "source": [
        "df1['brand'].value_counts().plot(kind='bar')"
      ],
      "execution_count": 15,
      "outputs": [
        {
          "output_type": "execute_result",
          "data": {
            "text/plain": [
              "<matplotlib.axes._subplots.AxesSubplot at 0x7f63f0bf1518>"
            ]
          },
          "metadata": {
            "tags": []
          },
          "execution_count": 15
        },
        {
          "output_type": "display_data",
          "data": {
            "image/png": "[encoded data removed]",
            "text/plain": [
              "<Figure size 432x288 with 1 Axes>"
            ]
          },
          "metadata": {
            "tags": [],
            "needs_background": "light"
          }
        }
      ]
    },
    {
      "cell_type": "code",
      "metadata": {
        "id": "LWe5lvM1Hwps",
        "colab_type": "code",
        "colab": {
          "base_uri": "https://localhost:8080/",
          "height": 334
        },
        "outputId": "f087a502-bcd3-491f-b672-0587eedf1e04"
      },
      "source": [
        "plt.figure(figsize=(12,5))\n",
        "sns.countplot(x='gender', hue='online_order',data=df)\n",
        "plt.show()"
      ],
      "execution_count": 16,
      "outputs": [
        {
          "output_type": "display_data",
          "data": {
            "image/png": "[encoded data removed]",
            "text/plain": [
              "<Figure size 864x360 with 1 Axes>"
            ]
          },
          "metadata": {
            "tags": [],
            "needs_background": "light"
          }
        }
      ]
    },
    {
      "cell_type": "markdown",
      "metadata": {
        "id": "VAvu6Xg02-Gi",
        "colab_type": "text"
      },
      "source": [
        "# Descriptive Statistics"
      ]
    },
    {
      "cell_type": "markdown",
      "metadata": {
        "id": "FFu3NMlF7eWs",
        "colab_type": "text"
      },
      "source": [
        "Questions: \n",
        "1. Do men have higher buying power than women?\n",
        "2. What's the most popular brand among the two groups: women and men?\n",
        "3. What's the most popular brand among the women and men who have high power?\n",
        "\n",
        "- Note: list_price higher than the mean is considered as high buying power\n",
        "- the average list price is 1108"
      ]
    },
    {
      "cell_type": "markdown",
      "metadata": {
        "id": "7I4kV5fHVRjH",
        "colab_type": "text"
      },
      "source": [
        "###Which group has the highest buying power?"
      ]
    },
    {
      "cell_type": "code",
      "metadata": {
        "id": "nSZRV_h8IW27",
        "colab_type": "code",
        "colab": {
          "base_uri": "https://localhost:8080/",
          "height": 85
        },
        "outputId": "68419c97-3777-4283-c4bc-4d64c5a04f36"
      },
      "source": [
        "df1.columns"
      ],
      "execution_count": 17,
      "outputs": [
        {
          "output_type": "execute_result",
          "data": {
            "text/plain": [
              "Index(['gender', 'transaction_date', 'online_order', 'order_status', 'brand',\n",
              "       'product_line', 'product_class', 'product_size', 'list_price',\n",
              "       'standard_cost'],\n",
              "      dtype='object')"
            ]
          },
          "metadata": {
            "tags": []
          },
          "execution_count": 17
        }
      ]
    },
    {
      "cell_type": "code",
      "metadata": {
        "id": "JHTHQJyG8FDq",
        "colab_type": "code",
        "colab": {}
      },
      "source": [
        "#split the df1 into groups: male and female\n",
        "male = df1[df1['gender']=='Male']\n",
        "female=df1[df1['gender']=='Female']"
      ],
      "execution_count": 18,
      "outputs": []
    },
    {
      "cell_type": "code",
      "metadata": {
        "id": "c_3JgARL8VFQ",
        "colab_type": "code",
        "colab": {}
      },
      "source": [
        "#split the df1 into two groups with high buying power\n",
        "male1 = df1[(df1.gender == 'Male') & (df1.list_price > 1108)]\n",
        "female1 = df1[(df1.gender == 'Female') & (df1.list_price > 1108)]"
      ],
      "execution_count": 19,
      "outputs": []
    },
    {
      "cell_type": "code",
      "metadata": {
        "id": "HQYXB9N_6bWl",
        "colab_type": "code",
        "colab": {
          "base_uri": "https://localhost:8080/",
          "height": 34
        },
        "outputId": "c010685c-239c-4c68-d2c6-b0fc15d2dd06"
      },
      "source": [
        "print (np.shape(male1), np.shape(male))"
      ],
      "execution_count": 20,
      "outputs": [
        {
          "output_type": "stream",
          "text": [
            "(2697, 10) (5017, 10)\n"
          ],
          "name": "stdout"
        }
      ]
    },
    {
      "cell_type": "code",
      "metadata": {
        "id": "2hPodUUV67bZ",
        "colab_type": "code",
        "colab": {
          "base_uri": "https://localhost:8080/",
          "height": 34
        },
        "outputId": "06be55eb-e2a0-4409-956a-031cf5921f1a"
      },
      "source": [
        "print (np.shape(female1), np.shape(female))"
      ],
      "execution_count": 21,
      "outputs": [
        {
          "output_type": "stream",
          "text": [
            "(2741, 10) (5186, 10)\n"
          ],
          "name": "stdout"
        }
      ]
    },
    {
      "cell_type": "code",
      "metadata": {
        "id": "C4JMPoyO8qyp",
        "colab_type": "code",
        "colab": {}
      },
      "source": [
        "#people who have the high buying power among the entire dataset\n",
        "df2 = df1[df1.list_price > 1108]"
      ],
      "execution_count": 22,
      "outputs": []
    },
    {
      "cell_type": "code",
      "metadata": {
        "id": "p5a-oRv68t6F",
        "colab_type": "code",
        "colab": {
          "base_uri": "https://localhost:8080/",
          "height": 68
        },
        "outputId": "c978830a-93c2-4795-d606-1a5f3eb013e8"
      },
      "source": [
        "print ('The rate of people with high buying power is: ',\n",
        "    int(len(df2) / float(len(df1)) * 100), '%.')\n",
        "print('The rate of men with high buying power is: ',\n",
        "      int(len(male1)/float(len(male)) * 100), '%,')\n",
        "print('The rate of men with high buying power is: ',\n",
        "      int(len(female1)/float(len(female)) * 100), '%,')"
      ],
      "execution_count": 23,
      "outputs": [
        {
          "output_type": "stream",
          "text": [
            "The rate of people with high buying power is:  53 %.\n",
            "The rate of men with high buying power is:  53 %,\n",
            "The rate of men with high buying power is:  52 %,\n"
          ],
          "name": "stdout"
        }
      ]
    },
    {
      "cell_type": "markdown",
      "metadata": {
        "id": "w2I784miVMMu",
        "colab_type": "text"
      },
      "source": [
        "###What's the most popular brand among all the people regardless of their buying power."
      ]
    },
    {
      "cell_type": "code",
      "metadata": {
        "id": "Vvpalzwv5ok8",
        "colab_type": "code",
        "colab": {
          "base_uri": "https://localhost:8080/",
          "height": 136
        },
        "outputId": "96e7f017-ad68-477f-940c-e51ffab31d41"
      },
      "source": [
        "df1['brand'].value_counts()"
      ],
      "execution_count": 24,
      "outputs": [
        {
          "output_type": "execute_result",
          "data": {
            "text/plain": [
              "Solex             2204\n",
              "Giant Bicycles    1654\n",
              "WeareA2B          1618\n",
              "OHM Cycles        1571\n",
              "Trek Bicycles     1547\n",
              "Norco Bicycles    1510\n",
              "Name: brand, dtype: int64"
            ]
          },
          "metadata": {
            "tags": []
          },
          "execution_count": 24
        }
      ]
    },
    {
      "cell_type": "code",
      "metadata": {
        "id": "cKjVjHseVlz0",
        "colab_type": "code",
        "colab": {}
      },
      "source": [
        "solex = df1[df1.brand == 'Solex']\n",
        "giant_bicycles = df1[df1.brand == 'Giant Bicycles']\n",
        "weareA2B = df1[df1.brand == 'WeareA2B']\n",
        "OHM_cycles = df1[df1.brand == 'OHM Cycles']\n",
        "trek_bicycles = df1[df1.brand == 'Trek Bicycles']\n",
        "norco_bicycles = df1[df1.brand == 'Norco Bicycles']"
      ],
      "execution_count": 25,
      "outputs": []
    },
    {
      "cell_type": "code",
      "metadata": {
        "id": "XUVUZqf6VsZN",
        "colab_type": "code",
        "colab": {
          "base_uri": "https://localhost:8080/",
          "height": 119
        },
        "outputId": "6d4c5eaa-cee3-447b-a59f-f5806a83b1e9"
      },
      "source": [
        "print ('The rate of Solex is: ', round((len(solex)/len(df1))*100,2), '%. This is the most popular brand among all the people')\n",
        "print ('The rate of Giant Bicycles is: ', round(len(giant_bicycles)/len(df1)*100,2), '%.')\n",
        "print ('The rate of WeareA2B is: ',\n",
        "       round(len(weareA2B)/len(df1)*100,2), '%.')\n",
        "print ('The rate of OHM Cycles is: ',\n",
        "       round(len(OHM_cycles)/len(df1)*100,2), '%.')\n",
        "print ('The rate of Trek Bicycles is: ',\n",
        "       round(len(trek_bicycles)/len(df1)*100,2), '%.')\n",
        "print ('The rate of Norco Bicycles is: ',\n",
        "       round(len(norco_bicycles)/len(df1)*100,2), '%.')"
      ],
      "execution_count": 26,
      "outputs": [
        {
          "output_type": "stream",
          "text": [
            "The rate of solex is:  21.6 %. This is the most popular brand among all the people\n",
            "The rate of Giant Bicycles is:  16.21 %.\n",
            "The rate of WeareA2B is:  15.86 %.\n",
            "The rate of OHM Cycles is:  15.4 %.\n",
            "The rate of Trek Bicycles is:  15.16 %.\n",
            "The rate of Norco Bicycles is:  14.8 %.\n"
          ],
          "name": "stdout"
        }
      ]
    },
    {
      "cell_type": "code",
      "metadata": {
        "id": "LfvZo73CXJtb",
        "colab_type": "code",
        "colab": {}
      },
      "source": [
        "#find the most popular brand between women and men of the entire dataset\n",
        "#Solex\n",
        "solex_m = solex[solex.gender == 'Male']\n",
        "solex_f = solex[solex.gender == 'Female']\n",
        "#Giant Bicycles\n",
        "giant_bicycles_m = giant_bicycles[giant_bicycles.gender == 'Male']\n",
        "giant_bicycles_f = giant_bicycles[giant_bicycles.gender == 'Female']\n",
        "#WeareA2B\n",
        "weareA2B_m = weareA2B[weareA2B.gender == 'Male']\n",
        "weareA2B_f = weareA2B[weareA2B.gender == 'Female']\n",
        "#OHM_cycles\n",
        "OHM_cycles_m = OHM_cycles[OHM_cycles.gender == 'Male']\n",
        "OHM_cycles_f = OHM_cycles[OHM_cycles.gender == 'Female']\n",
        "#trek bicycles\n",
        "trek_bicyles_m = trek_bicycles[trek_bicycles.gender == 'Male']\n",
        "trek_bicyles_f = trek_bicycles[trek_bicycles.gender == 'Female']\n",
        "#Norco Bicycles\n",
        "norco_bicycles_m = norco_bicycles[norco_bicycles.gender == 'Male']\n",
        "norco_bicycles_f = norco_bicycles[norco_bicycles.gender == 'Female']"
      ],
      "execution_count": 27,
      "outputs": []
    },
    {
      "cell_type": "code",
      "metadata": {
        "id": "my6R0ZAfaxBg",
        "colab_type": "code",
        "colab": {
          "base_uri": "https://localhost:8080/",
          "height": 68
        },
        "outputId": "7e5cd765-ecc3-459b-9a2a-4f5ef511fc5b"
      },
      "source": [
        "print('The percent of men like Solex is: ', round(len(solex_m)/len(solex)*100,2), '%.')\n",
        "print('The percent of women like Solex is: ', round(len(solex_f)/len(solex)*100,2), '%.')\n",
        "print ('More women like Solex than men.')"
      ],
      "execution_count": 32,
      "outputs": [
        {
          "output_type": "stream",
          "text": [
            "The percent of men like Solex is:  48.68 %.\n",
            "The percent of women like Solex is:  51.32 %.\n",
            "More women like Solex than men.\n"
          ],
          "name": "stdout"
        }
      ]
    },
    {
      "cell_type": "code",
      "metadata": {
        "id": "6os-nh9oGLey",
        "colab_type": "code",
        "colab": {
          "base_uri": "https://localhost:8080/",
          "height": 68
        },
        "outputId": "d314a90a-2705-470d-f0ad-7793b9c90dda"
      },
      "source": [
        "#\n",
        "print('The percent of men like Giant Bicycles is: ', round(len(giant_bicycles_m)/len(giant_bicycles)*100,2), '%.')\n",
        "print('The percent of women like Giant Bicycles is: ', round(len(giant_bicycles_f)/len(giant_bicycles)*100,2), '%.')\n",
        "print ('More women like Giant Bicycles than men.')\n"
      ],
      "execution_count": 34,
      "outputs": [
        {
          "output_type": "stream",
          "text": [
            "The percent of men like Giant Bicycles is:  49.76 %.\n",
            "The percent of women like Giant Bicycles is:  50.24 %.\n",
            "More women like Giant Bicycles than men.\n"
          ],
          "name": "stdout"
        }
      ]
    },
    {
      "cell_type": "code",
      "metadata": {
        "id": "foZ-yXQPM_6T",
        "colab_type": "code",
        "colab": {
          "base_uri": "https://localhost:8080/",
          "height": 68
        },
        "outputId": "9b729025-f210-4ca3-e5df-32448d18e908"
      },
      "source": [
        "print('The percent of men like WeareA2B is: ', round(len(weareA2B_m)/len(weareA2B)*100,2), '%.')\n",
        "print('The percent of women like WeareA2B is: ', round(len(weareA2B_f)/len(weareA2B)*100,2), '%.')\n",
        "print ('More women like WeareA2B than men.')\n"
      ],
      "execution_count": 35,
      "outputs": [
        {
          "output_type": "stream",
          "text": [
            "The percent of men like WeareA2B is:  48.7 %.\n",
            "The percent of women like WeareA2B is:  51.3 %.\n",
            "More women like WeareA2B than men.\n"
          ],
          "name": "stdout"
        }
      ]
    },
    {
      "cell_type": "code",
      "metadata": {
        "id": "AEMjZAA4M01l",
        "colab_type": "code",
        "colab": {
          "base_uri": "https://localhost:8080/",
          "height": 68
        },
        "outputId": "4a350b35-8a44-48de-df52-f6503c6dea53"
      },
      "source": [
        "#\n",
        "print('The percent of men like OHM Cycles is: ', round(len(OHM_cycles_m)/len(OHM_cycles)*100,2), '%.')\n",
        "print('The percent of women like OHM Cycles is: ', round(len(OHM_cycles_f)/len(OHM_cycles)*100,2), '%.')\n",
        "print ('More women like OHM Cycles than men.')"
      ],
      "execution_count": 33,
      "outputs": [
        {
          "output_type": "stream",
          "text": [
            "The percent of men like OHM Cycles is:  49.01 %.\n",
            "The percent of women like OHM Cycles is:  50.99 %.\n",
            "More women like OHM Cycles than men.\n"
          ],
          "name": "stdout"
        }
      ]
    },
    {
      "cell_type": "code",
      "metadata": {
        "id": "_zcqXYhXM2SQ",
        "colab_type": "code",
        "colab": {
          "base_uri": "https://localhost:8080/",
          "height": 51
        },
        "outputId": "41337877-69ae-4766-ca89-0e183d048fe0"
      },
      "source": [
        "print('The percent of men like Trek Bicycles is: ', round(len(trek_bicyles_m)/len(trek_bicycles)*100,2), '%.')\n",
        "print('The percent of women like Trek Bicycles is: ', round(len(trek_bicyles_f)/len(trek_bicycles)*100,2), '%.')"
      ],
      "execution_count": 36,
      "outputs": [
        {
          "output_type": "stream",
          "text": [
            "The percent of men like Trek Bicycles is:  48.87 %.\n",
            "The percent of women like Trek Bicycles is:  51.13 %.\n"
          ],
          "name": "stdout"
        }
      ]
    },
    {
      "cell_type": "code",
      "metadata": {
        "id": "Wv5-5--4Ny6r",
        "colab_type": "code",
        "colab": {
          "base_uri": "https://localhost:8080/",
          "height": 68
        },
        "outputId": "863d9ac0-8f66-49a7-926a-28673f2a9da0"
      },
      "source": [
        "print('The percent of men like Norco Bicycles is: ', round(len(norco_bicycles_m)/len(norco_bicycles)*100,2), '%.')\n",
        "print('The percent of women like Norco Bicycles is: ', round(len(norco_bicycles_f)/len(norco_bicycles)*100,2), '%.')\n",
        "print ('This is the only item that more men purchased than women!!!!!')"
      ],
      "execution_count": 38,
      "outputs": [
        {
          "output_type": "stream",
          "text": [
            "The percent of men like Norco Bicycles is:  50.07 %.\n",
            "The percent of women like Norco Bicycles is:  49.93 %.\n",
            "This is the only item that more men purchased than women!!!!!\n"
          ],
          "name": "stdout"
        }
      ]
    },
    {
      "cell_type": "markdown",
      "metadata": {
        "id": "XoratHmrORg8",
        "colab_type": "text"
      },
      "source": [
        "###Among the people who have high buying power, what do they like to buy?"
      ]
    },
    {
      "cell_type": "code",
      "metadata": {
        "id": "mSC70cshN-eD",
        "colab_type": "code",
        "colab": {
          "base_uri": "https://localhost:8080/",
          "height": 136
        },
        "outputId": "9760f237-634b-4215-930d-14fdc996859f"
      },
      "source": [
        "df2['brand'].value_counts()"
      ],
      "execution_count": 39,
      "outputs": [
        {
          "output_type": "execute_result",
          "data": {
            "text/plain": [
              "WeareA2B          1174\n",
              "Giant Bicycles    1161\n",
              "Solex             1017\n",
              "Trek Bicycles      743\n",
              "OHM Cycles         689\n",
              "Norco Bicycles     601\n",
              "Name: brand, dtype: int64"
            ]
          },
          "metadata": {
            "tags": []
          },
          "execution_count": 39
        }
      ]
    },
    {
      "cell_type": "code",
      "metadata": {
        "id": "5nZGbO9IOwAo",
        "colab_type": "code",
        "colab": {}
      },
      "source": [
        "df2_solex = df2[df2.brand == 'Solex']\n",
        "df2_giant_bicycles = df2[df2.brand == 'Giant Bicycles']\n",
        "df2_weareA2B = df2[df2.brand == 'WeareA2B']\n",
        "df2_OHM_cycles = df2[df2.brand == 'OHM Cycles']\n",
        "df2_trek_bicycles = df2[df2.brand == 'Trek Bicycles']\n",
        "df2_norco_bicycles = df2[df2.brand == 'Norco Bicycles']"
      ],
      "execution_count": 40,
      "outputs": []
    },
    {
      "cell_type": "code",
      "metadata": {
        "id": "hCSXQxP2PUn-",
        "colab_type": "code",
        "colab": {}
      },
      "source": [
        "#find the most popular brand between women and men of people who have high buying power\n",
        "#Solex\n",
        "df2_solex_m = df2_solex[df2_solex.gender == 'Male']\n",
        "df2_solex_f = df2_solex[df2_solex.gender == 'Female']\n",
        "#Giant Bicycles\n",
        "df2_giant_bicycles_m = df2_giant_bicycles[df2_giant_bicycles.gender == 'Male']\n",
        "df2_giant_bicycles_f = df2_giant_bicycles[df2_giant_bicycles.gender == 'Female']\n",
        "#WeareA2B\n",
        "df2_weareA2B_m = df2_weareA2B[df2_weareA2B.gender == 'Male']\n",
        "df2_weareA2B_f = df2_weareA2B[df2_weareA2B.gender == 'Female']\n",
        "#OHM_cycles\n",
        "df2_OHM_cycles_m = df2_OHM_cycles[df2_OHM_cycles.gender == 'Male']\n",
        "df2_OHM_cycles_f = df2_OHM_cycles[df2_OHM_cycles.gender == 'Female']\n",
        "#trek bicycles\n",
        "df2_trek_bicyles_m = df2_trek_bicycles[df2_trek_bicycles.gender == 'Male']\n",
        "df2_trek_bicyles_f = df2_trek_bicycles[df2_trek_bicycles.gender == 'Female']\n",
        "#Norco Bicycles\n",
        "df2_norco_bicycles_m = df2_norco_bicycles[df2_norco_bicycles.gender == 'Male']\n",
        "df2_norco_bicycles_f = df2_norco_bicycles[df2_norco_bicycles.gender == 'Female']"
      ],
      "execution_count": 46,
      "outputs": []
    },
    {
      "cell_type": "code",
      "metadata": {
        "id": "NpigfNlAP3P8",
        "colab_type": "code",
        "colab": {
          "base_uri": "https://localhost:8080/",
          "height": 51
        },
        "outputId": "e6ae2b21-90a4-4aac-b97c-ed397f693084"
      },
      "source": [
        "#solex\n",
        "print('The percent of men purchased Solex is: ', round(len(df2_solex_m)/len(df2_solex)*100,2), '%.')\n",
        "print('The percent of women purchased Solex is: ', round(len(df2_solex_f)/len(df2_solex)*100,2), '%.')\n",
        "print ('More men purchased Giant Bicycles than women.')"
      ],
      "execution_count": 47,
      "outputs": [
        {
          "output_type": "stream",
          "text": [
            "The percent of men purchased Solex is:  50.64 %.\n",
            "The percent of women purchased Solex is:  49.36 %.\n"
          ],
          "name": "stdout"
        }
      ]
    },
    {
      "cell_type": "code",
      "metadata": {
        "id": "02KS0DWoYMPM",
        "colab_type": "code",
        "colab": {
          "base_uri": "https://localhost:8080/",
          "height": 68
        },
        "outputId": "a20dcf38-58df-423e-c9e1-65a5d103cb96"
      },
      "source": [
        "#Giant Bicycles\n",
        "print('The percent of men like Giant Bicycles is: ', round(len(df2_giant_bicycles_m)/len(df2_giant_bicycles)*100,2), '%.')\n",
        "print('The percent of women like Giant Bicycles is: ', round(len(df2_giant_bicycles_f)/len(df2_giant_bicycles)*100,2), '%.')\n",
        "print ('More men purchased Giant Bicycles than women.')"
      ],
      "execution_count": 48,
      "outputs": [
        {
          "output_type": "stream",
          "text": [
            "The percent of men like Giant Bicycles is:  50.04 %.\n",
            "The percent of women like Giant Bicycles is:  49.96 %.\n",
            "More women like Giant Bicycles than men.\n"
          ],
          "name": "stdout"
        }
      ]
    },
    {
      "cell_type": "code",
      "metadata": {
        "id": "sABhRtZPbzMw",
        "colab_type": "code",
        "colab": {
          "base_uri": "https://localhost:8080/",
          "height": 68
        },
        "outputId": "cd35c3d5-c305-462f-d3f7-a6a1fc3cf4f6"
      },
      "source": [
        "#WeareA2B\n",
        "print('The percent of men like WeareA2B is: ', round(len(df2_weareA2B_m)/len(df2_weareA2B)*100,2), '%.')\n",
        "print('The percent of women like WeareA2B is: ', round(len(df2_weareA2B_f)/len(df2_weareA2B)*100,2), '%.')\n",
        "print ('More women purchased WeareA2B than men.')"
      ],
      "execution_count": 51,
      "outputs": [
        {
          "output_type": "stream",
          "text": [
            "The percent of men like WeareA2B is:  47.96 %.\n",
            "The percent of women like WeareA2B is:  52.04 %.\n",
            "More women purchased WeareA2B than men.\n"
          ],
          "name": "stdout"
        }
      ]
    },
    {
      "cell_type": "code",
      "metadata": {
        "id": "JE1G6rBycLdv",
        "colab_type": "code",
        "colab": {
          "base_uri": "https://localhost:8080/",
          "height": 68
        },
        "outputId": "935b4436-54b4-4465-d17a-dd5f74b0262e"
      },
      "source": [
        "#OHM Cycles\n",
        "print('The percent of men like OHM Cycles is: ', round(len(df2_OHM_cycles_m)/len(df2_OHM_cycles)*100,2), '%.')\n",
        "print('The percent of women like OHM Cycles is: ', round(len(df2_OHM_cycles_f)/len(df2_OHM_cycles)*100,2), '%.')\n",
        "print ('More women like OHM Cycles than men.')"
      ],
      "execution_count": 52,
      "outputs": [
        {
          "output_type": "stream",
          "text": [
            "The percent of men like OHM Cycles is:  49.93 %.\n",
            "The percent of women like OHM Cycles is:  50.07 %.\n",
            "More women like OHM Cycles than men.\n"
          ],
          "name": "stdout"
        }
      ]
    },
    {
      "cell_type": "code",
      "metadata": {
        "id": "waVGUTKAclWe",
        "colab_type": "code",
        "colab": {
          "base_uri": "https://localhost:8080/",
          "height": 68
        },
        "outputId": "bba61539-1cc4-4a97-f32b-1129d10d4a7f"
      },
      "source": [
        "#Trek Bicycles\n",
        "print('The percent of men like Trek Bicycles is: ', round(len(df2_trek_bicyles_m)/len(df2_trek_bicycles)*100,2), '%.')\n",
        "print('The percent of women like Trek Bicycles is: ', round(len(df2_trek_bicyles_f)/len(df2_trek_bicycles)*100,2), '%.')\n",
        "print ('More men like Trek Bicycles than women.')"
      ],
      "execution_count": 55,
      "outputs": [
        {
          "output_type": "stream",
          "text": [
            "The percent of men like Trek Bicycles is:  50.2 %.\n",
            "The percent of women like Trek Bicycles is:  49.8 %.\n",
            "More men like Trek Bicycles than women.\n"
          ],
          "name": "stdout"
        }
      ]
    },
    {
      "cell_type": "code",
      "metadata": {
        "id": "M6tbYFbZcuEO",
        "colab_type": "code",
        "colab": {
          "base_uri": "https://localhost:8080/",
          "height": 68
        },
        "outputId": "4e4646dc-8912-4317-9581-12ed481cf313"
      },
      "source": [
        "#Norco Bicycles\n",
        "print('The percent of men like Norco Bicycles is: ', round(len(df2_norco_bicycles_m)/len(df2_norco_bicycles)*100,2), '%.')\n",
        "print('The percent of women like Norco Bicycles is: ', round(len(df2_norco_bicycles_f)/len(df2_norco_bicycles)*100,2), '%.')\n",
        "print ('More women like Norco Bicycles than men.')"
      ],
      "execution_count": 57,
      "outputs": [
        {
          "output_type": "stream",
          "text": [
            "The percent of men like Norco Bicycles is:  48.92 %.\n",
            "The percent of women like Norco Bicycles is:  51.08 %.\n",
            "More women like Norco Bicycles than men.\n"
          ],
          "name": "stdout"
        }
      ]
    },
    {
      "cell_type": "markdown",
      "metadata": {
        "id": "-Sj-T5SdlOnJ",
        "colab_type": "text"
      },
      "source": [
        "#Conclusion\n",
        "Generally, men have higher buying power than women. However, if we don't consider who has higher buying power, women are more likely to buy all brands except Norco Bicycles and Solex is the most popular brand. If we want to target people who have the highest buying power, their favorite brand is WearA2B. Women who has high buying power like WeareA2B, OHM Cycles, and Norco Bicycls. Men who have high power power like Solex, Giant Bicycles, and Trek Bicycles.\n"
      ]
    },
    {
      "cell_type": "code",
      "metadata": {
        "id": "DjVT2o81lEq_",
        "colab_type": "code",
        "colab": {}
      },
      "source": [
        ""
      ],
      "execution_count": null,
      "outputs": []
    }
  ]
}