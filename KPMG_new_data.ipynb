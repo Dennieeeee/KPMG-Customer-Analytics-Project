{
  "nbformat": 4,
  "nbformat_minor": 0,
  "metadata": {
    "colab": {
      "name": "KPMG_new_data.ipynb",
      "provenance": [],
      "collapsed_sections": [],
      "authorship_tag": "ABX9TyOIjWmbQqpwYmTQljFjBJ6q",
      "include_colab_link": true
    },
    "kernelspec": {
      "name": "python3",
      "display_name": "Python 3"
    }
  },
  "cells": [
    {
      "cell_type": "markdown",
      "metadata": {
        "id": "view-in-github",
        "colab_type": "text"
      },
      "source": [
        "<a href=\"https://colab.research.google.com/github/Dennieeeee/KPMG-virtual-internship/blob/master/KPMG_new_data.ipynb\" target=\"_parent\"><img src=\"https://colab.research.google.com/assets/colab-badge.svg\" alt=\"Open In Colab\"/></a>"
      ]
    },
    {
      "cell_type": "markdown",
      "metadata": {
        "id": "xQYoOtMBQ75c",
        "colab_type": "text"
      },
      "source": [
        "# Overview:\n",
        "This dataset contains variables gender, transaction_date, online_order order_status, brand, product_line, product_class, product_size, list_price,  standard_cost.\n",
        "\n",
        "Business question is to target the right customer for each brand.\n"
      ]
    },
    {
      "cell_type": "code",
      "metadata": {
        "id": "UCpxX7gyxJCQ",
        "colab_type": "code",
        "colab": {}
      },
      "source": [
        "import pandas as pd\n",
        "import numpy as np\n",
        "import matplotlib.pyplot as plt\n",
        "import seaborn as sns\n",
        "%matplotlib inline\n",
        "import datetime\n",
        "from pylab import rcParams\n",
        "\n",
        "# Fit the ARIMA model\n",
        "from statsmodels.tsa.arima_model import ARIMA\n",
        "from pandas import DataFrame\n",
        "from matplotlib import pyplot\n",
        "\n",
        "from pandas import read_csv\n",
        "import statsmodels\n",
        "from statsmodels.tsa.stattools import adfuller\n",
        "import statsmodels.api as sm"
      ],
      "execution_count": null,
      "outputs": []
    },
    {
      "cell_type": "code",
      "metadata": {
        "id": "vh2pRnDl74Vk",
        "colab_type": "code",
        "colab": {}
      },
      "source": [
        "df = pd.read_csv('https://raw.githubusercontent.com/Dennieeeee/KPMG-virtual-internship/master/KPMG_data2.csv')"
      ],
      "execution_count": null,
      "outputs": []
    },
    {
      "cell_type": "code",
      "metadata": {
        "id": "4t1B1zoD8q2s",
        "colab_type": "code",
        "colab": {}
      },
      "source": [
        "new = pd.read_csv('https://raw.githubusercontent.com/Dennieeeee/KPMG-virtual-internship/master/NewCustomerList.csv')"
      ],
      "execution_count": null,
      "outputs": []
    },
    {
      "cell_type": "markdown",
      "metadata": {
        "id": "PnHnWiYay8Pv",
        "colab_type": "text"
      },
      "source": [
        "# Preparing the Dataset"
      ]
    },
    {
      "cell_type": "code",
      "metadata": {
        "id": "J2ufvhacy7Vw",
        "colab_type": "code",
        "colab": {
          "base_uri": "https://localhost:8080/",
          "height": 170
        },
        "outputId": "4aaacd64-3ed5-4adb-a93a-2b7523ad3c9b"
      },
      "source": [
        "df.columns"
      ],
      "execution_count": null,
      "outputs": [
        {
          "output_type": "execute_result",
          "data": {
            "text/plain": [
              "Index(['transaction_id', 'product_id', 'customer_id', 'transaction_date',\n",
              "       'online_order', 'order_status', 'brand', 'product_line',\n",
              "       'product_class', 'product_size', 'list_price', 'standard_cost',\n",
              "       'product_first_sold_date', 'first_name', 'last_name', 'gender',\n",
              "       'past_3_years_bike_related_purchases', 'DOB', 'job_title',\n",
              "       'job_industry_category', 'wealth_segment', 'deceased_indicator',\n",
              "       'default', 'owns_car', 'tenure', 'address', 'postcode', 'state',\n",
              "       'country', 'property_valuation'],\n",
              "      dtype='object')"
            ]
          },
          "metadata": {
            "tags": []
          },
          "execution_count": 5
        }
      ]
    },
    {
      "cell_type": "code",
      "metadata": {
        "id": "hV7T785jSWE6",
        "colab_type": "code",
        "colab": {}
      },
      "source": [
        "features_drop = ['transaction_id', 'product_id', 'customer_id','default']\n",
        "df = df.drop(features_drop, axis=1)"
      ],
      "execution_count": null,
      "outputs": []
    },
    {
      "cell_type": "code",
      "metadata": {
        "id": "JEC32YgGbhCk",
        "colab_type": "code",
        "colab": {
          "base_uri": "https://localhost:8080/",
          "height": 119
        },
        "outputId": "95a1e08e-0494-4093-df4e-732313c277dd"
      },
      "source": [
        "print(df.iloc[:,[2,4]].head())"
      ],
      "execution_count": 90,
      "outputs": [
        {
          "output_type": "stream",
          "text": [
            "  order_status product_line\n",
            "0     Approved     Standard\n",
            "1     Approved     Standard\n",
            "2     Approved     Standard\n",
            "3     Approved     Standard\n",
            "4     Approved     Standard\n"
          ],
          "name": "stdout"
        }
      ]
    },
    {
      "cell_type": "code",
      "metadata": {
        "id": "oyM4fTro2X2H",
        "colab_type": "code",
        "colab": {
          "base_uri": "https://localhost:8080/",
          "height": 34
        },
        "outputId": "261cd7d4-8514-417a-e32e-d7ddc63caa54"
      },
      "source": [
        "df.shape"
      ],
      "execution_count": null,
      "outputs": [
        {
          "output_type": "execute_result",
          "data": {
            "text/plain": [
              "(19968, 26)"
            ]
          },
          "metadata": {
            "tags": []
          },
          "execution_count": 7
        }
      ]
    },
    {
      "cell_type": "code",
      "metadata": {
        "id": "_ySIABg39Uvz",
        "colab_type": "code",
        "colab": {
          "base_uri": "https://localhost:8080/",
          "height": 151
        },
        "outputId": "fb958a27-7afd-4475-a5ac-b818348d852f"
      },
      "source": [
        "new.head(1)"
      ],
      "execution_count": null,
      "outputs": [
        {
          "output_type": "execute_result",
          "data": {
            "text/html": [
              "<div>\n",
              "<style scoped>\n",
              "    .dataframe tbody tr th:only-of-type {\n",
              "        vertical-align: middle;\n",
              "    }\n",
              "\n",
              "    .dataframe tbody tr th {\n",
              "        vertical-align: top;\n",
              "    }\n",
              "\n",
              "    .dataframe thead th {\n",
              "        text-align: right;\n",
              "    }\n",
              "</style>\n",
              "<table border=\"1\" class=\"dataframe\">\n",
              "  <thead>\n",
              "    <tr style=\"text-align: right;\">\n",
              "      <th></th>\n",
              "      <th>first_name</th>\n",
              "      <th>last_name</th>\n",
              "      <th>gender</th>\n",
              "      <th>past_3_years_bike_related_purchases</th>\n",
              "      <th>DOB</th>\n",
              "      <th>job_title</th>\n",
              "      <th>job_industry_category</th>\n",
              "      <th>wealth_segment</th>\n",
              "      <th>deceased_indicator</th>\n",
              "      <th>owns_car</th>\n",
              "      <th>tenure</th>\n",
              "      <th>address</th>\n",
              "      <th>postcode</th>\n",
              "      <th>state</th>\n",
              "      <th>country</th>\n",
              "      <th>property_valuation</th>\n",
              "      <th>Unnamed: 16</th>\n",
              "      <th>Unnamed: 17</th>\n",
              "      <th>Unnamed: 18</th>\n",
              "      <th>Unnamed: 19</th>\n",
              "      <th>Unnamed: 20</th>\n",
              "      <th>Rank</th>\n",
              "      <th>Value</th>\n",
              "    </tr>\n",
              "  </thead>\n",
              "  <tbody>\n",
              "    <tr>\n",
              "      <th>0</th>\n",
              "      <td>Chickie</td>\n",
              "      <td>Brister</td>\n",
              "      <td>Male</td>\n",
              "      <td>86</td>\n",
              "      <td>7/12/1957</td>\n",
              "      <td>General Manager</td>\n",
              "      <td>Manufacturing</td>\n",
              "      <td>Mass Customer</td>\n",
              "      <td>N</td>\n",
              "      <td>Yes</td>\n",
              "      <td>14</td>\n",
              "      <td>45 Shopko Center</td>\n",
              "      <td>4500</td>\n",
              "      <td>QLD</td>\n",
              "      <td>Australia</td>\n",
              "      <td>6</td>\n",
              "      <td>0.97</td>\n",
              "      <td>1.2125</td>\n",
              "      <td>1.515625</td>\n",
              "      <td>1.288281</td>\n",
              "      <td>1</td>\n",
              "      <td>1</td>\n",
              "      <td>1.71875</td>\n",
              "    </tr>\n",
              "  </tbody>\n",
              "</table>\n",
              "</div>"
            ],
            "text/plain": [
              "  first_name last_name gender  ...  Unnamed: 20 Rank    Value\n",
              "0    Chickie   Brister   Male  ...            1    1  1.71875\n",
              "\n",
              "[1 rows x 23 columns]"
            ]
          },
          "metadata": {
            "tags": []
          },
          "execution_count": 8
        }
      ]
    },
    {
      "cell_type": "code",
      "metadata": {
        "id": "OT7Qbq3e9g2u",
        "colab_type": "code",
        "colab": {
          "base_uri": "https://localhost:8080/",
          "height": 136
        },
        "outputId": "8431727d-fa53-4e6b-d26f-b7a99d1aedc5"
      },
      "source": [
        "new.columns"
      ],
      "execution_count": null,
      "outputs": [
        {
          "output_type": "execute_result",
          "data": {
            "text/plain": [
              "Index(['first_name', 'last_name', 'gender',\n",
              "       'past_3_years_bike_related_purchases', 'DOB', 'job_title',\n",
              "       'job_industry_category', 'wealth_segment', 'deceased_indicator',\n",
              "       'owns_car', 'tenure', 'address', 'postcode', 'state', 'country',\n",
              "       'property_valuation', 'Unnamed: 16', 'Unnamed: 17', 'Unnamed: 18',\n",
              "       'Unnamed: 19', 'Unnamed: 20', 'Rank', 'Value'],\n",
              "      dtype='object')"
            ]
          },
          "metadata": {
            "tags": []
          },
          "execution_count": 9
        }
      ]
    },
    {
      "cell_type": "code",
      "metadata": {
        "id": "76VfOgcS9RlJ",
        "colab_type": "code",
        "colab": {}
      },
      "source": [
        "new['DOB'] = pd.to_datetime(new['DOB'])"
      ],
      "execution_count": null,
      "outputs": []
    },
    {
      "cell_type": "code",
      "metadata": {
        "id": "YpvO14Pb9fps",
        "colab_type": "code",
        "colab": {}
      },
      "source": [
        "features_drop = ['Unnamed: 16', 'Unnamed: 17', 'Unnamed: 18','Unnamed: 19', 'Unnamed: 20']\n",
        "new = new.drop(features_drop, axis=1)"
      ],
      "execution_count": null,
      "outputs": []
    },
    {
      "cell_type": "markdown",
      "metadata": {
        "id": "t2sSY13u5jmk",
        "colab_type": "text"
      },
      "source": [
        "### Data Cleansing\n",
        "- Age\n",
        "- Keep data in State and Gender consistent"
      ]
    },
    {
      "cell_type": "code",
      "metadata": {
        "id": "6OZP1bXpW1qS",
        "colab_type": "code",
        "colab": {}
      },
      "source": [
        "#convert transaction date to datetime\n",
        "df['transaction_date'] = pd.to_datetime(df['transaction_date'])"
      ],
      "execution_count": null,
      "outputs": []
    },
    {
      "cell_type": "code",
      "metadata": {
        "id": "N1hccCh62f38",
        "colab_type": "code",
        "colab": {}
      },
      "source": [
        "#convert DOB data type to datetime\n",
        "df['DOB'] = pd.to_datetime(df['DOB'])\n",
        "df['year'] = df['DOB'].dt.year\n",
        "\n",
        "df1 = df[df[\"year\"] > 1941]\n",
        "#According to Google, the average human lifespan is 79 year old.\n",
        "#It makes more sense to target customers who are more likely are still alive\n",
        "#Remove the customers with age over 79."
      ],
      "execution_count": null,
      "outputs": []
    },
    {
      "cell_type": "code",
      "metadata": {
        "id": "Ae-isyZ151_C",
        "colab_type": "code",
        "colab": {
          "base_uri": "https://localhost:8080/",
          "height": 34
        },
        "outputId": "7a83ea38-66df-4bea-9e1a-d515900b35f5"
      },
      "source": [
        "df1['year'].max()"
      ],
      "execution_count": null,
      "outputs": [
        {
          "output_type": "execute_result",
          "data": {
            "text/plain": [
              "2002.0"
            ]
          },
          "metadata": {
            "tags": []
          },
          "execution_count": 14
        }
      ]
    },
    {
      "cell_type": "code",
      "metadata": {
        "id": "TKSjqwpzyX0F",
        "colab_type": "code",
        "colab": {
          "base_uri": "https://localhost:8080/",
          "height": 119
        },
        "outputId": "3e1c2bb2-5b01-401a-ee89-ab0a2fde10d8"
      },
      "source": [
        "df1['gender'].value_counts()"
      ],
      "execution_count": null,
      "outputs": [
        {
          "output_type": "execute_result",
          "data": {
            "text/plain": [
              "Female    9971\n",
              "Male      9500\n",
              "F           11\n",
              "Femal        7\n",
              "M            6\n",
              "Name: gender, dtype: int64"
            ]
          },
          "metadata": {
            "tags": []
          },
          "execution_count": 15
        }
      ]
    },
    {
      "cell_type": "code",
      "metadata": {
        "id": "zgavmrzpXetA",
        "colab_type": "code",
        "colab": {
          "base_uri": "https://localhost:8080/",
          "height": 119
        },
        "outputId": "6ffa75b4-4d90-47e1-dbb5-88f326c4f549"
      },
      "source": [
        "df1['gender'] = df1['gender'].replace({'F':'Female','M':'Male','Femal':'Female'})"
      ],
      "execution_count": null,
      "outputs": [
        {
          "output_type": "stream",
          "text": [
            "/usr/local/lib/python3.6/dist-packages/ipykernel_launcher.py:1: SettingWithCopyWarning: \n",
            "A value is trying to be set on a copy of a slice from a DataFrame.\n",
            "Try using .loc[row_indexer,col_indexer] = value instead\n",
            "\n",
            "See the caveats in the documentation: https://pandas.pydata.org/pandas-docs/stable/user_guide/indexing.html#returning-a-view-versus-a-copy\n",
            "  \"\"\"Entry point for launching an IPython kernel.\n"
          ],
          "name": "stderr"
        }
      ]
    },
    {
      "cell_type": "code",
      "metadata": {
        "id": "y5KxogTPYUXH",
        "colab_type": "code",
        "colab": {
          "base_uri": "https://localhost:8080/",
          "height": 68
        },
        "outputId": "c5eb22cc-066f-495a-d1f3-6658172cbaab"
      },
      "source": [
        "df1['gender'].value_counts()"
      ],
      "execution_count": null,
      "outputs": [
        {
          "output_type": "execute_result",
          "data": {
            "text/plain": [
              "Female    9989\n",
              "Male      9506\n",
              "Name: gender, dtype: int64"
            ]
          },
          "metadata": {
            "tags": []
          },
          "execution_count": 17
        }
      ]
    },
    {
      "cell_type": "code",
      "metadata": {
        "id": "OjKobjmxi8xG",
        "colab_type": "code",
        "colab": {
          "base_uri": "https://localhost:8080/",
          "height": 34
        },
        "outputId": "756bb3b3-a1d4-4bcb-b1c6-1c276b8f82dd"
      },
      "source": [
        "#subset data to people born between 2000 to 1970: age of 20 to 50 \n",
        "df1 = df1[(df1['year'] >= 1970) & (df1['year'] <= 2000)]\n",
        "print(df1.shape)"
      ],
      "execution_count": null,
      "outputs": [
        {
          "output_type": "stream",
          "text": [
            "(13798, 27)\n"
          ],
          "name": "stdout"
        }
      ]
    },
    {
      "cell_type": "code",
      "metadata": {
        "id": "ihFYagnIZEeg",
        "colab_type": "code",
        "colab": {
          "base_uri": "https://localhost:8080/",
          "height": 134
        },
        "outputId": "fec87b97-697f-4293-812e-81c9a69db620"
      },
      "source": [
        "df1.head(1)"
      ],
      "execution_count": null,
      "outputs": [
        {
          "output_type": "execute_result",
          "data": {
            "text/html": [
              "<div>\n",
              "<style scoped>\n",
              "    .dataframe tbody tr th:only-of-type {\n",
              "        vertical-align: middle;\n",
              "    }\n",
              "\n",
              "    .dataframe tbody tr th {\n",
              "        vertical-align: top;\n",
              "    }\n",
              "\n",
              "    .dataframe thead th {\n",
              "        text-align: right;\n",
              "    }\n",
              "</style>\n",
              "<table border=\"1\" class=\"dataframe\">\n",
              "  <thead>\n",
              "    <tr style=\"text-align: right;\">\n",
              "      <th></th>\n",
              "      <th>transaction_date</th>\n",
              "      <th>online_order</th>\n",
              "      <th>order_status</th>\n",
              "      <th>brand</th>\n",
              "      <th>product_line</th>\n",
              "      <th>product_class</th>\n",
              "      <th>product_size</th>\n",
              "      <th>list_price</th>\n",
              "      <th>standard_cost</th>\n",
              "      <th>product_first_sold_date</th>\n",
              "      <th>first_name</th>\n",
              "      <th>last_name</th>\n",
              "      <th>gender</th>\n",
              "      <th>past_3_years_bike_related_purchases</th>\n",
              "      <th>DOB</th>\n",
              "      <th>job_title</th>\n",
              "      <th>job_industry_category</th>\n",
              "      <th>wealth_segment</th>\n",
              "      <th>deceased_indicator</th>\n",
              "      <th>owns_car</th>\n",
              "      <th>tenure</th>\n",
              "      <th>address</th>\n",
              "      <th>postcode</th>\n",
              "      <th>state</th>\n",
              "      <th>country</th>\n",
              "      <th>property_valuation</th>\n",
              "      <th>year</th>\n",
              "    </tr>\n",
              "  </thead>\n",
              "  <tbody>\n",
              "    <tr>\n",
              "      <th>3</th>\n",
              "      <td>2017-05-21</td>\n",
              "      <td>True</td>\n",
              "      <td>Approved</td>\n",
              "      <td>Trek Bicycles</td>\n",
              "      <td>Standard</td>\n",
              "      <td>medium</td>\n",
              "      <td>large</td>\n",
              "      <td>2091.47</td>\n",
              "      <td>$388.92</td>\n",
              "      <td>41701.0</td>\n",
              "      <td>Lauree</td>\n",
              "      <td>O'Donnell</td>\n",
              "      <td>Female</td>\n",
              "      <td>89</td>\n",
              "      <td>1979-02-04</td>\n",
              "      <td>Clinical Specialist</td>\n",
              "      <td>Health</td>\n",
              "      <td>Mass Customer</td>\n",
              "      <td>N</td>\n",
              "      <td>Yes</td>\n",
              "      <td>10.0</td>\n",
              "      <td>4 Shopko Circle</td>\n",
              "      <td>2196</td>\n",
              "      <td>NSW</td>\n",
              "      <td>Australia</td>\n",
              "      <td>5</td>\n",
              "      <td>1979.0</td>\n",
              "    </tr>\n",
              "  </tbody>\n",
              "</table>\n",
              "</div>"
            ],
            "text/plain": [
              "  transaction_date online_order  ... property_valuation    year\n",
              "3       2017-05-21         True  ...                  5  1979.0\n",
              "\n",
              "[1 rows x 27 columns]"
            ]
          },
          "metadata": {
            "tags": []
          },
          "execution_count": 19
        }
      ]
    },
    {
      "cell_type": "code",
      "metadata": {
        "id": "d45RCungZL9H",
        "colab_type": "code",
        "colab": {
          "base_uri": "https://localhost:8080/",
          "height": 1000
        },
        "outputId": "cb774c98-5fd8-444e-813f-70db0e0bd076"
      },
      "source": [
        "print(df1['online_order'].value_counts())\n",
        "print()\n",
        "print(df1['brand'].value_counts())\n",
        "print()\n",
        "print(df1['product_line'].value_counts())\n",
        "print()\n",
        "print(df1['product_class'].value_counts())\n",
        "print()\n",
        "print(df1['job_title'].value_counts())\n",
        "print()\n",
        "print(df1['job_industry_category'].value_counts())\n",
        "print()\n",
        "print(df1['wealth_segment'].value_counts())\n",
        "print()\n",
        "print(df1['deceased_indicator'].value_counts())\n",
        "print()\n",
        "print(df1['owns_car'].value_counts())\n",
        "print()\n",
        "print(df1['state'].value_counts())\n",
        "print()\n",
        "print(df1['country'].value_counts())"
      ],
      "execution_count": null,
      "outputs": [
        {
          "output_type": "stream",
          "text": [
            "True     6807\n",
            "False    6748\n",
            "Name: online_order, dtype: int64\n",
            "\n",
            "Solex             2974\n",
            "Giant Bicycles    2249\n",
            "WeareA2B          2239\n",
            "OHM Cycles        2111\n",
            "Trek Bicycles     2065\n",
            "Norco Bicycles    2025\n",
            "Name: brand, dtype: int64\n",
            "\n",
            "Standard    9757\n",
            "Road        2760\n",
            "Touring      838\n",
            "Mountain     308\n",
            "Name: product_line, dtype: int64\n",
            "\n",
            "medium    9501\n",
            "high      2087\n",
            "low       2075\n",
            "Name: product_class, dtype: int64\n",
            "\n",
            "Nuclear Power Engineer                  167\n",
            "Tax Accountant                          167\n",
            "Executive Secretary                     165\n",
            "Business Systems Development Analyst    163\n",
            "Social Worker                           155\n",
            "                                       ... \n",
            "Media Manager II                         10\n",
            "Account Representative II                 9\n",
            "Web Developer II                          8\n",
            "Programmer Analyst I                      6\n",
            "Geologist II                              2\n",
            "Name: job_title, Length: 192, dtype: int64\n",
            "\n",
            "Financial Services    2817\n",
            "Manufacturing         2781\n",
            "Health                2113\n",
            "Retail                1279\n",
            "Property               850\n",
            "IT                     490\n",
            "Entertainment          483\n",
            "Argiculture            466\n",
            "Telecommunications     230\n",
            "Name: job_industry_category, dtype: int64\n",
            "\n",
            "Mass Customer        6908\n",
            "High Net Worth       3525\n",
            "Affluent Customer    3365\n",
            "Name: wealth_segment, dtype: int64\n",
            "\n",
            "N    13790\n",
            "Y        8\n",
            "Name: deceased_indicator, dtype: int64\n",
            "\n",
            "Yes    6948\n",
            "No     6850\n",
            "Name: owns_car, dtype: int64\n",
            "\n",
            "NSW                7141\n",
            "VIC                3085\n",
            "QLD                3001\n",
            "New South Wales     287\n",
            "Victoria            284\n",
            "Name: state, dtype: int64\n",
            "\n",
            "Australia    13798\n",
            "Name: country, dtype: int64\n"
          ],
          "name": "stdout"
        }
      ]
    },
    {
      "cell_type": "code",
      "metadata": {
        "id": "SE5VbJB2P9Uk",
        "colab_type": "code",
        "colab": {}
      },
      "source": [
        "#change VIC to Victoria in state\n",
        "df1['state'] = df1['state'].replace({'VIC':'Victoria'})"
      ],
      "execution_count": null,
      "outputs": []
    },
    {
      "cell_type": "code",
      "metadata": {
        "id": "l6mm2jr-OY_f",
        "colab_type": "code",
        "colab": {
          "base_uri": "https://localhost:8080/",
          "height": 102
        },
        "outputId": "08a8085f-7aa3-4217-b614-d20f07ebe7ed"
      },
      "source": [
        "df1['state'].value_counts()"
      ],
      "execution_count": null,
      "outputs": [
        {
          "output_type": "execute_result",
          "data": {
            "text/plain": [
              "NSW                7141\n",
              "Victoria           3369\n",
              "QLD                3001\n",
              "New South Wales     287\n",
              "Name: state, dtype: int64"
            ]
          },
          "metadata": {
            "tags": []
          },
          "execution_count": 22
        }
      ]
    },
    {
      "cell_type": "code",
      "metadata": {
        "id": "ElhDFImP7-IR",
        "colab_type": "code",
        "colab": {
          "base_uri": "https://localhost:8080/",
          "height": 34
        },
        "outputId": "daf81914-0c48-4499-dd9c-10db90184dea"
      },
      "source": [
        "#sample size of online order: Yes and No\n",
        "online_order_yes = df1.loc[df1['online_order']==1]\n",
        "online_order_no = df1.loc[df1['online_order']==0]\n",
        "print(online_order_yes.shape,online_order_no.shape)"
      ],
      "execution_count": null,
      "outputs": [
        {
          "output_type": "stream",
          "text": [
            "(6807, 27) (6748, 27)\n"
          ],
          "name": "stdout"
        }
      ]
    },
    {
      "cell_type": "code",
      "metadata": {
        "id": "DiI0jJxL89m8",
        "colab_type": "code",
        "colab": {
          "base_uri": "https://localhost:8080/",
          "height": 34
        },
        "outputId": "0ba43dc3-9120-4c37-9461-b4ceb2c9dc81"
      },
      "source": [
        "#sample size of female and male guests\n",
        "female = df1.loc[df1['gender']=='Female']\n",
        "male = df1.loc[df1['gender']=='Male']\n",
        "print(female.shape,male.shape)"
      ],
      "execution_count": null,
      "outputs": [
        {
          "output_type": "stream",
          "text": [
            "(7077, 27) (6721, 27)\n"
          ],
          "name": "stdout"
        }
      ]
    },
    {
      "cell_type": "code",
      "metadata": {
        "id": "7p6HU8h23Co5",
        "colab_type": "code",
        "colab": {
          "base_uri": "https://localhost:8080/",
          "height": 68
        },
        "outputId": "8eccfa62-6c79-43fe-c3bd-044358d33e2b"
      },
      "source": [
        "df1['gender'].value_counts()"
      ],
      "execution_count": null,
      "outputs": [
        {
          "output_type": "execute_result",
          "data": {
            "text/plain": [
              "Female    7077\n",
              "Male      6721\n",
              "Name: gender, dtype: int64"
            ]
          },
          "metadata": {
            "tags": []
          },
          "execution_count": 25
        }
      ]
    },
    {
      "cell_type": "code",
      "metadata": {
        "id": "0DUUohZF9QsK",
        "colab_type": "code",
        "colab": {
          "base_uri": "https://localhost:8080/",
          "height": 142
        },
        "outputId": "c599b5eb-e487-471e-a720-de11c78db7f2"
      },
      "source": [
        "df1.groupby('gender').agg({'list_price':'mean'})"
      ],
      "execution_count": null,
      "outputs": [
        {
          "output_type": "execute_result",
          "data": {
            "text/html": [
              "<div>\n",
              "<style scoped>\n",
              "    .dataframe tbody tr th:only-of-type {\n",
              "        vertical-align: middle;\n",
              "    }\n",
              "\n",
              "    .dataframe tbody tr th {\n",
              "        vertical-align: top;\n",
              "    }\n",
              "\n",
              "    .dataframe thead th {\n",
              "        text-align: right;\n",
              "    }\n",
              "</style>\n",
              "<table border=\"1\" class=\"dataframe\">\n",
              "  <thead>\n",
              "    <tr style=\"text-align: right;\">\n",
              "      <th></th>\n",
              "      <th>list_price</th>\n",
              "    </tr>\n",
              "    <tr>\n",
              "      <th>gender</th>\n",
              "      <th></th>\n",
              "    </tr>\n",
              "  </thead>\n",
              "  <tbody>\n",
              "    <tr>\n",
              "      <th>Female</th>\n",
              "      <td>1095.469313</td>\n",
              "    </tr>\n",
              "    <tr>\n",
              "      <th>Male</th>\n",
              "      <td>1113.005452</td>\n",
              "    </tr>\n",
              "  </tbody>\n",
              "</table>\n",
              "</div>"
            ],
            "text/plain": [
              "         list_price\n",
              "gender             \n",
              "Female  1095.469313\n",
              "Male    1113.005452"
            ]
          },
          "metadata": {
            "tags": []
          },
          "execution_count": 26
        }
      ]
    },
    {
      "cell_type": "code",
      "metadata": {
        "id": "f7fW5YNmAQWw",
        "colab_type": "code",
        "colab": {
          "base_uri": "https://localhost:8080/",
          "height": 142
        },
        "outputId": "b3b06805-b48f-4ed7-b666-b1633230c95e"
      },
      "source": [
        "\n",
        "#online itmes are cheaper\n",
        "df1.groupby('online_order').agg({'list_price':'mean'})"
      ],
      "execution_count": null,
      "outputs": [
        {
          "output_type": "execute_result",
          "data": {
            "text/html": [
              "<div>\n",
              "<style scoped>\n",
              "    .dataframe tbody tr th:only-of-type {\n",
              "        vertical-align: middle;\n",
              "    }\n",
              "\n",
              "    .dataframe tbody tr th {\n",
              "        vertical-align: top;\n",
              "    }\n",
              "\n",
              "    .dataframe thead th {\n",
              "        text-align: right;\n",
              "    }\n",
              "</style>\n",
              "<table border=\"1\" class=\"dataframe\">\n",
              "  <thead>\n",
              "    <tr style=\"text-align: right;\">\n",
              "      <th></th>\n",
              "      <th>list_price</th>\n",
              "    </tr>\n",
              "    <tr>\n",
              "      <th>online_order</th>\n",
              "      <th></th>\n",
              "    </tr>\n",
              "  </thead>\n",
              "  <tbody>\n",
              "    <tr>\n",
              "      <th>False</th>\n",
              "      <td>1103.589923</td>\n",
              "    </tr>\n",
              "    <tr>\n",
              "      <th>True</th>\n",
              "      <td>1103.114329</td>\n",
              "    </tr>\n",
              "  </tbody>\n",
              "</table>\n",
              "</div>"
            ],
            "text/plain": [
              "               list_price\n",
              "online_order             \n",
              "False         1103.589923\n",
              "True          1103.114329"
            ]
          },
          "metadata": {
            "tags": []
          },
          "execution_count": 27
        }
      ]
    },
    {
      "cell_type": "code",
      "metadata": {
        "id": "-cxuXzTxBdjD",
        "colab_type": "code",
        "colab": {
          "base_uri": "https://localhost:8080/",
          "height": 297
        },
        "outputId": "fe3602da-42e8-4709-995f-89becee08d80"
      },
      "source": [
        "sns.barplot(x='online_order',y='gender',data=df1)"
      ],
      "execution_count": null,
      "outputs": [
        {
          "output_type": "execute_result",
          "data": {
            "text/plain": [
              "<matplotlib.axes._subplots.AxesSubplot at 0x7f5fae042208>"
            ]
          },
          "metadata": {
            "tags": []
          },
          "execution_count": 28
        },
        {
          "output_type": "display_data",
          "data": {
            "image/png": "[encoded data removed]",
            "text/plain": [
              "<Figure size 432x288 with 1 Axes>"
            ]
          },
          "metadata": {
            "tags": [],
            "needs_background": "light"
          }
        }
      ]
    },
    {
      "cell_type": "code",
      "metadata": {
        "id": "pNAsa-ANn-ib",
        "colab_type": "code",
        "colab": {
          "base_uri": "https://localhost:8080/",
          "height": 296
        },
        "outputId": "804df5f3-fbdb-4940-a8d3-520f231a349e"
      },
      "source": [
        "sns.countplot(x='brand',data=df1)"
      ],
      "execution_count": null,
      "outputs": [
        {
          "output_type": "execute_result",
          "data": {
            "text/plain": [
              "<matplotlib.axes._subplots.AxesSubplot at 0x7f5fadf6e0f0>"
            ]
          },
          "metadata": {
            "tags": []
          },
          "execution_count": 29
        },
        {
          "output_type": "display_data",
          "data": {
            "image/png": "[encoded data removed]",
            "text/plain": [
              "<Figure size 432x288 with 1 Axes>"
            ]
          },
          "metadata": {
            "tags": [],
            "needs_background": "light"
          }
        }
      ]
    },
    {
      "cell_type": "code",
      "metadata": {
        "id": "LWe5lvM1Hwps",
        "colab_type": "code",
        "colab": {
          "base_uri": "https://localhost:8080/",
          "height": 334
        },
        "outputId": "6ef16f1b-2136-4e11-be42-56a04ff95a55"
      },
      "source": [
        "plt.figure(figsize=(12,5))\n",
        "sns.countplot(x='gender', hue='online_order',data=df1)\n",
        "plt.show()"
      ],
      "execution_count": null,
      "outputs": [
        {
          "output_type": "display_data",
          "data": {
            "image/png": "[encoded data removed]",
            "text/plain": [
              "<Figure size 864x360 with 1 Axes>"
            ]
          },
          "metadata": {
            "tags": [],
            "needs_background": "light"
          }
        }
      ]
    },
    {
      "cell_type": "code",
      "metadata": {
        "id": "U3t-BbyappMj",
        "colab_type": "code",
        "colab": {}
      },
      "source": [
        "men = df1.loc[df1['gender'] == 'Male']\n",
        "women = df1.loc[df1['gender'] == 'Female']"
      ],
      "execution_count": null,
      "outputs": []
    },
    {
      "cell_type": "code",
      "metadata": {
        "id": "cjE889LQqDhz",
        "colab_type": "code",
        "colab": {
          "base_uri": "https://localhost:8080/",
          "height": 345
        },
        "outputId": "b2323af5-3642-42fd-ba6c-b5878d967d66"
      },
      "source": [
        "men['brand'].value_counts().plot(kind='bar')"
      ],
      "execution_count": null,
      "outputs": [
        {
          "output_type": "execute_result",
          "data": {
            "text/plain": [
              "<matplotlib.axes._subplots.AxesSubplot at 0x7f5fad9d3518>"
            ]
          },
          "metadata": {
            "tags": []
          },
          "execution_count": 32
        },
        {
          "output_type": "display_data",
          "data": {
            "image/png": "[encoded data removed]",
            "text/plain": [
              "<Figure size 432x288 with 1 Axes>"
            ]
          },
          "metadata": {
            "tags": [],
            "needs_background": "light"
          }
        }
      ]
    },
    {
      "cell_type": "code",
      "metadata": {
        "id": "hoK9pAIwqY52",
        "colab_type": "code",
        "colab": {
          "base_uri": "https://localhost:8080/",
          "height": 347
        },
        "outputId": "dfadc908-d94a-4533-aa5e-f3f1e675fd8d"
      },
      "source": [
        "women['brand'].value_counts().plot(kind='bar')"
      ],
      "execution_count": null,
      "outputs": [
        {
          "output_type": "execute_result",
          "data": {
            "text/plain": [
              "<matplotlib.axes._subplots.AxesSubplot at 0x7f5fad95c2b0>"
            ]
          },
          "metadata": {
            "tags": []
          },
          "execution_count": 33
        },
        {
          "output_type": "display_data",
          "data": {
            "image/png": "[encoded data removed]",
            "text/plain": [
              "<Figure size 432x288 with 1 Axes>"
            ]
          },
          "metadata": {
            "tags": [],
            "needs_background": "light"
          }
        }
      ]
    },
    {
      "cell_type": "code",
      "metadata": {
        "id": "w2qtc0_VH2P0",
        "colab_type": "code",
        "colab": {
          "base_uri": "https://localhost:8080/",
          "height": 134
        },
        "outputId": "d4cbe066-2f70-4b30-b43a-f88044d8a3a5"
      },
      "source": [
        "df1.head(1)"
      ],
      "execution_count": null,
      "outputs": [
        {
          "output_type": "execute_result",
          "data": {
            "text/html": [
              "<div>\n",
              "<style scoped>\n",
              "    .dataframe tbody tr th:only-of-type {\n",
              "        vertical-align: middle;\n",
              "    }\n",
              "\n",
              "    .dataframe tbody tr th {\n",
              "        vertical-align: top;\n",
              "    }\n",
              "\n",
              "    .dataframe thead th {\n",
              "        text-align: right;\n",
              "    }\n",
              "</style>\n",
              "<table border=\"1\" class=\"dataframe\">\n",
              "  <thead>\n",
              "    <tr style=\"text-align: right;\">\n",
              "      <th></th>\n",
              "      <th>transaction_date</th>\n",
              "      <th>online_order</th>\n",
              "      <th>order_status</th>\n",
              "      <th>brand</th>\n",
              "      <th>product_line</th>\n",
              "      <th>product_class</th>\n",
              "      <th>product_size</th>\n",
              "      <th>list_price</th>\n",
              "      <th>standard_cost</th>\n",
              "      <th>product_first_sold_date</th>\n",
              "      <th>first_name</th>\n",
              "      <th>last_name</th>\n",
              "      <th>gender</th>\n",
              "      <th>past_3_years_bike_related_purchases</th>\n",
              "      <th>DOB</th>\n",
              "      <th>job_title</th>\n",
              "      <th>job_industry_category</th>\n",
              "      <th>wealth_segment</th>\n",
              "      <th>deceased_indicator</th>\n",
              "      <th>owns_car</th>\n",
              "      <th>tenure</th>\n",
              "      <th>address</th>\n",
              "      <th>postcode</th>\n",
              "      <th>state</th>\n",
              "      <th>country</th>\n",
              "      <th>property_valuation</th>\n",
              "      <th>year</th>\n",
              "    </tr>\n",
              "  </thead>\n",
              "  <tbody>\n",
              "    <tr>\n",
              "      <th>3</th>\n",
              "      <td>2017-05-21</td>\n",
              "      <td>True</td>\n",
              "      <td>Approved</td>\n",
              "      <td>Trek Bicycles</td>\n",
              "      <td>Standard</td>\n",
              "      <td>medium</td>\n",
              "      <td>large</td>\n",
              "      <td>2091.47</td>\n",
              "      <td>$388.92</td>\n",
              "      <td>41701.0</td>\n",
              "      <td>Lauree</td>\n",
              "      <td>O'Donnell</td>\n",
              "      <td>Female</td>\n",
              "      <td>89</td>\n",
              "      <td>1979-02-04</td>\n",
              "      <td>Clinical Specialist</td>\n",
              "      <td>Health</td>\n",
              "      <td>Mass Customer</td>\n",
              "      <td>N</td>\n",
              "      <td>Yes</td>\n",
              "      <td>10.0</td>\n",
              "      <td>4 Shopko Circle</td>\n",
              "      <td>2196</td>\n",
              "      <td>NSW</td>\n",
              "      <td>Australia</td>\n",
              "      <td>5</td>\n",
              "      <td>1979.0</td>\n",
              "    </tr>\n",
              "  </tbody>\n",
              "</table>\n",
              "</div>"
            ],
            "text/plain": [
              "  transaction_date online_order  ... property_valuation    year\n",
              "3       2017-05-21         True  ...                  5  1979.0\n",
              "\n",
              "[1 rows x 27 columns]"
            ]
          },
          "metadata": {
            "tags": []
          },
          "execution_count": 34
        }
      ]
    },
    {
      "cell_type": "code",
      "metadata": {
        "id": "qYZStsBzIZlW",
        "colab_type": "code",
        "colab": {}
      },
      "source": [
        "#create a new column: age\n",
        "df1['age'] = round(2020 - df1['year'])"
      ],
      "execution_count": null,
      "outputs": []
    },
    {
      "cell_type": "code",
      "metadata": {
        "id": "cOGAnYO_JxqO",
        "colab_type": "code",
        "colab": {
          "base_uri": "https://localhost:8080/",
          "height": 34
        },
        "outputId": "8d91e6cc-8770-4d1e-da7c-0ae8fd68e628"
      },
      "source": [
        "print('The minimum age is: ',df1['age'].min(), 'The maximum age is: ', df1['age'].max())"
      ],
      "execution_count": null,
      "outputs": [
        {
          "output_type": "stream",
          "text": [
            "The minimum age is:  20.0 The maximum age is:  50.0\n"
          ],
          "name": "stdout"
        }
      ]
    },
    {
      "cell_type": "code",
      "metadata": {
        "id": "Cz7DYl7uXFY3",
        "colab_type": "code",
        "colab": {}
      },
      "source": [
        "hist(df1['age'])"
      ],
      "execution_count": null,
      "outputs": []
    },
    {
      "cell_type": "code",
      "metadata": {
        "id": "fHvw9ALqCGA3",
        "colab_type": "code",
        "colab": {}
      },
      "source": [
        "df1.to_csv('New_KPMG_Data.csv',index=False)"
      ],
      "execution_count": null,
      "outputs": []
    },
    {
      "cell_type": "markdown",
      "metadata": {
        "id": "VAvu6Xg02-Gi",
        "colab_type": "text"
      },
      "source": [
        "# Descriptive Statistics AND Exploratory Data Analysis\n"
      ]
    },
    {
      "cell_type": "markdown",
      "metadata": {
        "id": "FFu3NMlF7eWs",
        "colab_type": "text"
      },
      "source": [
        "Questions: \n",
        "1. Do men have higher buying power than women?\n",
        "2. What's the most popular brand among the two groups: women and men?\n",
        "3. What's the most popular brand among the women and men who have high power?\n",
        "4. How wealth segment influenced the sales volumne of each brand?\n",
        "\n",
        "- Note: list_price higher than the mean is considered as high buying power\n",
        "- the average list price is 1108"
      ]
    },
    {
      "cell_type": "markdown",
      "metadata": {
        "id": "7I4kV5fHVRjH",
        "colab_type": "text"
      },
      "source": [
        "###Which group has the highest buying power?"
      ]
    },
    {
      "cell_type": "code",
      "metadata": {
        "id": "nSZRV_h8IW27",
        "colab_type": "code",
        "colab": {
          "base_uri": "https://localhost:8080/",
          "height": 153
        },
        "outputId": "f7486bc0-3576-4281-ecfb-109031a01ce0"
      },
      "source": [
        "df1.columns"
      ],
      "execution_count": null,
      "outputs": [
        {
          "output_type": "execute_result",
          "data": {
            "text/plain": [
              "Index(['transaction_date', 'online_order', 'order_status', 'brand',\n",
              "       'product_line', 'product_class', 'product_size', 'list_price',\n",
              "       'standard_cost', 'product_first_sold_date', 'first_name', 'last_name',\n",
              "       'gender', 'past_3_years_bike_related_purchases', 'DOB', 'job_title',\n",
              "       'job_industry_category', 'wealth_segment', 'deceased_indicator',\n",
              "       'owns_car', 'tenure', 'address', 'postcode', 'state', 'country',\n",
              "       'property_valuation', 'year', 'age'],\n",
              "      dtype='object')"
            ]
          },
          "metadata": {
            "tags": []
          },
          "execution_count": 39
        }
      ]
    },
    {
      "cell_type": "code",
      "metadata": {
        "id": "JHTHQJyG8FDq",
        "colab_type": "code",
        "colab": {}
      },
      "source": [
        "#split the df1 into groups: male and female\n",
        "male = df1[df1['gender']=='Male']\n",
        "female=df1[df1['gender']=='Female']"
      ],
      "execution_count": null,
      "outputs": []
    },
    {
      "cell_type": "code",
      "metadata": {
        "id": "c_3JgARL8VFQ",
        "colab_type": "code",
        "colab": {}
      },
      "source": [
        "#split the df1 into two groups with high buying power\n",
        "male1 = df1[(df1.gender == 'Male') & (df1.list_price > 1108)]\n",
        "female1 = df1[(df1.gender == 'Female') & (df1.list_price > 1108)]"
      ],
      "execution_count": null,
      "outputs": []
    },
    {
      "cell_type": "code",
      "metadata": {
        "id": "HQYXB9N_6bWl",
        "colab_type": "code",
        "colab": {
          "base_uri": "https://localhost:8080/",
          "height": 34
        },
        "outputId": "f212ae74-568f-4c70-af99-3e308072bda5"
      },
      "source": [
        "print (np.shape(male1), np.shape(male))"
      ],
      "execution_count": null,
      "outputs": [
        {
          "output_type": "stream",
          "text": [
            "(3613, 28) (6721, 28)\n"
          ],
          "name": "stdout"
        }
      ]
    },
    {
      "cell_type": "code",
      "metadata": {
        "id": "2hPodUUV67bZ",
        "colab_type": "code",
        "colab": {
          "base_uri": "https://localhost:8080/",
          "height": 34
        },
        "outputId": "919be3e5-a5b4-4304-8a5e-951b928b4c11"
      },
      "source": [
        "print (np.shape(female1), np.shape(female))"
      ],
      "execution_count": null,
      "outputs": [
        {
          "output_type": "stream",
          "text": [
            "(3716, 28) (7077, 28)\n"
          ],
          "name": "stdout"
        }
      ]
    },
    {
      "cell_type": "code",
      "metadata": {
        "id": "C4JMPoyO8qyp",
        "colab_type": "code",
        "colab": {}
      },
      "source": [
        "#people who have the high buying power among the entire dataset\n",
        "df2 = df1[df1.list_price > 1108]"
      ],
      "execution_count": null,
      "outputs": []
    },
    {
      "cell_type": "code",
      "metadata": {
        "id": "p5a-oRv68t6F",
        "colab_type": "code",
        "colab": {
          "base_uri": "https://localhost:8080/",
          "height": 68
        },
        "outputId": "0f4b53e8-c4c2-4ad6-bbb0-d52a7ca1ead4"
      },
      "source": [
        "print ('The rate of people with high buying power is: ',\n",
        "    int(len(df2) / float(len(df1)) * 100), '%.')\n",
        "print('The rate of men with high buying power is: ',\n",
        "      int(len(male1)/float(len(male)) * 100), '%,')\n",
        "print('The rate of female with high buying power is: ',\n",
        "      int(len(female1)/float(len(female)) * 100), '%,')"
      ],
      "execution_count": null,
      "outputs": [
        {
          "output_type": "stream",
          "text": [
            "The rate of people with high buying power is:  53 %.\n",
            "The rate of men with high buying power is:  53 %,\n",
            "The rate of female with high buying power is:  52 %,\n"
          ],
          "name": "stdout"
        }
      ]
    },
    {
      "cell_type": "markdown",
      "metadata": {
        "id": "w2I784miVMMu",
        "colab_type": "text"
      },
      "source": [
        "###What's the most popular brand among all the people regardless of their buying power."
      ]
    },
    {
      "cell_type": "code",
      "metadata": {
        "id": "Vvpalzwv5ok8",
        "colab_type": "code",
        "colab": {
          "base_uri": "https://localhost:8080/",
          "height": 136
        },
        "outputId": "80c816cf-8ac4-4a5f-8209-a797e657ea03"
      },
      "source": [
        "df1['brand'].value_counts()"
      ],
      "execution_count": null,
      "outputs": [
        {
          "output_type": "execute_result",
          "data": {
            "text/plain": [
              "Solex             2974\n",
              "Giant Bicycles    2249\n",
              "WeareA2B          2239\n",
              "OHM Cycles        2111\n",
              "Trek Bicycles     2065\n",
              "Norco Bicycles    2025\n",
              "Name: brand, dtype: int64"
            ]
          },
          "metadata": {
            "tags": []
          },
          "execution_count": 46
        }
      ]
    },
    {
      "cell_type": "code",
      "metadata": {
        "id": "cKjVjHseVlz0",
        "colab_type": "code",
        "colab": {}
      },
      "source": [
        "solex = df1[df1.brand == 'Solex']\n",
        "giant_bicycles = df1[df1.brand == 'Giant Bicycles']\n",
        "weareA2B = df1[df1.brand == 'WeareA2B']\n",
        "OHM_cycles = df1[df1.brand == 'OHM Cycles']\n",
        "trek_bicycles = df1[df1.brand == 'Trek Bicycles']\n",
        "norco_bicycles = df1[df1.brand == 'Norco Bicycles']"
      ],
      "execution_count": null,
      "outputs": []
    },
    {
      "cell_type": "code",
      "metadata": {
        "id": "4csBGo88tUxQ",
        "colab_type": "code",
        "colab": {
          "base_uri": "https://localhost:8080/",
          "height": 421
        },
        "outputId": "f24437ce-f674-4f82-95e7-c30f541310c5"
      },
      "source": [
        "plt.figure(figsize=(10,6))\n",
        "plt.title('Brand Popularity Bewteen Women and Men')\n",
        "sns.countplot(x='brand',hue='gender',data=df1)"
      ],
      "execution_count": 96,
      "outputs": [
        {
          "output_type": "execute_result",
          "data": {
            "text/plain": [
              "<matplotlib.axes._subplots.AxesSubplot at 0x7f5fa0a2f2b0>"
            ]
          },
          "metadata": {
            "tags": []
          },
          "execution_count": 96
        },
        {
          "output_type": "display_data",
          "data": {
            "image/png": "[encoded data removed]",
            "text/plain": [
              "<Figure size 720x432 with 1 Axes>"
            ]
          },
          "metadata": {
            "tags": [],
            "needs_background": "light"
          }
        }
      ]
    },
    {
      "cell_type": "code",
      "metadata": {
        "id": "XUVUZqf6VsZN",
        "colab_type": "code",
        "colab": {
          "base_uri": "https://localhost:8080/",
          "height": 119
        },
        "outputId": "2d447d43-cf28-403c-f99d-d4c91cbbc8c9"
      },
      "source": [
        "print ('The rate of Solex is: ', round((len(solex)/len(df1))*100,2), '%. This is the most popular brand among all the people')\n",
        "print ('The rate of Giant Bicycles is: ', round(len(giant_bicycles)/len(df1)*100,2), '%.')\n",
        "print ('The rate of WeareA2B is: ',\n",
        "       round(len(weareA2B)/len(df1)*100,2), '%.')\n",
        "print ('The rate of OHM Cycles is: ',\n",
        "       round(len(OHM_cycles)/len(df1)*100,2), '%.')\n",
        "print ('The rate of Trek Bicycles is: ',\n",
        "       round(len(trek_bicycles)/len(df1)*100,2), '%.')\n",
        "print ('The rate of Norco Bicycles is: ',\n",
        "       round(len(norco_bicycles)/len(df1)*100,2), '%.')"
      ],
      "execution_count": null,
      "outputs": [
        {
          "output_type": "stream",
          "text": [
            "The rate of Solex is:  21.55 %. This is the most popular brand among all the people\n",
            "The rate of Giant Bicycles is:  16.3 %.\n",
            "The rate of WeareA2B is:  16.23 %.\n",
            "The rate of OHM Cycles is:  15.3 %.\n",
            "The rate of Trek Bicycles is:  14.97 %.\n",
            "The rate of Norco Bicycles is:  14.68 %.\n"
          ],
          "name": "stdout"
        }
      ]
    },
    {
      "cell_type": "code",
      "metadata": {
        "id": "LfvZo73CXJtb",
        "colab_type": "code",
        "colab": {}
      },
      "source": [
        "#find the most popular brand between women and men of the entire dataset\n",
        "#Solex\n",
        "solex_m = solex[solex.gender == 'Male']\n",
        "solex_f = solex[solex.gender == 'Female']\n",
        "#Giant Bicycles\n",
        "giant_bicycles_m = giant_bicycles[giant_bicycles.gender == 'Male']\n",
        "giant_bicycles_f = giant_bicycles[giant_bicycles.gender == 'Female']\n",
        "#WeareA2B\n",
        "weareA2B_m = weareA2B[weareA2B.gender == 'Male']\n",
        "weareA2B_f = weareA2B[weareA2B.gender == 'Female']\n",
        "#OHM_cycles\n",
        "OHM_cycles_m = OHM_cycles[OHM_cycles.gender == 'Male']\n",
        "OHM_cycles_f = OHM_cycles[OHM_cycles.gender == 'Female']\n",
        "#trek bicycles\n",
        "trek_bicyles_m = trek_bicycles[trek_bicycles.gender == 'Male']\n",
        "trek_bicyles_f = trek_bicycles[trek_bicycles.gender == 'Female']\n",
        "#Norco Bicycles\n",
        "norco_bicycles_m = norco_bicycles[norco_bicycles.gender == 'Male']\n",
        "norco_bicycles_f = norco_bicycles[norco_bicycles.gender == 'Female']"
      ],
      "execution_count": null,
      "outputs": []
    },
    {
      "cell_type": "code",
      "metadata": {
        "id": "my6R0ZAfaxBg",
        "colab_type": "code",
        "colab": {
          "base_uri": "https://localhost:8080/",
          "height": 68
        },
        "outputId": "240fab4a-2046-4f6f-e5f9-f999e6b675b1"
      },
      "source": [
        "print('The percent of men like Solex is: ', round(len(solex_m)/len(solex)*100,2), '%.')\n",
        "print('The percent of women like Solex is: ', round(len(solex_f)/len(solex)*100,2), '%.')\n",
        "print ('More women like Solex than men.')"
      ],
      "execution_count": null,
      "outputs": [
        {
          "output_type": "stream",
          "text": [
            "The percent of men like Solex is:  48.32 %.\n",
            "The percent of women like Solex is:  51.68 %.\n",
            "More women like Solex than men.\n"
          ],
          "name": "stdout"
        }
      ]
    },
    {
      "cell_type": "code",
      "metadata": {
        "id": "6os-nh9oGLey",
        "colab_type": "code",
        "colab": {
          "base_uri": "https://localhost:8080/",
          "height": 68
        },
        "outputId": "bd2c7ccd-8ab9-4dcd-ca39-49bff28b03d3"
      },
      "source": [
        "#\n",
        "print('The percent of men like Giant Bicycles is: ', round(len(giant_bicycles_m)/len(giant_bicycles)*100,2), '%.')\n",
        "print('The percent of women like Giant Bicycles is: ', round(len(giant_bicycles_f)/len(giant_bicycles)*100,2), '%.')\n",
        "print ('More women like Giant Bicycles than men.')\n"
      ],
      "execution_count": null,
      "outputs": [
        {
          "output_type": "stream",
          "text": [
            "The percent of men like Giant Bicycles is:  49.53 %.\n",
            "The percent of women like Giant Bicycles is:  50.47 %.\n",
            "More women like Giant Bicycles than men.\n"
          ],
          "name": "stdout"
        }
      ]
    },
    {
      "cell_type": "code",
      "metadata": {
        "id": "foZ-yXQPM_6T",
        "colab_type": "code",
        "colab": {
          "base_uri": "https://localhost:8080/",
          "height": 68
        },
        "outputId": "53b6a349-9aaa-442b-f085-ce20a637d4d0"
      },
      "source": [
        "print('The percent of men like WeareA2B is: ', round(len(weareA2B_m)/len(weareA2B)*100,2), '%.')\n",
        "print('The percent of women like WeareA2B is: ', round(len(weareA2B_f)/len(weareA2B)*100,2), '%.')\n",
        "print ('More women like WeareA2B than men.')\n"
      ],
      "execution_count": null,
      "outputs": [
        {
          "output_type": "stream",
          "text": [
            "The percent of men like WeareA2B is:  49.0 %.\n",
            "The percent of women like WeareA2B is:  51.0 %.\n",
            "More women like WeareA2B than men.\n"
          ],
          "name": "stdout"
        }
      ]
    },
    {
      "cell_type": "code",
      "metadata": {
        "id": "AEMjZAA4M01l",
        "colab_type": "code",
        "colab": {
          "base_uri": "https://localhost:8080/",
          "height": 68
        },
        "outputId": "2cf3868a-35e0-4058-879e-243a1436b778"
      },
      "source": [
        "#\n",
        "print('The percent of men like OHM Cycles is: ', round(len(OHM_cycles_m)/len(OHM_cycles)*100,2), '%.')\n",
        "print('The percent of women like OHM Cycles is: ', round(len(OHM_cycles_f)/len(OHM_cycles)*100,2), '%.')\n",
        "print ('More women like OHM Cycles than men.')"
      ],
      "execution_count": null,
      "outputs": [
        {
          "output_type": "stream",
          "text": [
            "The percent of men like OHM Cycles is:  47.66 %.\n",
            "The percent of women like OHM Cycles is:  52.34 %.\n",
            "More women like OHM Cycles than men.\n"
          ],
          "name": "stdout"
        }
      ]
    },
    {
      "cell_type": "code",
      "metadata": {
        "id": "_zcqXYhXM2SQ",
        "colab_type": "code",
        "colab": {
          "base_uri": "https://localhost:8080/",
          "height": 51
        },
        "outputId": "1b4f6b3b-7f38-41b6-eaac-2a19510236af"
      },
      "source": [
        "print('The percent of men like Trek Bicycles is: ', round(len(trek_bicyles_m)/len(trek_bicycles)*100,2), '%.')\n",
        "print('The percent of women like Trek Bicycles is: ', round(len(trek_bicyles_f)/len(trek_bicycles)*100,2), '%.')"
      ],
      "execution_count": null,
      "outputs": [
        {
          "output_type": "stream",
          "text": [
            "The percent of men like Trek Bicycles is:  48.04 %.\n",
            "The percent of women like Trek Bicycles is:  51.96 %.\n"
          ],
          "name": "stdout"
        }
      ]
    },
    {
      "cell_type": "code",
      "metadata": {
        "id": "Wv5-5--4Ny6r",
        "colab_type": "code",
        "colab": {
          "base_uri": "https://localhost:8080/",
          "height": 51
        },
        "outputId": "7f984ad1-fec9-4295-808c-3ade3542887b"
      },
      "source": [
        "print('The percent of men like Norco Bicycles is: ', round(len(norco_bicycles_m)/len(norco_bicycles)*100,2), '%.')\n",
        "print('The percent of women like Norco Bicycles is: ', round(len(norco_bicycles_f)/len(norco_bicycles)*100,2), '%.')"
      ],
      "execution_count": null,
      "outputs": [
        {
          "output_type": "stream",
          "text": [
            "The percent of men like Norco Bicycles is:  49.58 %.\n",
            "The percent of women like Norco Bicycles is:  50.42 %.\n"
          ],
          "name": "stdout"
        }
      ]
    },
    {
      "cell_type": "markdown",
      "metadata": {
        "id": "XoratHmrORg8",
        "colab_type": "text"
      },
      "source": [
        "###Among the people who have high buying power, what do they like to buy?"
      ]
    },
    {
      "cell_type": "code",
      "metadata": {
        "id": "mSC70cshN-eD",
        "colab_type": "code",
        "colab": {
          "base_uri": "https://localhost:8080/",
          "height": 136
        },
        "outputId": "5b0eb1b1-396d-44b8-effe-552992fb4a97"
      },
      "source": [
        "df2['brand'].value_counts()"
      ],
      "execution_count": null,
      "outputs": [
        {
          "output_type": "execute_result",
          "data": {
            "text/plain": [
              "WeareA2B          1628\n",
              "Giant Bicycles    1556\n",
              "Solex             1368\n",
              "Trek Bicycles      982\n",
              "OHM Cycles         920\n",
              "Norco Bicycles     806\n",
              "Name: brand, dtype: int64"
            ]
          },
          "metadata": {
            "tags": []
          },
          "execution_count": 57
        }
      ]
    },
    {
      "cell_type": "code",
      "metadata": {
        "id": "0Ako5mmy4rQD",
        "colab_type": "code",
        "colab": {
          "base_uri": "https://localhost:8080/",
          "height": 421
        },
        "outputId": "62ca28f3-dd23-44d4-d8ce-106c39595a4c"
      },
      "source": [
        "plt.figure(figsize=(10,6))\n",
        "plt.title('Number of Brands')\n",
        "sns.countplot(x='brand',data=df2)"
      ],
      "execution_count": null,
      "outputs": [
        {
          "output_type": "execute_result",
          "data": {
            "text/plain": [
              "<matplotlib.axes._subplots.AxesSubplot at 0x7f5fad8f4780>"
            ]
          },
          "metadata": {
            "tags": []
          },
          "execution_count": 58
        },
        {
          "output_type": "display_data",
          "data": {
            "image/png": "[encoded data removed]",
            "text/plain": [
              "<Figure size 720x432 with 1 Axes>"
            ]
          },
          "metadata": {
            "tags": [],
            "needs_background": "light"
          }
        }
      ]
    },
    {
      "cell_type": "code",
      "metadata": {
        "id": "5nZGbO9IOwAo",
        "colab_type": "code",
        "colab": {}
      },
      "source": [
        "df2_solex = df2[df2.brand == 'Solex']\n",
        "df2_giant_bicycles = df2[df2.brand == 'Giant Bicycles']\n",
        "df2_weareA2B = df2[df2.brand == 'WeareA2B']\n",
        "df2_OHM_cycles = df2[df2.brand == 'OHM Cycles']\n",
        "df2_trek_bicycles = df2[df2.brand == 'Trek Bicycles']\n",
        "df2_norco_bicycles = df2[df2.brand == 'Norco Bicycles']"
      ],
      "execution_count": null,
      "outputs": []
    },
    {
      "cell_type": "code",
      "metadata": {
        "id": "ulkXRqDtuKeY",
        "colab_type": "code",
        "colab": {
          "base_uri": "https://localhost:8080/",
          "height": 530
        },
        "outputId": "4a56d3e3-cdd5-4814-d017-08a77b9b7983"
      },
      "source": [
        "plt.figure(figsize=(10,8))\n",
        "plt.title('Brand Popularity of Rich People')\n",
        "sns.countplot(x='brand',hue='gender',data=df2)"
      ],
      "execution_count": 98,
      "outputs": [
        {
          "output_type": "execute_result",
          "data": {
            "text/plain": [
              "<matplotlib.axes._subplots.AxesSubplot at 0x7f5fa05f5c50>"
            ]
          },
          "metadata": {
            "tags": []
          },
          "execution_count": 98
        },
        {
          "output_type": "display_data",
          "data": {
            "image/png": "[encoded data removed]",
            "text/plain": [
              "<Figure size 720x576 with 1 Axes>"
            ]
          },
          "metadata": {
            "tags": [],
            "needs_background": "light"
          }
        }
      ]
    },
    {
      "cell_type": "code",
      "metadata": {
        "id": "hCSXQxP2PUn-",
        "colab_type": "code",
        "colab": {}
      },
      "source": [
        "#find the most popular brand between women and men of people who have high buying power\n",
        "#Solex\n",
        "df2_solex_m = df2_solex[df2_solex.gender == 'Male']\n",
        "df2_solex_f = df2_solex[df2_solex.gender == 'Female']\n",
        "#Giant Bicycles\n",
        "df2_giant_bicycles_m = df2_giant_bicycles[df2_giant_bicycles.gender == 'Male']\n",
        "df2_giant_bicycles_f = df2_giant_bicycles[df2_giant_bicycles.gender == 'Female']\n",
        "#WeareA2B\n",
        "df2_weareA2B_m = df2_weareA2B[df2_weareA2B.gender == 'Male']\n",
        "df2_weareA2B_f = df2_weareA2B[df2_weareA2B.gender == 'Female']\n",
        "#OHM_cycles\n",
        "df2_OHM_cycles_m = df2_OHM_cycles[df2_OHM_cycles.gender == 'Male']\n",
        "df2_OHM_cycles_f = df2_OHM_cycles[df2_OHM_cycles.gender == 'Female']\n",
        "#trek bicycles\n",
        "df2_trek_bicyles_m = df2_trek_bicycles[df2_trek_bicycles.gender == 'Male']\n",
        "df2_trek_bicyles_f = df2_trek_bicycles[df2_trek_bicycles.gender == 'Female']\n",
        "#Norco Bicycles\n",
        "df2_norco_bicycles_m = df2_norco_bicycles[df2_norco_bicycles.gender == 'Male']\n",
        "df2_norco_bicycles_f = df2_norco_bicycles[df2_norco_bicycles.gender == 'Female']"
      ],
      "execution_count": null,
      "outputs": []
    },
    {
      "cell_type": "code",
      "metadata": {
        "id": "NpigfNlAP3P8",
        "colab_type": "code",
        "colab": {
          "base_uri": "https://localhost:8080/",
          "height": 68
        },
        "outputId": "e40137b4-a267-4f8e-ee8a-afa96d087269"
      },
      "source": [
        "#solex\n",
        "print('The percent of men purchased Solex is: ', round(len(df2_solex_m)/len(df2_solex)*100,2), '%.')\n",
        "print('The percent of women purchased Solex is: ', round(len(df2_solex_f)/len(df2_solex)*100,2), '%.')\n",
        "print ('More men purchased Giant Bicycles than women.')"
      ],
      "execution_count": null,
      "outputs": [
        {
          "output_type": "stream",
          "text": [
            "The percent of men purchased Solex is:  50.58 %.\n",
            "The percent of women purchased Solex is:  49.42 %.\n",
            "More men purchased Giant Bicycles than women.\n"
          ],
          "name": "stdout"
        }
      ]
    },
    {
      "cell_type": "code",
      "metadata": {
        "id": "02KS0DWoYMPM",
        "colab_type": "code",
        "colab": {
          "base_uri": "https://localhost:8080/",
          "height": 68
        },
        "outputId": "7c0a6e4c-b361-48b3-9bcb-0b447db1917e"
      },
      "source": [
        "#Giant Bicycles\n",
        "print('The percent of men like Giant Bicycles is: ', round(len(df2_giant_bicycles_m)/len(df2_giant_bicycles)*100,2), '%.')\n",
        "print('The percent of women like Giant Bicycles is: ', round(len(df2_giant_bicycles_f)/len(df2_giant_bicycles)*100,2), '%.')\n",
        "print ('More men purchased Giant Bicycles than women.')"
      ],
      "execution_count": null,
      "outputs": [
        {
          "output_type": "stream",
          "text": [
            "The percent of men like Giant Bicycles is:  49.87 %.\n",
            "The percent of women like Giant Bicycles is:  50.13 %.\n",
            "More men purchased Giant Bicycles than women.\n"
          ],
          "name": "stdout"
        }
      ]
    },
    {
      "cell_type": "code",
      "metadata": {
        "id": "sABhRtZPbzMw",
        "colab_type": "code",
        "colab": {
          "base_uri": "https://localhost:8080/",
          "height": 68
        },
        "outputId": "6ddce118-d670-4919-b413-571004007034"
      },
      "source": [
        "#WeareA2B\n",
        "print('The percent of men like WeareA2B is: ', round(len(df2_weareA2B_m)/len(df2_weareA2B)*100,2), '%.')\n",
        "print('The percent of women like WeareA2B is: ', round(len(df2_weareA2B_f)/len(df2_weareA2B)*100,2), '%.')\n",
        "print ('More women purchased WeareA2B than men.')"
      ],
      "execution_count": null,
      "outputs": [
        {
          "output_type": "stream",
          "text": [
            "The percent of men like WeareA2B is:  48.53 %.\n",
            "The percent of women like WeareA2B is:  51.47 %.\n",
            "More women purchased WeareA2B than men.\n"
          ],
          "name": "stdout"
        }
      ]
    },
    {
      "cell_type": "code",
      "metadata": {
        "id": "JE1G6rBycLdv",
        "colab_type": "code",
        "colab": {
          "base_uri": "https://localhost:8080/",
          "height": 68
        },
        "outputId": "ddc9d199-2d53-49a4-d0e4-d2b9fb2ee820"
      },
      "source": [
        "#OHM Cycles\n",
        "print('The percent of men like OHM Cycles is: ', round(len(df2_OHM_cycles_m)/len(df2_OHM_cycles)*100,2), '%.')\n",
        "print('The percent of women like OHM Cycles is: ', round(len(df2_OHM_cycles_f)/len(df2_OHM_cycles)*100,2), '%.')\n",
        "print ('More women like OHM Cycles than men.')"
      ],
      "execution_count": null,
      "outputs": [
        {
          "output_type": "stream",
          "text": [
            "The percent of men like OHM Cycles is:  48.04 %.\n",
            "The percent of women like OHM Cycles is:  51.96 %.\n",
            "More women like OHM Cycles than men.\n"
          ],
          "name": "stdout"
        }
      ]
    },
    {
      "cell_type": "code",
      "metadata": {
        "id": "waVGUTKAclWe",
        "colab_type": "code",
        "colab": {
          "base_uri": "https://localhost:8080/",
          "height": 68
        },
        "outputId": "f239b5d3-9089-43ce-b8a5-712189f01738"
      },
      "source": [
        "#Trek Bicycles\n",
        "print('The percent of men like Trek Bicycles is: ', round(len(df2_trek_bicyles_m)/len(df2_trek_bicycles)*100,2), '%.')\n",
        "print('The percent of women like Trek Bicycles is: ', round(len(df2_trek_bicyles_f)/len(df2_trek_bicycles)*100,2), '%.')\n",
        "print ('More men like Trek Bicycles than women.')"
      ],
      "execution_count": null,
      "outputs": [
        {
          "output_type": "stream",
          "text": [
            "The percent of men like Trek Bicycles is:  49.29 %.\n",
            "The percent of women like Trek Bicycles is:  50.71 %.\n",
            "More men like Trek Bicycles than women.\n"
          ],
          "name": "stdout"
        }
      ]
    },
    {
      "cell_type": "code",
      "metadata": {
        "id": "M6tbYFbZcuEO",
        "colab_type": "code",
        "colab": {
          "base_uri": "https://localhost:8080/",
          "height": 68
        },
        "outputId": "c8e7c571-44c3-4c69-88bb-df68e5a2484c"
      },
      "source": [
        "#Norco Bicycles\n",
        "print('The percent of men like Norco Bicycles is: ', round(len(df2_norco_bicycles_m)/len(df2_norco_bicycles)*100,2), '%.')\n",
        "print('The percent of women like Norco Bicycles is: ', round(len(df2_norco_bicycles_f)/len(df2_norco_bicycles)*100,2), '%.')\n",
        "print ('More women like Norco Bicycles than men.')"
      ],
      "execution_count": null,
      "outputs": [
        {
          "output_type": "stream",
          "text": [
            "The percent of men like Norco Bicycles is:  48.76 %.\n",
            "The percent of women like Norco Bicycles is:  51.24 %.\n",
            "More women like Norco Bicycles than men.\n"
          ],
          "name": "stdout"
        }
      ]
    },
    {
      "cell_type": "markdown",
      "metadata": {
        "id": "xFTPjUga9yyo",
        "colab_type": "text"
      },
      "source": [
        "### How's Wealth Segment Affecting the Buying Power?\n",
        "Do different wealth segment influence customer's ability to buy stuff?"
      ]
    },
    {
      "cell_type": "code",
      "metadata": {
        "id": "gyXs450h-CfR",
        "colab_type": "code",
        "colab": {
          "base_uri": "https://localhost:8080/",
          "height": 85
        },
        "outputId": "e870ba74-cfa5-48ee-b940-f4d13aa7c454"
      },
      "source": [
        "df1['wealth_segment'].value_counts()"
      ],
      "execution_count": null,
      "outputs": [
        {
          "output_type": "execute_result",
          "data": {
            "text/plain": [
              "Mass Customer        6908\n",
              "High Net Worth       3525\n",
              "Affluent Customer    3365\n",
              "Name: wealth_segment, dtype: int64"
            ]
          },
          "metadata": {
            "tags": []
          },
          "execution_count": 68
        }
      ]
    },
    {
      "cell_type": "code",
      "metadata": {
        "id": "hNcO3OB--gsd",
        "colab_type": "code",
        "colab": {}
      },
      "source": [
        "mass = df1[df1['wealth_segment'] == 'Mass Customer']\n",
        "high = df1[df1['wealth_segment'] == 'High Net Worth']\n",
        "affluent = df1[df1['wealth_segment'] == 'Affluent Customer'] "
      ],
      "execution_count": null,
      "outputs": []
    },
    {
      "cell_type": "code",
      "metadata": {
        "id": "7_DcGRjx-35Q",
        "colab_type": "code",
        "colab": {}
      },
      "source": [
        "mass_m = mass[mass['gender'] == 'men']\n",
        "mass_f = mass[mass['gender'] == 'women']\n",
        "\n",
        "high_m = high[high['gender'] == 'men']\n",
        "high_f = high[high['gender'] == 'women']\n",
        "\n",
        "affluent_m = affluent[affluent['gender'] == 'men']\n",
        "affluent_f = affluent[affluent['gender'] == 'women']"
      ],
      "execution_count": null,
      "outputs": []
    },
    {
      "cell_type": "code",
      "metadata": {
        "id": "P3lfHWjx_0Y4",
        "colab_type": "code",
        "colab": {
          "base_uri": "https://localhost:8080/",
          "height": 367
        },
        "outputId": "050c78f9-8159-465b-9357-4163e6d3d54e"
      },
      "source": [
        "plt.figure(figsize=(8,5))\n",
        "plt.title('Mass Customer')\n",
        "sns.countplot(x='brand',hue='gender',data=mass) #mass customer only"
      ],
      "execution_count": null,
      "outputs": [
        {
          "output_type": "execute_result",
          "data": {
            "text/plain": [
              "<matplotlib.axes._subplots.AxesSubplot at 0x7f5facc7ceb8>"
            ]
          },
          "metadata": {
            "tags": []
          },
          "execution_count": 71
        },
        {
          "output_type": "display_data",
          "data": {
            "image/png": "[encoded data removed]",
            "text/plain": [
              "<Figure size 576x360 with 1 Axes>"
            ]
          },
          "metadata": {
            "tags": [],
            "needs_background": "light"
          }
        }
      ]
    },
    {
      "cell_type": "code",
      "metadata": {
        "id": "0ZKpfXp0AXJm",
        "colab_type": "code",
        "colab": {
          "base_uri": "https://localhost:8080/",
          "height": 367
        },
        "outputId": "eacafa9b-4bcd-4072-9942-3eda8c92a469"
      },
      "source": [
        "plt.figure(figsize=(8,5))\n",
        "plt.title('High Net Worth')\n",
        "sns.countplot(x='brand',hue='gender',data=high) #High Net Worth customer only"
      ],
      "execution_count": null,
      "outputs": [
        {
          "output_type": "execute_result",
          "data": {
            "text/plain": [
              "<matplotlib.axes._subplots.AxesSubplot at 0x7f5facc8b048>"
            ]
          },
          "metadata": {
            "tags": []
          },
          "execution_count": 72
        },
        {
          "output_type": "display_data",
          "data": {
            "image/png": "[encoded data removed]",
            "text/plain": [
              "<Figure size 576x360 with 1 Axes>"
            ]
          },
          "metadata": {
            "tags": [],
            "needs_background": "light"
          }
        }
      ]
    },
    {
      "cell_type": "code",
      "metadata": {
        "id": "czl77-WrAk1H",
        "colab_type": "code",
        "colab": {
          "base_uri": "https://localhost:8080/",
          "height": 367
        },
        "outputId": "411b47c2-0049-48be-8922-8c2ea47185af"
      },
      "source": [
        "plt.figure(figsize=(8,5))\n",
        "plt.title('Affluent Customer')\n",
        "sns.countplot(x='brand',hue='gender',data=affluent) #Affluent customer only"
      ],
      "execution_count": null,
      "outputs": [
        {
          "output_type": "execute_result",
          "data": {
            "text/plain": [
              "<matplotlib.axes._subplots.AxesSubplot at 0x7f5facb3dba8>"
            ]
          },
          "metadata": {
            "tags": []
          },
          "execution_count": 73
        },
        {
          "output_type": "display_data",
          "data": {
            "image/png": "[encoded data removed]",
            "text/plain": [
              "<Figure size 576x360 with 1 Axes>"
            ]
          },
          "metadata": {
            "tags": [],
            "needs_background": "light"
          }
        }
      ]
    },
    {
      "cell_type": "code",
      "metadata": {
        "id": "cG4m0YWHWaMS",
        "colab_type": "code",
        "colab": {}
      },
      "source": [
        ""
      ],
      "execution_count": null,
      "outputs": []
    },
    {
      "cell_type": "markdown",
      "metadata": {
        "id": "-Sj-T5SdlOnJ",
        "colab_type": "text"
      },
      "source": [
        "#Conclusion\n",
        "Generally, men have higher buying power than women. However, if we don't consider who has higher buying power, women are more likely to buy all brands than men. If we want to target people who have the high buying power, their favorite brand is WearA2B. Women who has high buying power like all brands except slight off on Solex. Men who have high buying power tend to buy Solex.\n"
      ]
    },
    {
      "cell_type": "markdown",
      "metadata": {
        "id": "g7z8LbsM8lwZ",
        "colab_type": "text"
      },
      "source": [
        "## New Customer data"
      ]
    },
    {
      "cell_type": "code",
      "metadata": {
        "id": "tf1Vf9ZSDZha",
        "colab_type": "code",
        "colab": {}
      },
      "source": [
        "new['year'] = new['DOB'].dt.year"
      ],
      "execution_count": null,
      "outputs": []
    },
    {
      "cell_type": "code",
      "metadata": {
        "id": "FgC5fksAC3jT",
        "colab_type": "code",
        "colab": {}
      },
      "source": [
        "new = new[new['year'] >= 1970]\n",
        "new = new[new['year'] <= 2000]"
      ],
      "execution_count": null,
      "outputs": []
    },
    {
      "cell_type": "code",
      "metadata": {
        "id": "PIPADvCRHWCr",
        "colab_type": "code",
        "colab": {
          "base_uri": "https://localhost:8080/",
          "height": 34
        },
        "outputId": "342c2829-4c44-45e5-c938-8ed79952dc5b"
      },
      "source": [
        "new['DOB'].max()"
      ],
      "execution_count": null,
      "outputs": [
        {
          "output_type": "execute_result",
          "data": {
            "text/plain": [
              "Timestamp('2000-12-09 00:00:00')"
            ]
          },
          "metadata": {
            "tags": []
          },
          "execution_count": 76
        }
      ]
    },
    {
      "cell_type": "code",
      "metadata": {
        "id": "DumAWPtvAl2y",
        "colab_type": "code",
        "colab": {}
      },
      "source": [
        "new['name'] = new['first_name'] + ' ' + new['last_name']"
      ],
      "execution_count": null,
      "outputs": []
    },
    {
      "cell_type": "code",
      "metadata": {
        "id": "zQGxe5Jt8y0q",
        "colab_type": "code",
        "colab": {
          "base_uri": "https://localhost:8080/",
          "height": 359
        },
        "outputId": "ce8a3d86-1972-4cae-9f1f-b6af8a2a1026"
      },
      "source": [
        "ax = new.sort_values(by='past_3_years_bike_related_purchases',ascending=False)\n",
        "ax[['name','gender','past_3_years_bike_related_purchases']].head(10)"
      ],
      "execution_count": null,
      "outputs": [
        {
          "output_type": "execute_result",
          "data": {
            "text/html": [
              "<div>\n",
              "<style scoped>\n",
              "    .dataframe tbody tr th:only-of-type {\n",
              "        vertical-align: middle;\n",
              "    }\n",
              "\n",
              "    .dataframe tbody tr th {\n",
              "        vertical-align: top;\n",
              "    }\n",
              "\n",
              "    .dataframe thead th {\n",
              "        text-align: right;\n",
              "    }\n",
              "</style>\n",
              "<table border=\"1\" class=\"dataframe\">\n",
              "  <thead>\n",
              "    <tr style=\"text-align: right;\">\n",
              "      <th></th>\n",
              "      <th>name</th>\n",
              "      <th>gender</th>\n",
              "      <th>past_3_years_bike_related_purchases</th>\n",
              "    </tr>\n",
              "  </thead>\n",
              "  <tbody>\n",
              "    <tr>\n",
              "      <th>748</th>\n",
              "      <td>Mikol Eck</td>\n",
              "      <td>Male</td>\n",
              "      <td>99</td>\n",
              "    </tr>\n",
              "    <tr>\n",
              "      <th>272</th>\n",
              "      <td>Theresa Cowper</td>\n",
              "      <td>Female</td>\n",
              "      <td>99</td>\n",
              "    </tr>\n",
              "    <tr>\n",
              "      <th>546</th>\n",
              "      <td>Sammy Borsi</td>\n",
              "      <td>Female</td>\n",
              "      <td>99</td>\n",
              "    </tr>\n",
              "    <tr>\n",
              "      <th>359</th>\n",
              "      <td>Pace Clemonts</td>\n",
              "      <td>Male</td>\n",
              "      <td>99</td>\n",
              "    </tr>\n",
              "    <tr>\n",
              "      <th>652</th>\n",
              "      <td>Leticia Hovenden</td>\n",
              "      <td>Female</td>\n",
              "      <td>98</td>\n",
              "    </tr>\n",
              "    <tr>\n",
              "      <th>931</th>\n",
              "      <td>Kizzee Agget</td>\n",
              "      <td>Female</td>\n",
              "      <td>98</td>\n",
              "    </tr>\n",
              "    <tr>\n",
              "      <th>75</th>\n",
              "      <td>Hasheem Groucock</td>\n",
              "      <td>Male</td>\n",
              "      <td>98</td>\n",
              "    </tr>\n",
              "    <tr>\n",
              "      <th>783</th>\n",
              "      <td>Calhoun Mussington</td>\n",
              "      <td>Male</td>\n",
              "      <td>98</td>\n",
              "    </tr>\n",
              "    <tr>\n",
              "      <th>683</th>\n",
              "      <td>Selle Casper</td>\n",
              "      <td>Female</td>\n",
              "      <td>98</td>\n",
              "    </tr>\n",
              "    <tr>\n",
              "      <th>421</th>\n",
              "      <td>Etan Prinett</td>\n",
              "      <td>Male</td>\n",
              "      <td>97</td>\n",
              "    </tr>\n",
              "  </tbody>\n",
              "</table>\n",
              "</div>"
            ],
            "text/plain": [
              "                   name  gender  past_3_years_bike_related_purchases\n",
              "748           Mikol Eck    Male                                   99\n",
              "272      Theresa Cowper  Female                                   99\n",
              "546         Sammy Borsi  Female                                   99\n",
              "359       Pace Clemonts    Male                                   99\n",
              "652    Leticia Hovenden  Female                                   98\n",
              "931        Kizzee Agget  Female                                   98\n",
              "75     Hasheem Groucock    Male                                   98\n",
              "783  Calhoun Mussington    Male                                   98\n",
              "683        Selle Casper  Female                                   98\n",
              "421        Etan Prinett    Male                                   97"
            ]
          },
          "metadata": {
            "tags": []
          },
          "execution_count": 78
        }
      ]
    },
    {
      "cell_type": "code",
      "metadata": {
        "id": "QWp2dYp_9EYQ",
        "colab_type": "code",
        "colab": {
          "base_uri": "https://localhost:8080/",
          "height": 204
        },
        "outputId": "0d236975-7557-45c2-cea1-9c2e4ff9f34b"
      },
      "source": [
        "ax = new.sort_values(by='past_3_years_bike_related_purchases')\n",
        "ax[['name','gender','past_3_years_bike_related_purchases']].head()"
      ],
      "execution_count": null,
      "outputs": [
        {
          "output_type": "execute_result",
          "data": {
            "text/html": [
              "<div>\n",
              "<style scoped>\n",
              "    .dataframe tbody tr th:only-of-type {\n",
              "        vertical-align: middle;\n",
              "    }\n",
              "\n",
              "    .dataframe tbody tr th {\n",
              "        vertical-align: top;\n",
              "    }\n",
              "\n",
              "    .dataframe thead th {\n",
              "        text-align: right;\n",
              "    }\n",
              "</style>\n",
              "<table border=\"1\" class=\"dataframe\">\n",
              "  <thead>\n",
              "    <tr style=\"text-align: right;\">\n",
              "      <th></th>\n",
              "      <th>name</th>\n",
              "      <th>gender</th>\n",
              "      <th>past_3_years_bike_related_purchases</th>\n",
              "    </tr>\n",
              "  </thead>\n",
              "  <tbody>\n",
              "    <tr>\n",
              "      <th>798</th>\n",
              "      <td>Cherye Stanfield</td>\n",
              "      <td>Female</td>\n",
              "      <td>0</td>\n",
              "    </tr>\n",
              "    <tr>\n",
              "      <th>113</th>\n",
              "      <td>Meriel Tapp</td>\n",
              "      <td>Female</td>\n",
              "      <td>0</td>\n",
              "    </tr>\n",
              "    <tr>\n",
              "      <th>545</th>\n",
              "      <td>Katy Crooke</td>\n",
              "      <td>Female</td>\n",
              "      <td>0</td>\n",
              "    </tr>\n",
              "    <tr>\n",
              "      <th>225</th>\n",
              "      <td>Hersh Stubbert</td>\n",
              "      <td>Male</td>\n",
              "      <td>0</td>\n",
              "    </tr>\n",
              "    <tr>\n",
              "      <th>451</th>\n",
              "      <td>Katie Warhurst</td>\n",
              "      <td>Female</td>\n",
              "      <td>0</td>\n",
              "    </tr>\n",
              "  </tbody>\n",
              "</table>\n",
              "</div>"
            ],
            "text/plain": [
              "                 name  gender  past_3_years_bike_related_purchases\n",
              "798  Cherye Stanfield  Female                                    0\n",
              "113       Meriel Tapp  Female                                    0\n",
              "545       Katy Crooke  Female                                    0\n",
              "225    Hersh Stubbert    Male                                    0\n",
              "451    Katie Warhurst  Female                                    0"
            ]
          },
          "metadata": {
            "tags": []
          },
          "execution_count": 79
        }
      ]
    },
    {
      "cell_type": "code",
      "metadata": {
        "id": "29oW5tNlPmlM",
        "colab_type": "code",
        "colab": {}
      },
      "source": [
        ""
      ],
      "execution_count": null,
      "outputs": []
    },
    {
      "cell_type": "markdown",
      "metadata": {
        "id": "agHXYP0LAPJJ",
        "colab_type": "text"
      },
      "source": [
        "# Data Model Development"
      ]
    },
    {
      "cell_type": "code",
      "metadata": {
        "id": "GPQcQIaEu4m9",
        "colab_type": "code",
        "colab": {
          "base_uri": "https://localhost:8080/",
          "height": 773
        },
        "outputId": "6b124fe5-0f6a-4a13-bc6e-83be001b3b2a"
      },
      "source": [
        "plt.figure(figsize=(10,10))\n",
        "corrMatrix = df1.corr()\n",
        "sns.heatmap(corrMatrix, annot=True)\n",
        "plt.show()"
      ],
      "execution_count": null,
      "outputs": [
        {
          "output_type": "display_data",
          "data": {
            "image/png": "[encoded data removed]",
            "text/plain": [
              "<Figure size 720x720 with 2 Axes>"
            ]
          },
          "metadata": {
            "tags": [],
            "needs_background": "light"
          }
        }
      ]
    },
    {
      "cell_type": "code",
      "metadata": {
        "id": "N8dQl_W0-qUp",
        "colab_type": "code",
        "colab": {}
      },
      "source": [
        ""
      ],
      "execution_count": null,
      "outputs": []
    }
  ]
}