{
  "nbformat": 4,
  "nbformat_minor": 0,
  "metadata": {
    "colab": {
      "name": "Early EDA and Descriptive Statistics.ipynb",
      "provenance": [],
      "collapsed_sections": [],
      "authorship_tag": "ABX9TyOna8GMyQZRIlSR0180Fwu9",
      "include_colab_link": true
    },
    "kernelspec": {
      "name": "python3",
      "display_name": "Python 3"
    }
  },
  "cells": [
    {
      "cell_type": "markdown",
      "metadata": {
        "id": "view-in-github",
        "colab_type": "text"
      },
      "source": [
        "<a href=\"https://colab.research.google.com/github/Dennieeeee/KPMG-Customer-Analytics-Project/blob/master/Early_EDA_and_Descriptive_Statistics.ipynb\" target=\"_parent\"><img src=\"https://colab.research.google.com/assets/colab-badge.svg\" alt=\"Open In Colab\"/></a>"
      ]
    },
    {
      "cell_type": "markdown",
      "metadata": {
        "id": "xQYoOtMBQ75c"
      },
      "source": [
        "# Overview:\n",
        "This dataset contains variables gender, transaction_date, online_order order_status, brand, product_line, product_class, product_size, list_price,  standard_cost.\n",
        "\n",
        "Business question is to target the right customer for each brand.\n"
      ]
    },
    {
      "cell_type": "code",
      "metadata": {
        "id": "UCpxX7gyxJCQ",
        "outputId": "d39ac019-181c-489b-eb52-b2b484315607",
        "colab": {
          "base_uri": "https://localhost:8080/",
          "height": 71
        }
      },
      "source": [
        "import pandas as pd\n",
        "import numpy as np\n",
        "import matplotlib.pyplot as plt\n",
        "import seaborn as sns\n",
        "%matplotlib inline\n",
        "import datetime\n",
        "from pylab import rcParams\n",
        "\n",
        "# Fit the ARIMA model\n",
        "from statsmodels.tsa.arima_model import ARIMA\n",
        "from pandas import DataFrame\n",
        "from matplotlib import pyplot\n",
        "\n",
        "from pandas import read_csv\n",
        "import statsmodels\n",
        "from statsmodels.tsa.stattools import adfuller\n",
        "import statsmodels.api as sm"
      ],
      "execution_count": 1,
      "outputs": [
        {
          "output_type": "stream",
          "text": [
            "/usr/local/lib/python3.6/dist-packages/statsmodels/tools/_testing.py:19: FutureWarning: pandas.util.testing is deprecated. Use the functions in the public API at pandas.testing instead.\n",
            "  import pandas.util.testing as tm\n"
          ],
          "name": "stderr"
        }
      ]
    },
    {
      "cell_type": "code",
      "metadata": {
        "id": "vh2pRnDl74Vk"
      },
      "source": [
        "#this is the new dataset created from the previous file\n",
        "#current and past customer list\n",
        "df = pd.read_csv('https://raw.githubusercontent.com/Dennieeeee/KPMG-Customer-Analytics-Project/master/Data/KPMG_new_data.csv')"
      ],
      "execution_count": 2,
      "outputs": []
    },
    {
      "cell_type": "code",
      "metadata": {
        "id": "4t1B1zoD8q2s"
      },
      "source": [
        "#new customer list\n",
        "new = pd.read_csv('https://raw.githubusercontent.com/Dennieeeee/KPMG-Customer-Analytics-Project/master/Data/NewCustomerList.csv')"
      ],
      "execution_count": 3,
      "outputs": []
    },
    {
      "cell_type": "markdown",
      "metadata": {
        "id": "PnHnWiYay8Pv"
      },
      "source": [
        "# Preparing the Dataset"
      ]
    },
    {
      "cell_type": "code",
      "metadata": {
        "id": "J2ufvhacy7Vw",
        "outputId": "dafd27ac-783a-42c2-a19a-259d37349899",
        "colab": {
          "base_uri": "https://localhost:8080/",
          "height": 170
        }
      },
      "source": [
        "df.columns"
      ],
      "execution_count": 4,
      "outputs": [
        {
          "output_type": "execute_result",
          "data": {
            "text/plain": [
              "Index(['transaction_id', 'product_id', 'customer_id', 'transaction_date',\n",
              "       'online_order', 'order_status', 'brand', 'product_line',\n",
              "       'product_class', 'product_size', 'list_price', 'standard_cost',\n",
              "       'product_first_sold_date', 'gender',\n",
              "       'past_3_years_bike_related_purchases', 'DOB', 'job_title',\n",
              "       'job_industry_category', 'wealth_segment', 'deceased_indicator',\n",
              "       'owns_car', 'address', 'postcode', 'state', 'country',\n",
              "       'property_valuation', 'name', 'Year'],\n",
              "      dtype='object')"
            ]
          },
          "metadata": {
            "tags": []
          },
          "execution_count": 4
        }
      ]
    },
    {
      "cell_type": "code",
      "metadata": {
        "id": "JEC32YgGbhCk",
        "outputId": "e798eb27-a9e0-42e0-f389-4e09baf42f9d",
        "colab": {
          "base_uri": "https://localhost:8080/",
          "height": 119
        }
      },
      "source": [
        "print(df.iloc[:,[2,4]].head())"
      ],
      "execution_count": 5,
      "outputs": [
        {
          "output_type": "stream",
          "text": [
            "   customer_id  online_order\n",
            "0         3120           1.0\n",
            "1         3120           0.0\n",
            "2         3120           1.0\n",
            "3         3120           0.0\n",
            "4         3120           1.0\n"
          ],
          "name": "stdout"
        }
      ]
    },
    {
      "cell_type": "code",
      "metadata": {
        "id": "oyM4fTro2X2H",
        "outputId": "72d9a78b-51f0-4800-f570-6113b27de5cc",
        "colab": {
          "base_uri": "https://localhost:8080/",
          "height": 34
        }
      },
      "source": [
        "df.shape"
      ],
      "execution_count": 6,
      "outputs": [
        {
          "output_type": "execute_result",
          "data": {
            "text/plain": [
              "(10203, 28)"
            ]
          },
          "metadata": {
            "tags": []
          },
          "execution_count": 6
        }
      ]
    },
    {
      "cell_type": "code",
      "metadata": {
        "id": "_ySIABg39Uvz",
        "outputId": "941ed465-b049-466f-fa48-19ae1a80eca1",
        "colab": {
          "base_uri": "https://localhost:8080/",
          "height": 180
        }
      },
      "source": [
        "new.head(1)"
      ],
      "execution_count": 7,
      "outputs": [
        {
          "output_type": "execute_result",
          "data": {
            "text/html": [
              "<div>\n",
              "<style scoped>\n",
              "    .dataframe tbody tr th:only-of-type {\n",
              "        vertical-align: middle;\n",
              "    }\n",
              "\n",
              "    .dataframe tbody tr th {\n",
              "        vertical-align: top;\n",
              "    }\n",
              "\n",
              "    .dataframe thead th {\n",
              "        text-align: right;\n",
              "    }\n",
              "</style>\n",
              "<table border=\"1\" class=\"dataframe\">\n",
              "  <thead>\n",
              "    <tr style=\"text-align: right;\">\n",
              "      <th></th>\n",
              "      <th>first_name</th>\n",
              "      <th>last_name</th>\n",
              "      <th>gender</th>\n",
              "      <th>past_3_years_bike_related_purchases</th>\n",
              "      <th>DOB</th>\n",
              "      <th>job_title</th>\n",
              "      <th>job_industry_category</th>\n",
              "      <th>wealth_segment</th>\n",
              "      <th>deceased_indicator</th>\n",
              "      <th>owns_car</th>\n",
              "      <th>tenure</th>\n",
              "      <th>address</th>\n",
              "      <th>postcode</th>\n",
              "      <th>state</th>\n",
              "      <th>country</th>\n",
              "      <th>property_valuation</th>\n",
              "      <th>Unnamed: 16</th>\n",
              "      <th>Unnamed: 17</th>\n",
              "      <th>Unnamed: 18</th>\n",
              "      <th>Unnamed: 19</th>\n",
              "      <th>Unnamed: 20</th>\n",
              "      <th>Rank</th>\n",
              "      <th>Value</th>\n",
              "      <th>Unnamed: 23</th>\n",
              "      <th>Unnamed: 24</th>\n",
              "      <th>Unnamed: 25</th>\n",
              "      <th>Unnamed: 26</th>\n",
              "      <th>Unnamed: 27</th>\n",
              "      <th>Unnamed: 28</th>\n",
              "      <th>Unnamed: 29</th>\n",
              "      <th>Unnamed: 30</th>\n",
              "      <th>Unnamed: 31</th>\n",
              "      <th>Unnamed: 32</th>\n",
              "      <th>Unnamed: 33</th>\n",
              "      <th>Unnamed: 34</th>\n",
              "      <th>Unnamed: 35</th>\n",
              "      <th>Unnamed: 36</th>\n",
              "      <th>Unnamed: 37</th>\n",
              "      <th>Unnamed: 38</th>\n",
              "      <th>Unnamed: 39</th>\n",
              "      <th>...</th>\n",
              "      <th>Unnamed: 216</th>\n",
              "      <th>Unnamed: 217</th>\n",
              "      <th>Unnamed: 218</th>\n",
              "      <th>Unnamed: 219</th>\n",
              "      <th>Unnamed: 220</th>\n",
              "      <th>Unnamed: 221</th>\n",
              "      <th>Unnamed: 222</th>\n",
              "      <th>Unnamed: 223</th>\n",
              "      <th>Unnamed: 224</th>\n",
              "      <th>Unnamed: 225</th>\n",
              "      <th>Unnamed: 226</th>\n",
              "      <th>Unnamed: 227</th>\n",
              "      <th>Unnamed: 228</th>\n",
              "      <th>Unnamed: 229</th>\n",
              "      <th>Unnamed: 230</th>\n",
              "      <th>Unnamed: 231</th>\n",
              "      <th>Unnamed: 232</th>\n",
              "      <th>Unnamed: 233</th>\n",
              "      <th>Unnamed: 234</th>\n",
              "      <th>Unnamed: 235</th>\n",
              "      <th>Unnamed: 236</th>\n",
              "      <th>Unnamed: 237</th>\n",
              "      <th>Unnamed: 238</th>\n",
              "      <th>Unnamed: 239</th>\n",
              "      <th>Unnamed: 240</th>\n",
              "      <th>Unnamed: 241</th>\n",
              "      <th>Unnamed: 242</th>\n",
              "      <th>Unnamed: 243</th>\n",
              "      <th>Unnamed: 244</th>\n",
              "      <th>Unnamed: 245</th>\n",
              "      <th>Unnamed: 246</th>\n",
              "      <th>Unnamed: 247</th>\n",
              "      <th>Unnamed: 248</th>\n",
              "      <th>Unnamed: 249</th>\n",
              "      <th>Unnamed: 250</th>\n",
              "      <th>Unnamed: 251</th>\n",
              "      <th>Unnamed: 252</th>\n",
              "      <th>Unnamed: 253</th>\n",
              "      <th>Unnamed: 254</th>\n",
              "      <th>Unnamed: 255</th>\n",
              "    </tr>\n",
              "  </thead>\n",
              "  <tbody>\n",
              "    <tr>\n",
              "      <th>0</th>\n",
              "      <td>Chickie</td>\n",
              "      <td>Brister</td>\n",
              "      <td>Male</td>\n",
              "      <td>86</td>\n",
              "      <td>1957-07-12</td>\n",
              "      <td>General Manager</td>\n",
              "      <td>Manufacturing</td>\n",
              "      <td>Mass Customer</td>\n",
              "      <td>N</td>\n",
              "      <td>Yes</td>\n",
              "      <td>14</td>\n",
              "      <td>45 Shopko Center</td>\n",
              "      <td>4500</td>\n",
              "      <td>QLD</td>\n",
              "      <td>Australia</td>\n",
              "      <td>6.0</td>\n",
              "      <td>0.57</td>\n",
              "      <td>0.7125</td>\n",
              "      <td>0.890625</td>\n",
              "      <td>0.757031</td>\n",
              "      <td>1</td>\n",
              "      <td>1</td>\n",
              "      <td>1.71875</td>\n",
              "      <td>NaN</td>\n",
              "      <td>NaN</td>\n",
              "      <td>NaN</td>\n",
              "      <td>NaN</td>\n",
              "      <td>NaN</td>\n",
              "      <td>NaN</td>\n",
              "      <td>NaN</td>\n",
              "      <td>NaN</td>\n",
              "      <td>NaN</td>\n",
              "      <td>NaN</td>\n",
              "      <td>NaN</td>\n",
              "      <td>NaN</td>\n",
              "      <td>NaN</td>\n",
              "      <td>NaN</td>\n",
              "      <td>NaN</td>\n",
              "      <td>NaN</td>\n",
              "      <td>NaN</td>\n",
              "      <td>...</td>\n",
              "      <td>NaN</td>\n",
              "      <td>NaN</td>\n",
              "      <td>NaN</td>\n",
              "      <td>NaN</td>\n",
              "      <td>NaN</td>\n",
              "      <td>NaN</td>\n",
              "      <td>NaN</td>\n",
              "      <td>NaN</td>\n",
              "      <td>NaN</td>\n",
              "      <td>NaN</td>\n",
              "      <td>NaN</td>\n",
              "      <td>NaN</td>\n",
              "      <td>NaN</td>\n",
              "      <td>NaN</td>\n",
              "      <td>NaN</td>\n",
              "      <td>NaN</td>\n",
              "      <td>NaN</td>\n",
              "      <td>NaN</td>\n",
              "      <td>NaN</td>\n",
              "      <td>NaN</td>\n",
              "      <td>NaN</td>\n",
              "      <td>NaN</td>\n",
              "      <td>NaN</td>\n",
              "      <td>NaN</td>\n",
              "      <td>NaN</td>\n",
              "      <td>NaN</td>\n",
              "      <td>NaN</td>\n",
              "      <td>NaN</td>\n",
              "      <td>NaN</td>\n",
              "      <td>NaN</td>\n",
              "      <td>NaN</td>\n",
              "      <td>NaN</td>\n",
              "      <td>NaN</td>\n",
              "      <td>NaN</td>\n",
              "      <td>NaN</td>\n",
              "      <td>NaN</td>\n",
              "      <td>NaN</td>\n",
              "      <td>NaN</td>\n",
              "      <td>NaN</td>\n",
              "      <td>NaN</td>\n",
              "    </tr>\n",
              "  </tbody>\n",
              "</table>\n",
              "<p>1 rows × 256 columns</p>\n",
              "</div>"
            ],
            "text/plain": [
              "  first_name last_name gender  ...  Unnamed: 253 Unnamed: 254 Unnamed: 255\n",
              "0    Chickie   Brister   Male  ...           NaN          NaN          NaN\n",
              "\n",
              "[1 rows x 256 columns]"
            ]
          },
          "metadata": {
            "tags": []
          },
          "execution_count": 7
        }
      ]
    },
    {
      "cell_type": "code",
      "metadata": {
        "id": "OT7Qbq3e9g2u",
        "outputId": "a49b65dc-72b2-44d3-c37a-a3e7c0da4a50",
        "colab": {
          "base_uri": "https://localhost:8080/",
          "height": 170
        }
      },
      "source": [
        "new.columns"
      ],
      "execution_count": 8,
      "outputs": [
        {
          "output_type": "execute_result",
          "data": {
            "text/plain": [
              "Index(['first_name', 'last_name', 'gender',\n",
              "       'past_3_years_bike_related_purchases', 'DOB', 'job_title',\n",
              "       'job_industry_category', 'wealth_segment', 'deceased_indicator',\n",
              "       'owns_car',\n",
              "       ...\n",
              "       'Unnamed: 246', 'Unnamed: 247', 'Unnamed: 248', 'Unnamed: 249',\n",
              "       'Unnamed: 250', 'Unnamed: 251', 'Unnamed: 252', 'Unnamed: 253',\n",
              "       'Unnamed: 254', 'Unnamed: 255'],\n",
              "      dtype='object', length=256)"
            ]
          },
          "metadata": {
            "tags": []
          },
          "execution_count": 8
        }
      ]
    },
    {
      "cell_type": "code",
      "metadata": {
        "id": "YpvO14Pb9fps"
      },
      "source": [
        "features_drop = ['Unnamed: 16', 'Unnamed: 17', 'Unnamed: 18','Unnamed: 19', 'Unnamed: 20']\n",
        "new = new.drop(features_drop, axis=1)"
      ],
      "execution_count": 9,
      "outputs": []
    },
    {
      "cell_type": "markdown",
      "metadata": {
        "id": "t2sSY13u5jmk"
      },
      "source": [
        "### Data Cleansing\n",
        "- Age\n",
        "- Keep data in State and Gender consistent\n",
        "     - Rename the data in gender and state\n",
        "     - Replace F and Femal to Female; M to Male; VIC to Victoria"
      ]
    },
    {
      "cell_type": "code",
      "metadata": {
        "id": "76VfOgcS9RlJ"
      },
      "source": [
        "#convert DOB to datetime\n",
        "new['DOB'] = pd.to_datetime(new['DOB'])"
      ],
      "execution_count": 10,
      "outputs": []
    },
    {
      "cell_type": "code",
      "metadata": {
        "id": "6OZP1bXpW1qS"
      },
      "source": [
        "#convert transaction date to datetime\n",
        "df['transaction_date'] = pd.to_datetime(df['transaction_date'])"
      ],
      "execution_count": 11,
      "outputs": []
    },
    {
      "cell_type": "code",
      "metadata": {
        "id": "N1hccCh62f38"
      },
      "source": [
        "#convert DOB data type to datetime\n",
        "df['DOB'] = pd.to_datetime(df['DOB'])\n",
        "df['year'] = df['DOB'].dt.year\n",
        "\n",
        "df1 = df[df[\"year\"] > 1941]\n",
        "#According to Google, the average human lifespan is 79 year old.\n",
        "#It makes more sense to target customers who are more likely are still alive\n",
        "#Remove the customers with age over 79."
      ],
      "execution_count": 12,
      "outputs": []
    },
    {
      "cell_type": "code",
      "metadata": {
        "id": "Ae-isyZ151_C",
        "outputId": "dcd60c76-bcb3-41a5-8493-e7419520905a",
        "colab": {
          "base_uri": "https://localhost:8080/",
          "height": 34
        }
      },
      "source": [
        "df1['year'].max()"
      ],
      "execution_count": 13,
      "outputs": [
        {
          "output_type": "execute_result",
          "data": {
            "text/plain": [
              "2001"
            ]
          },
          "metadata": {
            "tags": []
          },
          "execution_count": 13
        }
      ]
    },
    {
      "cell_type": "code",
      "metadata": {
        "id": "TKSjqwpzyX0F",
        "outputId": "592a4e67-22af-4634-d55d-5c95aabab672",
        "colab": {
          "base_uri": "https://localhost:8080/",
          "height": 68
        }
      },
      "source": [
        "df1['gender'].value_counts()"
      ],
      "execution_count": 14,
      "outputs": [
        {
          "output_type": "execute_result",
          "data": {
            "text/plain": [
              "Female    5186\n",
              "Male      5017\n",
              "Name: gender, dtype: int64"
            ]
          },
          "metadata": {
            "tags": []
          },
          "execution_count": 14
        }
      ]
    },
    {
      "cell_type": "code",
      "metadata": {
        "id": "zgavmrzpXetA"
      },
      "source": [
        "df1['gender'] = df1['gender'].replace({'F':'Female','M':'Male','Femal':'Female'})"
      ],
      "execution_count": 15,
      "outputs": []
    },
    {
      "cell_type": "code",
      "metadata": {
        "id": "y5KxogTPYUXH",
        "outputId": "ae2b5290-54e3-4a7e-e335-001fe3684547",
        "colab": {
          "base_uri": "https://localhost:8080/",
          "height": 68
        }
      },
      "source": [
        "df1['gender'].value_counts()"
      ],
      "execution_count": 16,
      "outputs": [
        {
          "output_type": "execute_result",
          "data": {
            "text/plain": [
              "Female    5186\n",
              "Male      5017\n",
              "Name: gender, dtype: int64"
            ]
          },
          "metadata": {
            "tags": []
          },
          "execution_count": 16
        }
      ]
    },
    {
      "cell_type": "code",
      "metadata": {
        "id": "OjKobjmxi8xG",
        "outputId": "d10f6860-897b-4d79-c3af-1994761492d7",
        "colab": {
          "base_uri": "https://localhost:8080/",
          "height": 34
        }
      },
      "source": [
        "#subset data to people born between 2000 to 1970: age of 20 to 50 \n",
        "df1 = df1[(df1['year'] >= 1970) & (df1['year'] <= 2000)]\n",
        "print(df1.shape)"
      ],
      "execution_count": 17,
      "outputs": [
        {
          "output_type": "stream",
          "text": [
            "(10075, 29)\n"
          ],
          "name": "stdout"
        }
      ]
    },
    {
      "cell_type": "code",
      "metadata": {
        "id": "ihFYagnIZEeg",
        "outputId": "c98cead3-02d1-4b69-8767-affa0a4f1c32",
        "colab": {
          "base_uri": "https://localhost:8080/",
          "height": 134
        }
      },
      "source": [
        "df1.head(1)"
      ],
      "execution_count": 18,
      "outputs": [
        {
          "output_type": "execute_result",
          "data": {
            "text/html": [
              "<div>\n",
              "<style scoped>\n",
              "    .dataframe tbody tr th:only-of-type {\n",
              "        vertical-align: middle;\n",
              "    }\n",
              "\n",
              "    .dataframe tbody tr th {\n",
              "        vertical-align: top;\n",
              "    }\n",
              "\n",
              "    .dataframe thead th {\n",
              "        text-align: right;\n",
              "    }\n",
              "</style>\n",
              "<table border=\"1\" class=\"dataframe\">\n",
              "  <thead>\n",
              "    <tr style=\"text-align: right;\">\n",
              "      <th></th>\n",
              "      <th>transaction_id</th>\n",
              "      <th>product_id</th>\n",
              "      <th>customer_id</th>\n",
              "      <th>transaction_date</th>\n",
              "      <th>online_order</th>\n",
              "      <th>order_status</th>\n",
              "      <th>brand</th>\n",
              "      <th>product_line</th>\n",
              "      <th>product_class</th>\n",
              "      <th>product_size</th>\n",
              "      <th>list_price</th>\n",
              "      <th>standard_cost</th>\n",
              "      <th>product_first_sold_date</th>\n",
              "      <th>gender</th>\n",
              "      <th>past_3_years_bike_related_purchases</th>\n",
              "      <th>DOB</th>\n",
              "      <th>job_title</th>\n",
              "      <th>job_industry_category</th>\n",
              "      <th>wealth_segment</th>\n",
              "      <th>deceased_indicator</th>\n",
              "      <th>owns_car</th>\n",
              "      <th>address</th>\n",
              "      <th>postcode</th>\n",
              "      <th>state</th>\n",
              "      <th>country</th>\n",
              "      <th>property_valuation</th>\n",
              "      <th>name</th>\n",
              "      <th>Year</th>\n",
              "      <th>year</th>\n",
              "    </tr>\n",
              "  </thead>\n",
              "  <tbody>\n",
              "    <tr>\n",
              "      <th>0</th>\n",
              "      <td>2</td>\n",
              "      <td>3</td>\n",
              "      <td>3120</td>\n",
              "      <td>2017-05-21</td>\n",
              "      <td>1.0</td>\n",
              "      <td>Approved</td>\n",
              "      <td>Trek Bicycles</td>\n",
              "      <td>Standard</td>\n",
              "      <td>medium</td>\n",
              "      <td>large</td>\n",
              "      <td>2091.47</td>\n",
              "      <td>388.92</td>\n",
              "      <td>41701.0</td>\n",
              "      <td>Female</td>\n",
              "      <td>89</td>\n",
              "      <td>1979-02-04</td>\n",
              "      <td>Clinical Specialist</td>\n",
              "      <td>Health</td>\n",
              "      <td>Mass Customer</td>\n",
              "      <td>N</td>\n",
              "      <td>Yes</td>\n",
              "      <td>4 Shopko Circle</td>\n",
              "      <td>2196</td>\n",
              "      <td>NSW</td>\n",
              "      <td>Australia</td>\n",
              "      <td>5</td>\n",
              "      <td>Lauree O'Donnell</td>\n",
              "      <td>1979.0</td>\n",
              "      <td>1979</td>\n",
              "    </tr>\n",
              "  </tbody>\n",
              "</table>\n",
              "</div>"
            ],
            "text/plain": [
              "   transaction_id  product_id  customer_id  ...              name    Year  year\n",
              "0               2           3         3120  ...  Lauree O'Donnell  1979.0  1979\n",
              "\n",
              "[1 rows x 29 columns]"
            ]
          },
          "metadata": {
            "tags": []
          },
          "execution_count": 18
        }
      ]
    },
    {
      "cell_type": "code",
      "metadata": {
        "id": "d45RCungZL9H",
        "outputId": "0aa6db7a-48f7-42a8-f0b4-3c4cec22e4c7",
        "colab": {
          "base_uri": "https://localhost:8080/",
          "height": 1000
        }
      },
      "source": [
        "print(df1['online_order'].value_counts())\n",
        "print()\n",
        "print(df1['brand'].value_counts())\n",
        "print()\n",
        "print(df1['product_line'].value_counts())\n",
        "print()\n",
        "print(df1['product_class'].value_counts())\n",
        "print()\n",
        "print(df1['job_title'].value_counts())\n",
        "print()\n",
        "print(df1['job_industry_category'].value_counts())\n",
        "print()\n",
        "print(df1['wealth_segment'].value_counts())\n",
        "print()\n",
        "print(df1['deceased_indicator'].value_counts())\n",
        "print()\n",
        "print(df1['owns_car'].value_counts())\n",
        "print()\n",
        "print(df1['state'].value_counts())\n",
        "print()\n",
        "print(df1['country'].value_counts())"
      ],
      "execution_count": 19,
      "outputs": [
        {
          "output_type": "stream",
          "text": [
            "1.0    4979\n",
            "0.0    4931\n",
            "Name: online_order, dtype: int64\n",
            "\n",
            "Solex             2182\n",
            "Giant Bicycles    1632\n",
            "WeareA2B          1600\n",
            "OHM Cycles        1539\n",
            "Trek Bicycles     1531\n",
            "Norco Bicycles    1492\n",
            "Name: brand, dtype: int64\n",
            "\n",
            "Standard    7138\n",
            "Road        2029\n",
            "Touring      590\n",
            "Mountain     219\n",
            "Name: product_line, dtype: int64\n",
            "\n",
            "medium    6940\n",
            "high      1550\n",
            "low       1486\n",
            "Name: product_class, dtype: int64\n",
            "\n",
            "Nuclear Power Engineer       167\n",
            "Social Worker                155\n",
            "Research Nurse               144\n",
            "Registered Nurse             140\n",
            "Tax Accountant               136\n",
            "                            ... \n",
            "Programmer Analyst I           6\n",
            "Media Manager II               5\n",
            "Database Administrator II      5\n",
            "Software Test Engineer II      5\n",
            "Geologist II                   2\n",
            "Name: job_title, Length: 192, dtype: int64\n",
            "\n",
            "Financial Services    2475\n",
            "Manufacturing         2429\n",
            "Health                1889\n",
            "Retail                1072\n",
            "Property               753\n",
            "Entertainment          437\n",
            "IT                     424\n",
            "Argiculture            403\n",
            "Telecommunications     193\n",
            "Name: job_industry_category, dtype: int64\n",
            "\n",
            "Mass Customer        4981\n",
            "High Net Worth       2589\n",
            "Affluent Customer    2505\n",
            "Name: wealth_segment, dtype: int64\n",
            "\n",
            "N    10075\n",
            "Name: deceased_indicator, dtype: int64\n",
            "\n",
            "Yes    5050\n",
            "No     5025\n",
            "Name: owns_car, dtype: int64\n",
            "\n",
            "NSW                5214\n",
            "QLD                2291\n",
            "VIC                2135\n",
            "New South Wales     232\n",
            "Victoria            203\n",
            "Name: state, dtype: int64\n",
            "\n",
            "Australia    10075\n",
            "Name: country, dtype: int64\n"
          ],
          "name": "stdout"
        }
      ]
    },
    {
      "cell_type": "code",
      "metadata": {
        "id": "SE5VbJB2P9Uk"
      },
      "source": [
        "#change VIC to Victoria in state\n",
        "df1['state'] = df1['state'].replace({'VIC':'Victoria'})"
      ],
      "execution_count": 20,
      "outputs": []
    },
    {
      "cell_type": "code",
      "metadata": {
        "id": "l6mm2jr-OY_f",
        "outputId": "1f762d93-0eb3-427c-bbc1-36c190662c60",
        "colab": {
          "base_uri": "https://localhost:8080/",
          "height": 102
        }
      },
      "source": [
        "df1['state'].value_counts()"
      ],
      "execution_count": 21,
      "outputs": [
        {
          "output_type": "execute_result",
          "data": {
            "text/plain": [
              "NSW                5214\n",
              "Victoria           2338\n",
              "QLD                2291\n",
              "New South Wales     232\n",
              "Name: state, dtype: int64"
            ]
          },
          "metadata": {
            "tags": []
          },
          "execution_count": 21
        }
      ]
    },
    {
      "cell_type": "code",
      "metadata": {
        "id": "ElhDFImP7-IR",
        "outputId": "6046eb48-178a-45a4-b839-744952f8c60b",
        "colab": {
          "base_uri": "https://localhost:8080/",
          "height": 34
        }
      },
      "source": [
        "#sample size of online order: Yes and No\n",
        "online_order_yes = df1.loc[df1['online_order']==1]\n",
        "online_order_no = df1.loc[df1['online_order']==0]\n",
        "print(online_order_yes.shape,online_order_no.shape)"
      ],
      "execution_count": 22,
      "outputs": [
        {
          "output_type": "stream",
          "text": [
            "(4979, 29) (4931, 29)\n"
          ],
          "name": "stdout"
        }
      ]
    },
    {
      "cell_type": "code",
      "metadata": {
        "id": "DiI0jJxL89m8",
        "outputId": "f6cdcae9-14bd-436b-f5d2-5291bc745093",
        "colab": {
          "base_uri": "https://localhost:8080/",
          "height": 34
        }
      },
      "source": [
        "#sample size of female and male guests\n",
        "female = df1.loc[df1['gender']=='Female']\n",
        "male = df1.loc[df1['gender']=='Male']\n",
        "print(female.shape,male.shape)"
      ],
      "execution_count": 23,
      "outputs": [
        {
          "output_type": "stream",
          "text": [
            "(5121, 29) (4954, 29)\n"
          ],
          "name": "stdout"
        }
      ]
    },
    {
      "cell_type": "code",
      "metadata": {
        "id": "7p6HU8h23Co5",
        "outputId": "16da9749-b048-4ab3-d576-8eaafd9a8682",
        "colab": {
          "base_uri": "https://localhost:8080/",
          "height": 68
        }
      },
      "source": [
        "df1['gender'].value_counts()"
      ],
      "execution_count": 24,
      "outputs": [
        {
          "output_type": "execute_result",
          "data": {
            "text/plain": [
              "Female    5121\n",
              "Male      4954\n",
              "Name: gender, dtype: int64"
            ]
          },
          "metadata": {
            "tags": []
          },
          "execution_count": 24
        }
      ]
    },
    {
      "cell_type": "code",
      "metadata": {
        "id": "0DUUohZF9QsK",
        "outputId": "bfb8384c-41e0-49f9-83cc-9a7bc8386573",
        "colab": {
          "base_uri": "https://localhost:8080/",
          "height": 142
        }
      },
      "source": [
        "df1.groupby('gender').agg({'list_price':'mean'})"
      ],
      "execution_count": 25,
      "outputs": [
        {
          "output_type": "execute_result",
          "data": {
            "text/html": [
              "<div>\n",
              "<style scoped>\n",
              "    .dataframe tbody tr th:only-of-type {\n",
              "        vertical-align: middle;\n",
              "    }\n",
              "\n",
              "    .dataframe tbody tr th {\n",
              "        vertical-align: top;\n",
              "    }\n",
              "\n",
              "    .dataframe thead th {\n",
              "        text-align: right;\n",
              "    }\n",
              "</style>\n",
              "<table border=\"1\" class=\"dataframe\">\n",
              "  <thead>\n",
              "    <tr style=\"text-align: right;\">\n",
              "      <th></th>\n",
              "      <th>list_price</th>\n",
              "    </tr>\n",
              "    <tr>\n",
              "      <th>gender</th>\n",
              "      <th></th>\n",
              "    </tr>\n",
              "  </thead>\n",
              "  <tbody>\n",
              "    <tr>\n",
              "      <th>Female</th>\n",
              "      <td>1100.097327</td>\n",
              "    </tr>\n",
              "    <tr>\n",
              "      <th>Male</th>\n",
              "      <td>1116.558492</td>\n",
              "    </tr>\n",
              "  </tbody>\n",
              "</table>\n",
              "</div>"
            ],
            "text/plain": [
              "         list_price\n",
              "gender             \n",
              "Female  1100.097327\n",
              "Male    1116.558492"
            ]
          },
          "metadata": {
            "tags": []
          },
          "execution_count": 25
        }
      ]
    },
    {
      "cell_type": "code",
      "metadata": {
        "id": "f7fW5YNmAQWw",
        "outputId": "0b6de254-788a-4af6-e196-e72e1e706d3c",
        "colab": {
          "base_uri": "https://localhost:8080/",
          "height": 142
        }
      },
      "source": [
        "\n",
        "#online itmes are cheaper\n",
        "df1.groupby('online_order').agg({'list_price':'mean'})"
      ],
      "execution_count": 26,
      "outputs": [
        {
          "output_type": "execute_result",
          "data": {
            "text/html": [
              "<div>\n",
              "<style scoped>\n",
              "    .dataframe tbody tr th:only-of-type {\n",
              "        vertical-align: middle;\n",
              "    }\n",
              "\n",
              "    .dataframe tbody tr th {\n",
              "        vertical-align: top;\n",
              "    }\n",
              "\n",
              "    .dataframe thead th {\n",
              "        text-align: right;\n",
              "    }\n",
              "</style>\n",
              "<table border=\"1\" class=\"dataframe\">\n",
              "  <thead>\n",
              "    <tr style=\"text-align: right;\">\n",
              "      <th></th>\n",
              "      <th>list_price</th>\n",
              "    </tr>\n",
              "    <tr>\n",
              "      <th>online_order</th>\n",
              "      <th></th>\n",
              "    </tr>\n",
              "  </thead>\n",
              "  <tbody>\n",
              "    <tr>\n",
              "      <th>0.0</th>\n",
              "      <td>1111.181460</td>\n",
              "    </tr>\n",
              "    <tr>\n",
              "      <th>1.0</th>\n",
              "      <td>1104.322677</td>\n",
              "    </tr>\n",
              "  </tbody>\n",
              "</table>\n",
              "</div>"
            ],
            "text/plain": [
              "               list_price\n",
              "online_order             \n",
              "0.0           1111.181460\n",
              "1.0           1104.322677"
            ]
          },
          "metadata": {
            "tags": []
          },
          "execution_count": 26
        }
      ]
    },
    {
      "cell_type": "code",
      "metadata": {
        "id": "U3t-BbyappMj"
      },
      "source": [
        "men = df1.loc[df1['gender'] == 'Male']\n",
        "women = df1.loc[df1['gender'] == 'Female']"
      ],
      "execution_count": 27,
      "outputs": []
    },
    {
      "cell_type": "code",
      "metadata": {
        "id": "qYZStsBzIZlW"
      },
      "source": [
        "#create a new column: age\n",
        "df1['age'] = round(2020 - df1['year'])"
      ],
      "execution_count": 28,
      "outputs": []
    },
    {
      "cell_type": "code",
      "metadata": {
        "id": "cOGAnYO_JxqO",
        "outputId": "64df3d07-1970-4744-e194-23a2912c4a77",
        "colab": {
          "base_uri": "https://localhost:8080/",
          "height": 34
        }
      },
      "source": [
        "print('The minimum age is: ',df1['age'].min(), 'The maximum age is: ', df1['age'].max())"
      ],
      "execution_count": 29,
      "outputs": [
        {
          "output_type": "stream",
          "text": [
            "The minimum age is:  20 The maximum age is:  49\n"
          ],
          "name": "stdout"
        }
      ]
    },
    {
      "cell_type": "code",
      "metadata": {
        "id": "Cz7DYl7uXFY3"
      },
      "source": [
        "hist(df1['age'])"
      ],
      "execution_count": 30,
      "outputs": []
    },
    {
      "cell_type": "code",
      "metadata": {
        "id": "fHvw9ALqCGA3"
      },
      "source": [
        "df1.to_csv('New_KPMG_Data.csv',index=False)"
      ],
      "execution_count": 31,
      "outputs": []
    },
    {
      "cell_type": "markdown",
      "metadata": {
        "id": "VAvu6Xg02-Gi"
      },
      "source": [
        "# Descriptive Statistics AND Exploratory Data Analysis\n"
      ]
    },
    {
      "cell_type": "markdown",
      "metadata": {
        "id": "FFu3NMlF7eWs"
      },
      "source": [
        "Questions: \n",
        "1. Do men have higher buying power than women?\n",
        "2. What's the most popular brand among the two groups: women and men?\n",
        "3. What's the most popular brand among the women and men who have high power?\n",
        "4. How wealth segment influenced the sales volumne of each brand?\n",
        "\n",
        "- Note: list_price higher than the mean is considered as high buying power\n",
        "- the average list price is 1108"
      ]
    },
    {
      "cell_type": "code",
      "metadata": {
        "id": "nSZRV_h8IW27",
        "outputId": "11b07cd8-0b50-4bd5-da6c-ed91736ffb73",
        "colab": {
          "base_uri": "https://localhost:8080/",
          "height": 170
        }
      },
      "source": [
        "df1.columns"
      ],
      "execution_count": 32,
      "outputs": [
        {
          "output_type": "execute_result",
          "data": {
            "text/plain": [
              "Index(['transaction_id', 'product_id', 'customer_id', 'transaction_date',\n",
              "       'online_order', 'order_status', 'brand', 'product_line',\n",
              "       'product_class', 'product_size', 'list_price', 'standard_cost',\n",
              "       'product_first_sold_date', 'gender',\n",
              "       'past_3_years_bike_related_purchases', 'DOB', 'job_title',\n",
              "       'job_industry_category', 'wealth_segment', 'deceased_indicator',\n",
              "       'owns_car', 'address', 'postcode', 'state', 'country',\n",
              "       'property_valuation', 'name', 'Year', 'year', 'age'],\n",
              "      dtype='object')"
            ]
          },
          "metadata": {
            "tags": []
          },
          "execution_count": 32
        }
      ]
    },
    {
      "cell_type": "code",
      "metadata": {
        "id": "1wpSVxT7nhxl",
        "outputId": "ebdfad8d-aa48-47da-a4a2-47083e95629f",
        "colab": {
          "base_uri": "https://localhost:8080/",
          "height": 394
        }
      },
      "source": [
        "df1.head()"
      ],
      "execution_count": 76,
      "outputs": [
        {
          "output_type": "execute_result",
          "data": {
            "text/html": [
              "<div>\n",
              "<style scoped>\n",
              "    .dataframe tbody tr th:only-of-type {\n",
              "        vertical-align: middle;\n",
              "    }\n",
              "\n",
              "    .dataframe tbody tr th {\n",
              "        vertical-align: top;\n",
              "    }\n",
              "\n",
              "    .dataframe thead th {\n",
              "        text-align: right;\n",
              "    }\n",
              "</style>\n",
              "<table border=\"1\" class=\"dataframe\">\n",
              "  <thead>\n",
              "    <tr style=\"text-align: right;\">\n",
              "      <th></th>\n",
              "      <th>transaction_id</th>\n",
              "      <th>product_id</th>\n",
              "      <th>customer_id</th>\n",
              "      <th>transaction_date</th>\n",
              "      <th>online_order</th>\n",
              "      <th>order_status</th>\n",
              "      <th>brand</th>\n",
              "      <th>product_line</th>\n",
              "      <th>product_class</th>\n",
              "      <th>product_size</th>\n",
              "      <th>list_price</th>\n",
              "      <th>standard_cost</th>\n",
              "      <th>product_first_sold_date</th>\n",
              "      <th>gender</th>\n",
              "      <th>past_3_years_bike_related_purchases</th>\n",
              "      <th>DOB</th>\n",
              "      <th>job_title</th>\n",
              "      <th>job_industry_category</th>\n",
              "      <th>wealth_segment</th>\n",
              "      <th>deceased_indicator</th>\n",
              "      <th>owns_car</th>\n",
              "      <th>address</th>\n",
              "      <th>postcode</th>\n",
              "      <th>state</th>\n",
              "      <th>country</th>\n",
              "      <th>property_valuation</th>\n",
              "      <th>name</th>\n",
              "      <th>Year</th>\n",
              "      <th>year</th>\n",
              "      <th>age</th>\n",
              "    </tr>\n",
              "  </thead>\n",
              "  <tbody>\n",
              "    <tr>\n",
              "      <th>0</th>\n",
              "      <td>2</td>\n",
              "      <td>3</td>\n",
              "      <td>3120</td>\n",
              "      <td>2017-05-21</td>\n",
              "      <td>1.0</td>\n",
              "      <td>Approved</td>\n",
              "      <td>Trek Bicycles</td>\n",
              "      <td>Standard</td>\n",
              "      <td>medium</td>\n",
              "      <td>large</td>\n",
              "      <td>2091.47</td>\n",
              "      <td>388.92</td>\n",
              "      <td>41701.0</td>\n",
              "      <td>Female</td>\n",
              "      <td>89</td>\n",
              "      <td>1979-02-04</td>\n",
              "      <td>Clinical Specialist</td>\n",
              "      <td>Health</td>\n",
              "      <td>Mass Customer</td>\n",
              "      <td>N</td>\n",
              "      <td>Yes</td>\n",
              "      <td>4 Shopko Circle</td>\n",
              "      <td>2196</td>\n",
              "      <td>NSW</td>\n",
              "      <td>Australia</td>\n",
              "      <td>5</td>\n",
              "      <td>Lauree O'Donnell</td>\n",
              "      <td>1979.0</td>\n",
              "      <td>1979</td>\n",
              "      <td>41</td>\n",
              "    </tr>\n",
              "    <tr>\n",
              "      <th>1</th>\n",
              "      <td>6862</td>\n",
              "      <td>4</td>\n",
              "      <td>3120</td>\n",
              "      <td>2017-10-05</td>\n",
              "      <td>0.0</td>\n",
              "      <td>Approved</td>\n",
              "      <td>Giant Bicycles</td>\n",
              "      <td>Standard</td>\n",
              "      <td>high</td>\n",
              "      <td>medium</td>\n",
              "      <td>1129.13</td>\n",
              "      <td>677.48</td>\n",
              "      <td>40649.0</td>\n",
              "      <td>Female</td>\n",
              "      <td>89</td>\n",
              "      <td>1979-02-04</td>\n",
              "      <td>Clinical Specialist</td>\n",
              "      <td>Health</td>\n",
              "      <td>Mass Customer</td>\n",
              "      <td>N</td>\n",
              "      <td>Yes</td>\n",
              "      <td>4 Shopko Circle</td>\n",
              "      <td>2196</td>\n",
              "      <td>NSW</td>\n",
              "      <td>Australia</td>\n",
              "      <td>5</td>\n",
              "      <td>Lauree O'Donnell</td>\n",
              "      <td>1979.0</td>\n",
              "      <td>1979</td>\n",
              "      <td>41</td>\n",
              "    </tr>\n",
              "    <tr>\n",
              "      <th>2</th>\n",
              "      <td>9155</td>\n",
              "      <td>91</td>\n",
              "      <td>3120</td>\n",
              "      <td>2017-10-30</td>\n",
              "      <td>1.0</td>\n",
              "      <td>Approved</td>\n",
              "      <td>Solex</td>\n",
              "      <td>Standard</td>\n",
              "      <td>medium</td>\n",
              "      <td>medium</td>\n",
              "      <td>100.35</td>\n",
              "      <td>75.26</td>\n",
              "      <td>38002.0</td>\n",
              "      <td>Female</td>\n",
              "      <td>89</td>\n",
              "      <td>1979-02-04</td>\n",
              "      <td>Clinical Specialist</td>\n",
              "      <td>Health</td>\n",
              "      <td>Mass Customer</td>\n",
              "      <td>N</td>\n",
              "      <td>Yes</td>\n",
              "      <td>4 Shopko Circle</td>\n",
              "      <td>2196</td>\n",
              "      <td>NSW</td>\n",
              "      <td>Australia</td>\n",
              "      <td>5</td>\n",
              "      <td>Lauree O'Donnell</td>\n",
              "      <td>1979.0</td>\n",
              "      <td>1979</td>\n",
              "      <td>41</td>\n",
              "    </tr>\n",
              "    <tr>\n",
              "      <th>3</th>\n",
              "      <td>11409</td>\n",
              "      <td>95</td>\n",
              "      <td>3120</td>\n",
              "      <td>2017-01-30</td>\n",
              "      <td>0.0</td>\n",
              "      <td>Approved</td>\n",
              "      <td>Giant Bicycles</td>\n",
              "      <td>Standard</td>\n",
              "      <td>medium</td>\n",
              "      <td>large</td>\n",
              "      <td>569.56</td>\n",
              "      <td>528.43</td>\n",
              "      <td>34556.0</td>\n",
              "      <td>Female</td>\n",
              "      <td>89</td>\n",
              "      <td>1979-02-04</td>\n",
              "      <td>Clinical Specialist</td>\n",
              "      <td>Health</td>\n",
              "      <td>Mass Customer</td>\n",
              "      <td>N</td>\n",
              "      <td>Yes</td>\n",
              "      <td>4 Shopko Circle</td>\n",
              "      <td>2196</td>\n",
              "      <td>NSW</td>\n",
              "      <td>Australia</td>\n",
              "      <td>5</td>\n",
              "      <td>Lauree O'Donnell</td>\n",
              "      <td>1979.0</td>\n",
              "      <td>1979</td>\n",
              "      <td>41</td>\n",
              "    </tr>\n",
              "    <tr>\n",
              "      <th>4</th>\n",
              "      <td>13066</td>\n",
              "      <td>38</td>\n",
              "      <td>3120</td>\n",
              "      <td>2017-01-20</td>\n",
              "      <td>1.0</td>\n",
              "      <td>Approved</td>\n",
              "      <td>Solex</td>\n",
              "      <td>Standard</td>\n",
              "      <td>medium</td>\n",
              "      <td>medium</td>\n",
              "      <td>1577.53</td>\n",
              "      <td>826.51</td>\n",
              "      <td>34071.0</td>\n",
              "      <td>Female</td>\n",
              "      <td>89</td>\n",
              "      <td>1979-02-04</td>\n",
              "      <td>Clinical Specialist</td>\n",
              "      <td>Health</td>\n",
              "      <td>Mass Customer</td>\n",
              "      <td>N</td>\n",
              "      <td>Yes</td>\n",
              "      <td>4 Shopko Circle</td>\n",
              "      <td>2196</td>\n",
              "      <td>NSW</td>\n",
              "      <td>Australia</td>\n",
              "      <td>5</td>\n",
              "      <td>Lauree O'Donnell</td>\n",
              "      <td>1979.0</td>\n",
              "      <td>1979</td>\n",
              "      <td>41</td>\n",
              "    </tr>\n",
              "  </tbody>\n",
              "</table>\n",
              "</div>"
            ],
            "text/plain": [
              "   transaction_id  product_id  customer_id  ...    Year  year age\n",
              "0               2           3         3120  ...  1979.0  1979  41\n",
              "1            6862           4         3120  ...  1979.0  1979  41\n",
              "2            9155          91         3120  ...  1979.0  1979  41\n",
              "3           11409          95         3120  ...  1979.0  1979  41\n",
              "4           13066          38         3120  ...  1979.0  1979  41\n",
              "\n",
              "[5 rows x 30 columns]"
            ]
          },
          "metadata": {
            "tags": []
          },
          "execution_count": 76
        }
      ]
    },
    {
      "cell_type": "markdown",
      "metadata": {
        "id": "7I4kV5fHVRjH"
      },
      "source": [
        "###Which group has the highest buying power?"
      ]
    },
    {
      "cell_type": "code",
      "metadata": {
        "id": "JHTHQJyG8FDq"
      },
      "source": [
        "#split the df1 into groups: male and female\n",
        "male = df1[df1['gender']=='Male']\n",
        "female=df1[df1['gender']=='Female']"
      ],
      "execution_count": 33,
      "outputs": []
    },
    {
      "cell_type": "code",
      "metadata": {
        "id": "c_3JgARL8VFQ"
      },
      "source": [
        "#split the df1 into two groups with high buying power\n",
        "male1 = df1[(df1.gender == 'Male') & (df1.list_price > 1108)]\n",
        "female1 = df1[(df1.gender == 'Female') & (df1.list_price > 1108)]"
      ],
      "execution_count": 34,
      "outputs": []
    },
    {
      "cell_type": "code",
      "metadata": {
        "id": "HQYXB9N_6bWl",
        "outputId": "387bf779-6756-459f-ea39-606ef7374166",
        "colab": {
          "base_uri": "https://localhost:8080/",
          "height": 34
        }
      },
      "source": [
        "print (np.shape(male1), np.shape(male))"
      ],
      "execution_count": 35,
      "outputs": [
        {
          "output_type": "stream",
          "text": [
            "(2662, 30) (4954, 30)\n"
          ],
          "name": "stdout"
        }
      ]
    },
    {
      "cell_type": "code",
      "metadata": {
        "id": "2hPodUUV67bZ",
        "outputId": "d7551244-6036-480d-ed8e-1c817f939e2e",
        "colab": {
          "base_uri": "https://localhost:8080/",
          "height": 34
        }
      },
      "source": [
        "print (np.shape(female1), np.shape(female))"
      ],
      "execution_count": 36,
      "outputs": [
        {
          "output_type": "stream",
          "text": [
            "(2706, 30) (5121, 30)\n"
          ],
          "name": "stdout"
        }
      ]
    },
    {
      "cell_type": "code",
      "metadata": {
        "id": "C4JMPoyO8qyp"
      },
      "source": [
        "#people who have the high buying power among the entire dataset\n",
        "df2 = df1[df1.list_price > 1108]"
      ],
      "execution_count": 37,
      "outputs": []
    },
    {
      "cell_type": "code",
      "metadata": {
        "id": "p5a-oRv68t6F",
        "outputId": "823a71e0-ac20-413c-8b14-1980f5437453",
        "colab": {
          "base_uri": "https://localhost:8080/",
          "height": 68
        }
      },
      "source": [
        "print ('The rate of people with high buying power is: ',\n",
        "    int(len(df2) / float(len(df1)) * 100), '%.')\n",
        "print('The rate of men with high buying power is: ',\n",
        "      int(len(male1)/float(len(male)) * 100), '%,')\n",
        "print('The rate of female with high buying power is: ',\n",
        "      int(len(female1)/float(len(female)) * 100), '%,')"
      ],
      "execution_count": 38,
      "outputs": [
        {
          "output_type": "stream",
          "text": [
            "The rate of people with high buying power is:  53 %.\n",
            "The rate of men with high buying power is:  53 %,\n",
            "The rate of female with high buying power is:  52 %,\n"
          ],
          "name": "stdout"
        }
      ]
    },
    {
      "cell_type": "markdown",
      "metadata": {
        "id": "w2I784miVMMu"
      },
      "source": [
        "###What's the most popular brand among all the people regardless of their buying power."
      ]
    },
    {
      "cell_type": "code",
      "metadata": {
        "id": "Vvpalzwv5ok8",
        "outputId": "f4a5e372-39a0-4a89-d43d-ab8a495ccbe2",
        "colab": {
          "base_uri": "https://localhost:8080/",
          "height": 136
        }
      },
      "source": [
        "df1['brand'].value_counts()"
      ],
      "execution_count": 39,
      "outputs": [
        {
          "output_type": "execute_result",
          "data": {
            "text/plain": [
              "Solex             2182\n",
              "Giant Bicycles    1632\n",
              "WeareA2B          1600\n",
              "OHM Cycles        1539\n",
              "Trek Bicycles     1531\n",
              "Norco Bicycles    1492\n",
              "Name: brand, dtype: int64"
            ]
          },
          "metadata": {
            "tags": []
          },
          "execution_count": 39
        }
      ]
    },
    {
      "cell_type": "code",
      "metadata": {
        "id": "cKjVjHseVlz0"
      },
      "source": [
        "solex = df1[df1.brand == 'Solex']\n",
        "giant_bicycles = df1[df1.brand == 'Giant Bicycles']\n",
        "weareA2B = df1[df1.brand == 'WeareA2B']\n",
        "OHM_cycles = df1[df1.brand == 'OHM Cycles']\n",
        "trek_bicycles = df1[df1.brand == 'Trek Bicycles']\n",
        "norco_bicycles = df1[df1.brand == 'Norco Bicycles']"
      ],
      "execution_count": 40,
      "outputs": []
    },
    {
      "cell_type": "code",
      "metadata": {
        "id": "4csBGo88tUxQ",
        "outputId": "dc059092-68f9-4f75-8a9d-1de219ac6dce",
        "colab": {
          "base_uri": "https://localhost:8080/",
          "height": 421
        }
      },
      "source": [
        "plt.figure(figsize=(10,6))\n",
        "plt.title('Brand Popularity Bewteen Women and Men')\n",
        "sns.countplot(x='brand',hue='gender',data=df1)"
      ],
      "execution_count": 43,
      "outputs": [
        {
          "output_type": "execute_result",
          "data": {
            "text/plain": [
              "<matplotlib.axes._subplots.AxesSubplot at 0x7fab528cbf28>"
            ]
          },
          "metadata": {
            "tags": []
          },
          "execution_count": 43
        },
        {
          "output_type": "display_data",
          "data": {
            "image/png": "[encoded data removed]",
            "text/plain": [
              "<Figure size 720x432 with 1 Axes>"
            ]
          },
          "metadata": {
            "tags": [],
            "needs_background": "light"
          }
        }
      ]
    },
    {
      "cell_type": "code",
      "metadata": {
        "id": "XUVUZqf6VsZN",
        "outputId": "3801dac9-e779-4e87-90ec-34f72f7dff71",
        "colab": {
          "base_uri": "https://localhost:8080/",
          "height": 119
        }
      },
      "source": [
        "print ('The rate of Solex is: ', round((len(solex)/len(df1))*100,2), '%. This is the most popular brand among all the people')\n",
        "print ('The rate of Giant Bicycles is: ', round(len(giant_bicycles)/len(df1)*100,2), '%.')\n",
        "print ('The rate of WeareA2B is: ',\n",
        "       round(len(weareA2B)/len(df1)*100,2), '%.')\n",
        "print ('The rate of OHM Cycles is: ',\n",
        "       round(len(OHM_cycles)/len(df1)*100,2), '%.')\n",
        "print ('The rate of Trek Bicycles is: ',\n",
        "       round(len(trek_bicycles)/len(df1)*100,2), '%.')\n",
        "print ('The rate of Norco Bicycles is: ',\n",
        "       round(len(norco_bicycles)/len(df1)*100,2), '%.')"
      ],
      "execution_count": 44,
      "outputs": [
        {
          "output_type": "stream",
          "text": [
            "The rate of Solex is:  21.66 %. This is the most popular brand among all the people\n",
            "The rate of Giant Bicycles is:  16.2 %.\n",
            "The rate of WeareA2B is:  15.88 %.\n",
            "The rate of OHM Cycles is:  15.28 %.\n",
            "The rate of Trek Bicycles is:  15.2 %.\n",
            "The rate of Norco Bicycles is:  14.81 %.\n"
          ],
          "name": "stdout"
        }
      ]
    },
    {
      "cell_type": "code",
      "metadata": {
        "id": "LfvZo73CXJtb"
      },
      "source": [
        "#find the most popular brand between women and men of the entire dataset\n",
        "#Solex\n",
        "solex_m = solex[solex.gender == 'Male']\n",
        "solex_f = solex[solex.gender == 'Female']\n",
        "#Giant Bicycles\n",
        "giant_bicycles_m = giant_bicycles[giant_bicycles.gender == 'Male']\n",
        "giant_bicycles_f = giant_bicycles[giant_bicycles.gender == 'Female']\n",
        "#WeareA2B\n",
        "weareA2B_m = weareA2B[weareA2B.gender == 'Male']\n",
        "weareA2B_f = weareA2B[weareA2B.gender == 'Female']\n",
        "#OHM_cycles\n",
        "OHM_cycles_m = OHM_cycles[OHM_cycles.gender == 'Male']\n",
        "OHM_cycles_f = OHM_cycles[OHM_cycles.gender == 'Female']\n",
        "#trek bicycles\n",
        "trek_bicyles_m = trek_bicycles[trek_bicycles.gender == 'Male']\n",
        "trek_bicyles_f = trek_bicycles[trek_bicycles.gender == 'Female']\n",
        "#Norco Bicycles\n",
        "norco_bicycles_m = norco_bicycles[norco_bicycles.gender == 'Male']\n",
        "norco_bicycles_f = norco_bicycles[norco_bicycles.gender == 'Female']"
      ],
      "execution_count": 45,
      "outputs": []
    },
    {
      "cell_type": "code",
      "metadata": {
        "id": "my6R0ZAfaxBg",
        "outputId": "15155260-e12a-4fbc-912c-420fd0b84785",
        "colab": {
          "base_uri": "https://localhost:8080/",
          "height": 68
        }
      },
      "source": [
        "print('The percent of men like Solex is: ', round(len(solex_m)/len(solex)*100,2), '%.')\n",
        "print('The percent of women like Solex is: ', round(len(solex_f)/len(solex)*100,2), '%.')\n",
        "print ('More women like Solex than men.')"
      ],
      "execution_count": 46,
      "outputs": [
        {
          "output_type": "stream",
          "text": [
            "The percent of men like Solex is:  48.63 %.\n",
            "The percent of women like Solex is:  51.37 %.\n",
            "More women like Solex than men.\n"
          ],
          "name": "stdout"
        }
      ]
    },
    {
      "cell_type": "code",
      "metadata": {
        "id": "6os-nh9oGLey",
        "outputId": "548098a2-4a0c-49a2-db2f-c71e4d7dd0db",
        "colab": {
          "base_uri": "https://localhost:8080/",
          "height": 68
        }
      },
      "source": [
        "#\n",
        "print('The percent of men like Giant Bicycles is: ', round(len(giant_bicycles_m)/len(giant_bicycles)*100,2), '%.')\n",
        "print('The percent of women like Giant Bicycles is: ', round(len(giant_bicycles_f)/len(giant_bicycles)*100,2), '%.')\n",
        "print ('More women like Giant Bicycles than men.')\n"
      ],
      "execution_count": 47,
      "outputs": [
        {
          "output_type": "stream",
          "text": [
            "The percent of men like Giant Bicycles is:  49.82 %.\n",
            "The percent of women like Giant Bicycles is:  50.18 %.\n",
            "More women like Giant Bicycles than men.\n"
          ],
          "name": "stdout"
        }
      ]
    },
    {
      "cell_type": "code",
      "metadata": {
        "id": "foZ-yXQPM_6T",
        "outputId": "57c17dac-9437-4f8a-df45-e461527b34e8",
        "colab": {
          "base_uri": "https://localhost:8080/",
          "height": 68
        }
      },
      "source": [
        "print('The percent of men like WeareA2B is: ', round(len(weareA2B_m)/len(weareA2B)*100,2), '%.')\n",
        "print('The percent of women like WeareA2B is: ', round(len(weareA2B_f)/len(weareA2B)*100,2), '%.')\n",
        "print ('More women like WeareA2B than men.')\n"
      ],
      "execution_count": 48,
      "outputs": [
        {
          "output_type": "stream",
          "text": [
            "The percent of men like WeareA2B is:  48.81 %.\n",
            "The percent of women like WeareA2B is:  51.19 %.\n",
            "More women like WeareA2B than men.\n"
          ],
          "name": "stdout"
        }
      ]
    },
    {
      "cell_type": "code",
      "metadata": {
        "id": "AEMjZAA4M01l",
        "outputId": "6085efdd-3557-4b71-ea15-7a85118e97a2",
        "colab": {
          "base_uri": "https://localhost:8080/",
          "height": 68
        }
      },
      "source": [
        "#\n",
        "print('The percent of men like OHM Cycles is: ', round(len(OHM_cycles_m)/len(OHM_cycles)*100,2), '%.')\n",
        "print('The percent of women like OHM Cycles is: ', round(len(OHM_cycles_f)/len(OHM_cycles)*100,2), '%.')\n",
        "print ('More women like OHM Cycles than men.')"
      ],
      "execution_count": 49,
      "outputs": [
        {
          "output_type": "stream",
          "text": [
            "The percent of men like OHM Cycles is:  49.06 %.\n",
            "The percent of women like OHM Cycles is:  50.94 %.\n",
            "More women like OHM Cycles than men.\n"
          ],
          "name": "stdout"
        }
      ]
    },
    {
      "cell_type": "code",
      "metadata": {
        "id": "_zcqXYhXM2SQ",
        "outputId": "d93796b8-24ca-442a-bf35-bda520d96071",
        "colab": {
          "base_uri": "https://localhost:8080/",
          "height": 51
        }
      },
      "source": [
        "print('The percent of men like Trek Bicycles is: ', round(len(trek_bicyles_m)/len(trek_bicycles)*100,2), '%.')\n",
        "print('The percent of women like Trek Bicycles is: ', round(len(trek_bicyles_f)/len(trek_bicycles)*100,2), '%.')"
      ],
      "execution_count": 50,
      "outputs": [
        {
          "output_type": "stream",
          "text": [
            "The percent of men like Trek Bicycles is:  48.79 %.\n",
            "The percent of women like Trek Bicycles is:  51.21 %.\n"
          ],
          "name": "stdout"
        }
      ]
    },
    {
      "cell_type": "code",
      "metadata": {
        "id": "Wv5-5--4Ny6r",
        "outputId": "5272cd0a-560c-4a14-f907-0b0316db960d",
        "colab": {
          "base_uri": "https://localhost:8080/",
          "height": 51
        }
      },
      "source": [
        "print('The percent of men like Norco Bicycles is: ', round(len(norco_bicycles_m)/len(norco_bicycles)*100,2), '%.')\n",
        "print('The percent of women like Norco Bicycles is: ', round(len(norco_bicycles_f)/len(norco_bicycles)*100,2), '%.')"
      ],
      "execution_count": 51,
      "outputs": [
        {
          "output_type": "stream",
          "text": [
            "The percent of men like Norco Bicycles is:  50.0 %.\n",
            "The percent of women like Norco Bicycles is:  50.0 %.\n"
          ],
          "name": "stdout"
        }
      ]
    },
    {
      "cell_type": "markdown",
      "metadata": {
        "id": "XoratHmrORg8"
      },
      "source": [
        "###Among the people who have high buying power, what do they like to buy?"
      ]
    },
    {
      "cell_type": "code",
      "metadata": {
        "id": "mSC70cshN-eD",
        "outputId": "c5becedd-26f1-4c16-aadb-15fcf58b1d0d",
        "colab": {
          "base_uri": "https://localhost:8080/",
          "height": 136
        }
      },
      "source": [
        "df2['brand'].value_counts()"
      ],
      "execution_count": 52,
      "outputs": [
        {
          "output_type": "execute_result",
          "data": {
            "text/plain": [
              "WeareA2B          1164\n",
              "Giant Bicycles    1147\n",
              "Solex             1004\n",
              "Trek Bicycles      736\n",
              "OHM Cycles         672\n",
              "Norco Bicycles     592\n",
              "Name: brand, dtype: int64"
            ]
          },
          "metadata": {
            "tags": []
          },
          "execution_count": 52
        }
      ]
    },
    {
      "cell_type": "code",
      "metadata": {
        "id": "0Ako5mmy4rQD",
        "outputId": "8fb4531b-26e3-4095-dede-39c548156104",
        "colab": {
          "base_uri": "https://localhost:8080/",
          "height": 421
        }
      },
      "source": [
        "plt.figure(figsize=(10,6))\n",
        "plt.title('Number of Brands')\n",
        "sns.countplot(x='brand',data=df2)"
      ],
      "execution_count": 53,
      "outputs": [
        {
          "output_type": "execute_result",
          "data": {
            "text/plain": [
              "<matplotlib.axes._subplots.AxesSubplot at 0x7fab50b37e80>"
            ]
          },
          "metadata": {
            "tags": []
          },
          "execution_count": 53
        },
        {
          "output_type": "display_data",
          "data": {
            "image/png": "[encoded data removed]",
            "text/plain": [
              "<Figure size 720x432 with 1 Axes>"
            ]
          },
          "metadata": {
            "tags": [],
            "needs_background": "light"
          }
        }
      ]
    },
    {
      "cell_type": "code",
      "metadata": {
        "id": "5nZGbO9IOwAo"
      },
      "source": [
        "df2_solex = df2[df2.brand == 'Solex']\n",
        "df2_giant_bicycles = df2[df2.brand == 'Giant Bicycles']\n",
        "df2_weareA2B = df2[df2.brand == 'WeareA2B']\n",
        "df2_OHM_cycles = df2[df2.brand == 'OHM Cycles']\n",
        "df2_trek_bicycles = df2[df2.brand == 'Trek Bicycles']\n",
        "df2_norco_bicycles = df2[df2.brand == 'Norco Bicycles']"
      ],
      "execution_count": 54,
      "outputs": []
    },
    {
      "cell_type": "code",
      "metadata": {
        "id": "ulkXRqDtuKeY",
        "outputId": "2ab87270-5ada-4885-ef70-16ce2afb585b",
        "colab": {
          "base_uri": "https://localhost:8080/",
          "height": 530
        }
      },
      "source": [
        "plt.figure(figsize=(10,8))\n",
        "plt.title('Brand Popularity of Rich People')\n",
        "sns.countplot(x='brand',hue='gender',data=df2)"
      ],
      "execution_count": 55,
      "outputs": [
        {
          "output_type": "execute_result",
          "data": {
            "text/plain": [
              "<matplotlib.axes._subplots.AxesSubplot at 0x7fab5399fd30>"
            ]
          },
          "metadata": {
            "tags": []
          },
          "execution_count": 55
        },
        {
          "output_type": "display_data",
          "data": {
            "image/png": "[encoded data removed]",
            "text/plain": [
              "<Figure size 720x576 with 1 Axes>"
            ]
          },
          "metadata": {
            "tags": [],
            "needs_background": "light"
          }
        }
      ]
    },
    {
      "cell_type": "code",
      "metadata": {
        "id": "hCSXQxP2PUn-"
      },
      "source": [
        "#find the most popular brand between women and men of people who have high buying power\n",
        "#Solex\n",
        "df2_solex_m = df2_solex[df2_solex.gender == 'Male']\n",
        "df2_solex_f = df2_solex[df2_solex.gender == 'Female']\n",
        "#Giant Bicycles\n",
        "df2_giant_bicycles_m = df2_giant_bicycles[df2_giant_bicycles.gender == 'Male']\n",
        "df2_giant_bicycles_f = df2_giant_bicycles[df2_giant_bicycles.gender == 'Female']\n",
        "#WeareA2B\n",
        "df2_weareA2B_m = df2_weareA2B[df2_weareA2B.gender == 'Male']\n",
        "df2_weareA2B_f = df2_weareA2B[df2_weareA2B.gender == 'Female']\n",
        "#OHM_cycles\n",
        "df2_OHM_cycles_m = df2_OHM_cycles[df2_OHM_cycles.gender == 'Male']\n",
        "df2_OHM_cycles_f = df2_OHM_cycles[df2_OHM_cycles.gender == 'Female']\n",
        "#trek bicycles\n",
        "df2_trek_bicyles_m = df2_trek_bicycles[df2_trek_bicycles.gender == 'Male']\n",
        "df2_trek_bicyles_f = df2_trek_bicycles[df2_trek_bicycles.gender == 'Female']\n",
        "#Norco Bicycles\n",
        "df2_norco_bicycles_m = df2_norco_bicycles[df2_norco_bicycles.gender == 'Male']\n",
        "df2_norco_bicycles_f = df2_norco_bicycles[df2_norco_bicycles.gender == 'Female']"
      ],
      "execution_count": 56,
      "outputs": []
    },
    {
      "cell_type": "code",
      "metadata": {
        "id": "NpigfNlAP3P8",
        "outputId": "20328ba9-4ae3-4d7e-a1d3-91174e297f6f",
        "colab": {
          "base_uri": "https://localhost:8080/",
          "height": 68
        }
      },
      "source": [
        "#solex\n",
        "print('The percent of men purchased Solex is: ', round(len(df2_solex_m)/len(df2_solex)*100,2), '%.')\n",
        "print('The percent of women purchased Solex is: ', round(len(df2_solex_f)/len(df2_solex)*100,2), '%.')\n",
        "print ('More men purchased Giant Bicycles than women.')"
      ],
      "execution_count": 57,
      "outputs": [
        {
          "output_type": "stream",
          "text": [
            "The percent of men purchased Solex is:  50.4 %.\n",
            "The percent of women purchased Solex is:  49.6 %.\n",
            "More men purchased Giant Bicycles than women.\n"
          ],
          "name": "stdout"
        }
      ]
    },
    {
      "cell_type": "code",
      "metadata": {
        "id": "02KS0DWoYMPM",
        "outputId": "005ab028-dd21-42c7-c398-03aba188b03e",
        "colab": {
          "base_uri": "https://localhost:8080/",
          "height": 68
        }
      },
      "source": [
        "#Giant Bicycles\n",
        "print('The percent of men like Giant Bicycles is: ', round(len(df2_giant_bicycles_m)/len(df2_giant_bicycles)*100,2), '%.')\n",
        "print('The percent of women like Giant Bicycles is: ', round(len(df2_giant_bicycles_f)/len(df2_giant_bicycles)*100,2), '%.')\n",
        "print ('More men purchased Giant Bicycles than women.')"
      ],
      "execution_count": 58,
      "outputs": [
        {
          "output_type": "stream",
          "text": [
            "The percent of men like Giant Bicycles is:  50.13 %.\n",
            "The percent of women like Giant Bicycles is:  49.87 %.\n",
            "More men purchased Giant Bicycles than women.\n"
          ],
          "name": "stdout"
        }
      ]
    },
    {
      "cell_type": "code",
      "metadata": {
        "id": "sABhRtZPbzMw",
        "outputId": "b0cf13d3-fcfe-45b7-f9db-6f5bcd14deda",
        "colab": {
          "base_uri": "https://localhost:8080/",
          "height": 68
        }
      },
      "source": [
        "#WeareA2B\n",
        "print('The percent of men like WeareA2B is: ', round(len(df2_weareA2B_m)/len(df2_weareA2B)*100,2), '%.')\n",
        "print('The percent of women like WeareA2B is: ', round(len(df2_weareA2B_f)/len(df2_weareA2B)*100,2), '%.')\n",
        "print ('More women purchased WeareA2B than men.')"
      ],
      "execution_count": 59,
      "outputs": [
        {
          "output_type": "stream",
          "text": [
            "The percent of men like WeareA2B is:  48.02 %.\n",
            "The percent of women like WeareA2B is:  51.98 %.\n",
            "More women purchased WeareA2B than men.\n"
          ],
          "name": "stdout"
        }
      ]
    },
    {
      "cell_type": "code",
      "metadata": {
        "id": "JE1G6rBycLdv",
        "outputId": "f779503c-7a99-47f2-df7c-cebf9345f23a",
        "colab": {
          "base_uri": "https://localhost:8080/",
          "height": 68
        }
      },
      "source": [
        "#OHM Cycles\n",
        "print('The percent of men like OHM Cycles is: ', round(len(df2_OHM_cycles_m)/len(df2_OHM_cycles)*100,2), '%.')\n",
        "print('The percent of women like OHM Cycles is: ', round(len(df2_OHM_cycles_f)/len(df2_OHM_cycles)*100,2), '%.')\n",
        "print ('More women like OHM Cycles than men.')"
      ],
      "execution_count": 60,
      "outputs": [
        {
          "output_type": "stream",
          "text": [
            "The percent of men like OHM Cycles is:  50.15 %.\n",
            "The percent of women like OHM Cycles is:  49.85 %.\n",
            "More women like OHM Cycles than men.\n"
          ],
          "name": "stdout"
        }
      ]
    },
    {
      "cell_type": "code",
      "metadata": {
        "id": "waVGUTKAclWe",
        "outputId": "e95aa88f-0e79-4bc9-c873-7d16cf71cd7c",
        "colab": {
          "base_uri": "https://localhost:8080/",
          "height": 68
        }
      },
      "source": [
        "#Trek Bicycles\n",
        "print('The percent of men like Trek Bicycles is: ', round(len(df2_trek_bicyles_m)/len(df2_trek_bicycles)*100,2), '%.')\n",
        "print('The percent of women like Trek Bicycles is: ', round(len(df2_trek_bicyles_f)/len(df2_trek_bicycles)*100,2), '%.')\n",
        "print ('More men like Trek Bicycles than women.')"
      ],
      "execution_count": 61,
      "outputs": [
        {
          "output_type": "stream",
          "text": [
            "The percent of men like Trek Bicycles is:  50.14 %.\n",
            "The percent of women like Trek Bicycles is:  49.86 %.\n",
            "More men like Trek Bicycles than women.\n"
          ],
          "name": "stdout"
        }
      ]
    },
    {
      "cell_type": "code",
      "metadata": {
        "id": "M6tbYFbZcuEO",
        "outputId": "95aeccb6-22ce-4912-e5aa-03a017edad12",
        "colab": {
          "base_uri": "https://localhost:8080/",
          "height": 68
        }
      },
      "source": [
        "#Norco Bicycles\n",
        "print('The percent of men like Norco Bicycles is: ', round(len(df2_norco_bicycles_m)/len(df2_norco_bicycles)*100,2), '%.')\n",
        "print('The percent of women like Norco Bicycles is: ', round(len(df2_norco_bicycles_f)/len(df2_norco_bicycles)*100,2), '%.')\n",
        "print ('More women like Norco Bicycles than men.')"
      ],
      "execution_count": 62,
      "outputs": [
        {
          "output_type": "stream",
          "text": [
            "The percent of men like Norco Bicycles is:  48.82 %.\n",
            "The percent of women like Norco Bicycles is:  51.18 %.\n",
            "More women like Norco Bicycles than men.\n"
          ],
          "name": "stdout"
        }
      ]
    },
    {
      "cell_type": "markdown",
      "metadata": {
        "id": "xFTPjUga9yyo"
      },
      "source": [
        "### How's Wealth Segment Affecting the Buying Power?\n",
        "Do different wealth segment influence customer's ability to buy stuff?"
      ]
    },
    {
      "cell_type": "code",
      "metadata": {
        "id": "gyXs450h-CfR",
        "outputId": "59531d11-5fb7-4215-a35d-2a520418f3d3",
        "colab": {
          "base_uri": "https://localhost:8080/",
          "height": 85
        }
      },
      "source": [
        "df1['wealth_segment'].value_counts()"
      ],
      "execution_count": 63,
      "outputs": [
        {
          "output_type": "execute_result",
          "data": {
            "text/plain": [
              "Mass Customer        4981\n",
              "High Net Worth       2589\n",
              "Affluent Customer    2505\n",
              "Name: wealth_segment, dtype: int64"
            ]
          },
          "metadata": {
            "tags": []
          },
          "execution_count": 63
        }
      ]
    },
    {
      "cell_type": "code",
      "metadata": {
        "id": "hNcO3OB--gsd"
      },
      "source": [
        "mass = df1[df1['wealth_segment'] == 'Mass Customer']\n",
        "high = df1[df1['wealth_segment'] == 'High Net Worth']\n",
        "affluent = df1[df1['wealth_segment'] == 'Affluent Customer'] "
      ],
      "execution_count": 64,
      "outputs": []
    },
    {
      "cell_type": "code",
      "metadata": {
        "id": "7_DcGRjx-35Q"
      },
      "source": [
        "mass_m = mass[mass['gender'] == 'men']\n",
        "mass_f = mass[mass['gender'] == 'women']\n",
        "\n",
        "high_m = high[high['gender'] == 'men']\n",
        "high_f = high[high['gender'] == 'women']\n",
        "\n",
        "affluent_m = affluent[affluent['gender'] == 'men']\n",
        "affluent_f = affluent[affluent['gender'] == 'women']"
      ],
      "execution_count": 65,
      "outputs": []
    },
    {
      "cell_type": "code",
      "metadata": {
        "id": "P3lfHWjx_0Y4",
        "outputId": "aef57ba2-b53d-4412-d45c-1f9bd8227c6e",
        "colab": {
          "base_uri": "https://localhost:8080/",
          "height": 367
        }
      },
      "source": [
        "plt.figure(figsize=(8,5))\n",
        "plt.title('Mass Customer')\n",
        "sns.countplot(x='brand',hue='gender',data=mass) #mass customer only"
      ],
      "execution_count": 66,
      "outputs": [
        {
          "output_type": "execute_result",
          "data": {
            "text/plain": [
              "<matplotlib.axes._subplots.AxesSubplot at 0x7fab50a51198>"
            ]
          },
          "metadata": {
            "tags": []
          },
          "execution_count": 66
        },
        {
          "output_type": "display_data",
          "data": {
            "image/png": "[encoded data removed]",
            "text/plain": [
              "<Figure size 576x360 with 1 Axes>"
            ]
          },
          "metadata": {
            "tags": [],
            "needs_background": "light"
          }
        }
      ]
    },
    {
      "cell_type": "code",
      "metadata": {
        "id": "0ZKpfXp0AXJm",
        "outputId": "c53807eb-3144-4fcb-b7a7-6836c958d381",
        "colab": {
          "base_uri": "https://localhost:8080/",
          "height": 367
        }
      },
      "source": [
        "plt.figure(figsize=(8,5))\n",
        "plt.title('High Net Worth')\n",
        "sns.countplot(x='brand',hue='gender',data=high) #High Net Worth customer only"
      ],
      "execution_count": 67,
      "outputs": [
        {
          "output_type": "execute_result",
          "data": {
            "text/plain": [
              "<matplotlib.axes._subplots.AxesSubplot at 0x7fab509d6ef0>"
            ]
          },
          "metadata": {
            "tags": []
          },
          "execution_count": 67
        },
        {
          "output_type": "display_data",
          "data": {
            "image/png": "[encoded data removed]",
            "text/plain": [
              "<Figure size 576x360 with 1 Axes>"
            ]
          },
          "metadata": {
            "tags": [],
            "needs_background": "light"
          }
        }
      ]
    },
    {
      "cell_type": "code",
      "metadata": {
        "id": "czl77-WrAk1H",
        "outputId": "a5d102c9-b04a-4037-ce51-ecfeb2410f0b",
        "colab": {
          "base_uri": "https://localhost:8080/",
          "height": 367
        }
      },
      "source": [
        "plt.figure(figsize=(8,5))\n",
        "plt.title('Affluent Customer')\n",
        "sns.countplot(x='brand',hue='gender',data=affluent) #Affluent customer only"
      ],
      "execution_count": 68,
      "outputs": [
        {
          "output_type": "execute_result",
          "data": {
            "text/plain": [
              "<matplotlib.axes._subplots.AxesSubplot at 0x7fab50972c88>"
            ]
          },
          "metadata": {
            "tags": []
          },
          "execution_count": 68
        },
        {
          "output_type": "display_data",
          "data": {
            "image/png": "[encoded data removed]",
            "text/plain": [
              "<Figure size 576x360 with 1 Axes>"
            ]
          },
          "metadata": {
            "tags": [],
            "needs_background": "light"
          }
        }
      ]
    },
    {
      "cell_type": "code",
      "metadata": {
        "id": "cG4m0YWHWaMS"
      },
      "source": [
        ""
      ],
      "execution_count": 68,
      "outputs": []
    },
    {
      "cell_type": "markdown",
      "metadata": {
        "id": "-Sj-T5SdlOnJ"
      },
      "source": [
        "#Conclusion\n",
        "Generally, men have higher buying power than women. However, if we don't consider who has higher buying power, women are more likely to buy all brands than men. If we want to target people who have the high buying power, their favorite brand is WearA2B. Women who has high buying power like all brands except slight off on Solex. Men who have high buying power tend to buy Solex.\n"
      ]
    },
    {
      "cell_type": "markdown",
      "metadata": {
        "id": "g7z8LbsM8lwZ"
      },
      "source": [
        "## New Customer data"
      ]
    },
    {
      "cell_type": "code",
      "metadata": {
        "id": "tf1Vf9ZSDZha"
      },
      "source": [
        "new['year'] = new['DOB'].dt.year"
      ],
      "execution_count": 69,
      "outputs": []
    },
    {
      "cell_type": "code",
      "metadata": {
        "id": "FgC5fksAC3jT"
      },
      "source": [
        "new = new[new['year'] >= 1970]\n",
        "new = new[new['year'] <= 2000]"
      ],
      "execution_count": 70,
      "outputs": []
    },
    {
      "cell_type": "code",
      "metadata": {
        "id": "PIPADvCRHWCr",
        "outputId": "518feee3-c4ad-41bd-d74e-8aea73c287d7",
        "colab": {
          "base_uri": "https://localhost:8080/",
          "height": 34
        }
      },
      "source": [
        "new['DOB'].max()"
      ],
      "execution_count": 71,
      "outputs": [
        {
          "output_type": "execute_result",
          "data": {
            "text/plain": [
              "Timestamp('2000-12-09 00:00:00')"
            ]
          },
          "metadata": {
            "tags": []
          },
          "execution_count": 71
        }
      ]
    },
    {
      "cell_type": "code",
      "metadata": {
        "id": "DumAWPtvAl2y"
      },
      "source": [
        "new['name'] = new['first_name'] + ' ' + new['last_name']"
      ],
      "execution_count": 72,
      "outputs": []
    },
    {
      "cell_type": "code",
      "metadata": {
        "id": "zQGxe5Jt8y0q",
        "outputId": "cfb3b14e-55fd-4d41-8aa2-7254e086f0e3",
        "colab": {
          "base_uri": "https://localhost:8080/",
          "height": 359
        }
      },
      "source": [
        "ax = new.sort_values(by='past_3_years_bike_related_purchases',ascending=False)\n",
        "ax[['name','gender','past_3_years_bike_related_purchases']].head(10)"
      ],
      "execution_count": 73,
      "outputs": [
        {
          "output_type": "execute_result",
          "data": {
            "text/html": [
              "<div>\n",
              "<style scoped>\n",
              "    .dataframe tbody tr th:only-of-type {\n",
              "        vertical-align: middle;\n",
              "    }\n",
              "\n",
              "    .dataframe tbody tr th {\n",
              "        vertical-align: top;\n",
              "    }\n",
              "\n",
              "    .dataframe thead th {\n",
              "        text-align: right;\n",
              "    }\n",
              "</style>\n",
              "<table border=\"1\" class=\"dataframe\">\n",
              "  <thead>\n",
              "    <tr style=\"text-align: right;\">\n",
              "      <th></th>\n",
              "      <th>name</th>\n",
              "      <th>gender</th>\n",
              "      <th>past_3_years_bike_related_purchases</th>\n",
              "    </tr>\n",
              "  </thead>\n",
              "  <tbody>\n",
              "    <tr>\n",
              "      <th>748</th>\n",
              "      <td>Mikol Eck</td>\n",
              "      <td>Male</td>\n",
              "      <td>99</td>\n",
              "    </tr>\n",
              "    <tr>\n",
              "      <th>272</th>\n",
              "      <td>Theresa Cowper</td>\n",
              "      <td>Female</td>\n",
              "      <td>99</td>\n",
              "    </tr>\n",
              "    <tr>\n",
              "      <th>546</th>\n",
              "      <td>Sammy Borsi</td>\n",
              "      <td>Female</td>\n",
              "      <td>99</td>\n",
              "    </tr>\n",
              "    <tr>\n",
              "      <th>359</th>\n",
              "      <td>Pace Clemonts</td>\n",
              "      <td>Male</td>\n",
              "      <td>99</td>\n",
              "    </tr>\n",
              "    <tr>\n",
              "      <th>652</th>\n",
              "      <td>Leticia Hovenden</td>\n",
              "      <td>Female</td>\n",
              "      <td>98</td>\n",
              "    </tr>\n",
              "    <tr>\n",
              "      <th>931</th>\n",
              "      <td>Kizzee Agget</td>\n",
              "      <td>Female</td>\n",
              "      <td>98</td>\n",
              "    </tr>\n",
              "    <tr>\n",
              "      <th>75</th>\n",
              "      <td>Hasheem Groucock</td>\n",
              "      <td>Male</td>\n",
              "      <td>98</td>\n",
              "    </tr>\n",
              "    <tr>\n",
              "      <th>783</th>\n",
              "      <td>Calhoun Mussington</td>\n",
              "      <td>Male</td>\n",
              "      <td>98</td>\n",
              "    </tr>\n",
              "    <tr>\n",
              "      <th>683</th>\n",
              "      <td>Selle Casper</td>\n",
              "      <td>Female</td>\n",
              "      <td>98</td>\n",
              "    </tr>\n",
              "    <tr>\n",
              "      <th>421</th>\n",
              "      <td>Etan Prinett</td>\n",
              "      <td>Male</td>\n",
              "      <td>97</td>\n",
              "    </tr>\n",
              "  </tbody>\n",
              "</table>\n",
              "</div>"
            ],
            "text/plain": [
              "                   name  gender  past_3_years_bike_related_purchases\n",
              "748           Mikol Eck    Male                                   99\n",
              "272      Theresa Cowper  Female                                   99\n",
              "546         Sammy Borsi  Female                                   99\n",
              "359       Pace Clemonts    Male                                   99\n",
              "652    Leticia Hovenden  Female                                   98\n",
              "931        Kizzee Agget  Female                                   98\n",
              "75     Hasheem Groucock    Male                                   98\n",
              "783  Calhoun Mussington    Male                                   98\n",
              "683        Selle Casper  Female                                   98\n",
              "421        Etan Prinett    Male                                   97"
            ]
          },
          "metadata": {
            "tags": []
          },
          "execution_count": 73
        }
      ]
    },
    {
      "cell_type": "code",
      "metadata": {
        "id": "QWp2dYp_9EYQ",
        "outputId": "8852571c-8217-48ce-b039-cd3508c5e864",
        "colab": {
          "base_uri": "https://localhost:8080/",
          "height": 204
        }
      },
      "source": [
        "ax = new.sort_values(by='past_3_years_bike_related_purchases')\n",
        "ax[['name','gender','past_3_years_bike_related_purchases']].head()"
      ],
      "execution_count": 74,
      "outputs": [
        {
          "output_type": "execute_result",
          "data": {
            "text/html": [
              "<div>\n",
              "<style scoped>\n",
              "    .dataframe tbody tr th:only-of-type {\n",
              "        vertical-align: middle;\n",
              "    }\n",
              "\n",
              "    .dataframe tbody tr th {\n",
              "        vertical-align: top;\n",
              "    }\n",
              "\n",
              "    .dataframe thead th {\n",
              "        text-align: right;\n",
              "    }\n",
              "</style>\n",
              "<table border=\"1\" class=\"dataframe\">\n",
              "  <thead>\n",
              "    <tr style=\"text-align: right;\">\n",
              "      <th></th>\n",
              "      <th>name</th>\n",
              "      <th>gender</th>\n",
              "      <th>past_3_years_bike_related_purchases</th>\n",
              "    </tr>\n",
              "  </thead>\n",
              "  <tbody>\n",
              "    <tr>\n",
              "      <th>798</th>\n",
              "      <td>Cherye Stanfield</td>\n",
              "      <td>Female</td>\n",
              "      <td>0</td>\n",
              "    </tr>\n",
              "    <tr>\n",
              "      <th>113</th>\n",
              "      <td>Meriel Tapp</td>\n",
              "      <td>Female</td>\n",
              "      <td>0</td>\n",
              "    </tr>\n",
              "    <tr>\n",
              "      <th>545</th>\n",
              "      <td>Katy Crooke</td>\n",
              "      <td>Female</td>\n",
              "      <td>0</td>\n",
              "    </tr>\n",
              "    <tr>\n",
              "      <th>225</th>\n",
              "      <td>Hersh Stubbert</td>\n",
              "      <td>Male</td>\n",
              "      <td>0</td>\n",
              "    </tr>\n",
              "    <tr>\n",
              "      <th>451</th>\n",
              "      <td>Katie Warhurst</td>\n",
              "      <td>Female</td>\n",
              "      <td>0</td>\n",
              "    </tr>\n",
              "  </tbody>\n",
              "</table>\n",
              "</div>"
            ],
            "text/plain": [
              "                 name  gender  past_3_years_bike_related_purchases\n",
              "798  Cherye Stanfield  Female                                    0\n",
              "113       Meriel Tapp  Female                                    0\n",
              "545       Katy Crooke  Female                                    0\n",
              "225    Hersh Stubbert    Male                                    0\n",
              "451    Katie Warhurst  Female                                    0"
            ]
          },
          "metadata": {
            "tags": []
          },
          "execution_count": 74
        }
      ]
    }
  ]
}