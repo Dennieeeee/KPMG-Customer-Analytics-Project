{
  "nbformat": 4,
  "nbformat_minor": 0,
  "metadata": {
    "colab": {
      "name": "Early EDA and Descriptive Statistics.ipynb",
      "provenance": [],
      "collapsed_sections": [],
      "authorship_tag": "ABX9TyO6dZKV3LaWFlke4i/i+SJa"
    },
    "kernelspec": {
      "name": "python3",
      "display_name": "Python 3"
    }
  },
  "cells": [
    {
      "cell_type": "markdown",
      "metadata": {
        "id": "xQYoOtMBQ75c"
      },
      "source": [
        "# Overview:\n",
        "This dataset contains variables gender, transaction_date, online_order, order_status, brand, product_line, product_class, product_size, list_price,  standard_cost.\n",
        "\n",
        "Business question is to target the right customer for each brand.\n"
      ]
    },
    {
      "cell_type": "code",
      "metadata": {
        "id": "UCpxX7gyxJCQ",
        "outputId": "b9f44b48-658a-4c0e-fcc2-280313655405",
        "colab": {
          "base_uri": "https://localhost:8080/"
        }
      },
      "source": [
        "import pandas as pd\n",
        "import numpy as np\n",
        "import matplotlib.pyplot as plt\n",
        "import seaborn as sns\n",
        "%matplotlib inline\n",
        "import datetime\n",
        "from pylab import rcParams\n",
        "\n",
        "# Fit the ARIMA model\n",
        "from statsmodels.tsa.arima_model import ARIMA\n",
        "from pandas import DataFrame\n",
        "from matplotlib import pyplot\n",
        "\n",
        "from pandas import read_csv\n",
        "import statsmodels\n",
        "from statsmodels.tsa.stattools import adfuller\n",
        "import statsmodels.api as sm"
      ],
      "execution_count": 1,
      "outputs": [
        {
          "output_type": "stream",
          "text": [
            "/usr/local/lib/python3.6/dist-packages/statsmodels/tools/_testing.py:19: FutureWarning: pandas.util.testing is deprecated. Use the functions in the public API at pandas.testing instead.\n",
            "  import pandas.util.testing as tm\n"
          ],
          "name": "stderr"
        }
      ]
    },
    {
      "cell_type": "code",
      "metadata": {
        "id": "vh2pRnDl74Vk"
      },
      "source": [
        "#this is the new dataset created from the previous file\n",
        "#current and past customer list\n",
        "df = pd.read_csv('https://raw.githubusercontent.com/Dennieeeee/KPMG-Customer-Analytics-Project/master/Data/KPMG_new_data.csv')"
      ],
      "execution_count": 2,
      "outputs": []
    },
    {
      "cell_type": "code",
      "metadata": {
        "id": "4t1B1zoD8q2s"
      },
      "source": [
        "#new customer list\n",
        "new = pd.read_csv('https://raw.githubusercontent.com/Dennieeeee/KPMG-Customer-Analytics-Project/master/Data/NewCustomerList.csv')"
      ],
      "execution_count": 3,
      "outputs": []
    },
    {
      "cell_type": "markdown",
      "metadata": {
        "id": "PnHnWiYay8Pv"
      },
      "source": [
        "# Preparing the Dataset"
      ]
    },
    {
      "cell_type": "code",
      "metadata": {
        "id": "J2ufvhacy7Vw",
        "outputId": "152bbcd7-325f-410a-ec03-8bc70e6d7016",
        "colab": {
          "base_uri": "https://localhost:8080/"
        }
      },
      "source": [
        "df.columns"
      ],
      "execution_count": 4,
      "outputs": [
        {
          "output_type": "execute_result",
          "data": {
            "text/plain": [
              "Index(['customer_id', 'address', 'postcode', 'state', 'country',\n",
              "       'property_valuation', 'first_name', 'last_name', 'gender',\n",
              "       'past_3_years_bike_related_purchases', 'DOB', 'job_title',\n",
              "       'job_industry_category', 'wealth_segment', 'deceased_indicator',\n",
              "       'owns_car', 'tenure', 'transaction_id', 'product_id',\n",
              "       'transaction_date', 'online_order', 'order_status', 'brand',\n",
              "       'product_line', 'product_class', 'product_size', 'list_price',\n",
              "       'standard_cost', 'product_first_sold_date', 'customer_type',\n",
              "       'birth_year', 'age', 'month', 'weekday', 'transaction_year'],\n",
              "      dtype='object')"
            ]
          },
          "metadata": {
            "tags": []
          },
          "execution_count": 4
        }
      ]
    },
    {
      "cell_type": "code",
      "metadata": {
        "id": "JEC32YgGbhCk",
        "outputId": "a95af3b2-4e97-4d13-f6e0-d6832c1f7f73",
        "colab": {
          "base_uri": "https://localhost:8080/"
        }
      },
      "source": [
        "print(df.iloc[:,[2,4]].head())"
      ],
      "execution_count": 5,
      "outputs": [
        {
          "output_type": "stream",
          "text": [
            "   postcode    country\n",
            "0      2333  Australia\n",
            "1      2333  Australia\n",
            "2      2333  Australia\n",
            "3      2333  Australia\n",
            "4      2333  Australia\n"
          ],
          "name": "stdout"
        }
      ]
    },
    {
      "cell_type": "code",
      "metadata": {
        "id": "oyM4fTro2X2H",
        "outputId": "cafe9cde-6dd3-4190-b74b-5c3b94d61964",
        "colab": {
          "base_uri": "https://localhost:8080/"
        }
      },
      "source": [
        "df.shape"
      ],
      "execution_count": 6,
      "outputs": [
        {
          "output_type": "execute_result",
          "data": {
            "text/plain": [
              "(12885, 35)"
            ]
          },
          "metadata": {
            "tags": []
          },
          "execution_count": 6
        }
      ]
    },
    {
      "cell_type": "code",
      "metadata": {
        "id": "_ySIABg39Uvz",
        "outputId": "fdb029b6-e010-4b55-fce5-47f1146b18d6",
        "colab": {
          "base_uri": "https://localhost:8080/",
          "height": 180
        }
      },
      "source": [
        "new.head(1)"
      ],
      "execution_count": 7,
      "outputs": [
        {
          "output_type": "execute_result",
          "data": {
            "text/html": [
              "<div>\n",
              "<style scoped>\n",
              "    .dataframe tbody tr th:only-of-type {\n",
              "        vertical-align: middle;\n",
              "    }\n",
              "\n",
              "    .dataframe tbody tr th {\n",
              "        vertical-align: top;\n",
              "    }\n",
              "\n",
              "    .dataframe thead th {\n",
              "        text-align: right;\n",
              "    }\n",
              "</style>\n",
              "<table border=\"1\" class=\"dataframe\">\n",
              "  <thead>\n",
              "    <tr style=\"text-align: right;\">\n",
              "      <th></th>\n",
              "      <th>first_name</th>\n",
              "      <th>last_name</th>\n",
              "      <th>gender</th>\n",
              "      <th>past_3_years_bike_related_purchases</th>\n",
              "      <th>DOB</th>\n",
              "      <th>job_title</th>\n",
              "      <th>job_industry_category</th>\n",
              "      <th>wealth_segment</th>\n",
              "      <th>deceased_indicator</th>\n",
              "      <th>owns_car</th>\n",
              "      <th>tenure</th>\n",
              "      <th>address</th>\n",
              "      <th>postcode</th>\n",
              "      <th>state</th>\n",
              "      <th>country</th>\n",
              "      <th>property_valuation</th>\n",
              "      <th>Unnamed: 16</th>\n",
              "      <th>Unnamed: 17</th>\n",
              "      <th>Unnamed: 18</th>\n",
              "      <th>Unnamed: 19</th>\n",
              "      <th>Unnamed: 20</th>\n",
              "      <th>Rank</th>\n",
              "      <th>Value</th>\n",
              "      <th>Unnamed: 23</th>\n",
              "      <th>Unnamed: 24</th>\n",
              "      <th>Unnamed: 25</th>\n",
              "      <th>Unnamed: 26</th>\n",
              "      <th>Unnamed: 27</th>\n",
              "      <th>Unnamed: 28</th>\n",
              "      <th>Unnamed: 29</th>\n",
              "      <th>Unnamed: 30</th>\n",
              "      <th>Unnamed: 31</th>\n",
              "      <th>Unnamed: 32</th>\n",
              "      <th>Unnamed: 33</th>\n",
              "      <th>Unnamed: 34</th>\n",
              "      <th>Unnamed: 35</th>\n",
              "      <th>Unnamed: 36</th>\n",
              "      <th>Unnamed: 37</th>\n",
              "      <th>Unnamed: 38</th>\n",
              "      <th>Unnamed: 39</th>\n",
              "      <th>...</th>\n",
              "      <th>Unnamed: 216</th>\n",
              "      <th>Unnamed: 217</th>\n",
              "      <th>Unnamed: 218</th>\n",
              "      <th>Unnamed: 219</th>\n",
              "      <th>Unnamed: 220</th>\n",
              "      <th>Unnamed: 221</th>\n",
              "      <th>Unnamed: 222</th>\n",
              "      <th>Unnamed: 223</th>\n",
              "      <th>Unnamed: 224</th>\n",
              "      <th>Unnamed: 225</th>\n",
              "      <th>Unnamed: 226</th>\n",
              "      <th>Unnamed: 227</th>\n",
              "      <th>Unnamed: 228</th>\n",
              "      <th>Unnamed: 229</th>\n",
              "      <th>Unnamed: 230</th>\n",
              "      <th>Unnamed: 231</th>\n",
              "      <th>Unnamed: 232</th>\n",
              "      <th>Unnamed: 233</th>\n",
              "      <th>Unnamed: 234</th>\n",
              "      <th>Unnamed: 235</th>\n",
              "      <th>Unnamed: 236</th>\n",
              "      <th>Unnamed: 237</th>\n",
              "      <th>Unnamed: 238</th>\n",
              "      <th>Unnamed: 239</th>\n",
              "      <th>Unnamed: 240</th>\n",
              "      <th>Unnamed: 241</th>\n",
              "      <th>Unnamed: 242</th>\n",
              "      <th>Unnamed: 243</th>\n",
              "      <th>Unnamed: 244</th>\n",
              "      <th>Unnamed: 245</th>\n",
              "      <th>Unnamed: 246</th>\n",
              "      <th>Unnamed: 247</th>\n",
              "      <th>Unnamed: 248</th>\n",
              "      <th>Unnamed: 249</th>\n",
              "      <th>Unnamed: 250</th>\n",
              "      <th>Unnamed: 251</th>\n",
              "      <th>Unnamed: 252</th>\n",
              "      <th>Unnamed: 253</th>\n",
              "      <th>Unnamed: 254</th>\n",
              "      <th>Unnamed: 255</th>\n",
              "    </tr>\n",
              "  </thead>\n",
              "  <tbody>\n",
              "    <tr>\n",
              "      <th>0</th>\n",
              "      <td>Chickie</td>\n",
              "      <td>Brister</td>\n",
              "      <td>Male</td>\n",
              "      <td>86</td>\n",
              "      <td>1957-07-12</td>\n",
              "      <td>General Manager</td>\n",
              "      <td>Manufacturing</td>\n",
              "      <td>Mass Customer</td>\n",
              "      <td>N</td>\n",
              "      <td>Yes</td>\n",
              "      <td>14</td>\n",
              "      <td>45 Shopko Center</td>\n",
              "      <td>4500</td>\n",
              "      <td>QLD</td>\n",
              "      <td>Australia</td>\n",
              "      <td>6.0</td>\n",
              "      <td>0.57</td>\n",
              "      <td>0.7125</td>\n",
              "      <td>0.890625</td>\n",
              "      <td>0.757031</td>\n",
              "      <td>1</td>\n",
              "      <td>1</td>\n",
              "      <td>1.71875</td>\n",
              "      <td>NaN</td>\n",
              "      <td>NaN</td>\n",
              "      <td>NaN</td>\n",
              "      <td>NaN</td>\n",
              "      <td>NaN</td>\n",
              "      <td>NaN</td>\n",
              "      <td>NaN</td>\n",
              "      <td>NaN</td>\n",
              "      <td>NaN</td>\n",
              "      <td>NaN</td>\n",
              "      <td>NaN</td>\n",
              "      <td>NaN</td>\n",
              "      <td>NaN</td>\n",
              "      <td>NaN</td>\n",
              "      <td>NaN</td>\n",
              "      <td>NaN</td>\n",
              "      <td>NaN</td>\n",
              "      <td>...</td>\n",
              "      <td>NaN</td>\n",
              "      <td>NaN</td>\n",
              "      <td>NaN</td>\n",
              "      <td>NaN</td>\n",
              "      <td>NaN</td>\n",
              "      <td>NaN</td>\n",
              "      <td>NaN</td>\n",
              "      <td>NaN</td>\n",
              "      <td>NaN</td>\n",
              "      <td>NaN</td>\n",
              "      <td>NaN</td>\n",
              "      <td>NaN</td>\n",
              "      <td>NaN</td>\n",
              "      <td>NaN</td>\n",
              "      <td>NaN</td>\n",
              "      <td>NaN</td>\n",
              "      <td>NaN</td>\n",
              "      <td>NaN</td>\n",
              "      <td>NaN</td>\n",
              "      <td>NaN</td>\n",
              "      <td>NaN</td>\n",
              "      <td>NaN</td>\n",
              "      <td>NaN</td>\n",
              "      <td>NaN</td>\n",
              "      <td>NaN</td>\n",
              "      <td>NaN</td>\n",
              "      <td>NaN</td>\n",
              "      <td>NaN</td>\n",
              "      <td>NaN</td>\n",
              "      <td>NaN</td>\n",
              "      <td>NaN</td>\n",
              "      <td>NaN</td>\n",
              "      <td>NaN</td>\n",
              "      <td>NaN</td>\n",
              "      <td>NaN</td>\n",
              "      <td>NaN</td>\n",
              "      <td>NaN</td>\n",
              "      <td>NaN</td>\n",
              "      <td>NaN</td>\n",
              "      <td>NaN</td>\n",
              "    </tr>\n",
              "  </tbody>\n",
              "</table>\n",
              "<p>1 rows × 256 columns</p>\n",
              "</div>"
            ],
            "text/plain": [
              "  first_name last_name gender  ...  Unnamed: 253 Unnamed: 254 Unnamed: 255\n",
              "0    Chickie   Brister   Male  ...           NaN          NaN          NaN\n",
              "\n",
              "[1 rows x 256 columns]"
            ]
          },
          "metadata": {
            "tags": []
          },
          "execution_count": 7
        }
      ]
    },
    {
      "cell_type": "code",
      "metadata": {
        "id": "OT7Qbq3e9g2u",
        "outputId": "d4074a74-d1aa-4936-f1d1-dbd2266de2b0",
        "colab": {
          "base_uri": "https://localhost:8080/"
        }
      },
      "source": [
        "new.columns"
      ],
      "execution_count": 8,
      "outputs": [
        {
          "output_type": "execute_result",
          "data": {
            "text/plain": [
              "Index(['first_name', 'last_name', 'gender',\n",
              "       'past_3_years_bike_related_purchases', 'DOB', 'job_title',\n",
              "       'job_industry_category', 'wealth_segment', 'deceased_indicator',\n",
              "       'owns_car',\n",
              "       ...\n",
              "       'Unnamed: 246', 'Unnamed: 247', 'Unnamed: 248', 'Unnamed: 249',\n",
              "       'Unnamed: 250', 'Unnamed: 251', 'Unnamed: 252', 'Unnamed: 253',\n",
              "       'Unnamed: 254', 'Unnamed: 255'],\n",
              "      dtype='object', length=256)"
            ]
          },
          "metadata": {
            "tags": []
          },
          "execution_count": 8
        }
      ]
    },
    {
      "cell_type": "code",
      "metadata": {
        "id": "YpvO14Pb9fps"
      },
      "source": [
        "features_drop = ['Unnamed: 16', 'Unnamed: 17', 'Unnamed: 18','Unnamed: 19', 'Unnamed: 20']\n",
        "new = new.drop(features_drop, axis=1)"
      ],
      "execution_count": 9,
      "outputs": []
    },
    {
      "cell_type": "code",
      "metadata": {
        "id": "76VfOgcS9RlJ"
      },
      "source": [
        "#convert DOB to datetime\n",
        "new['DOB'] = pd.to_datetime(new['DOB'])"
      ],
      "execution_count": 10,
      "outputs": []
    },
    {
      "cell_type": "code",
      "metadata": {
        "id": "6OZP1bXpW1qS"
      },
      "source": [
        "#convert transaction date to datetime\n",
        "df['transaction_date'] = pd.to_datetime(df['transaction_date'])\n",
        "df['DOB']=pd.to_datetime(df['DOB'])"
      ],
      "execution_count": 11,
      "outputs": []
    },
    {
      "cell_type": "code",
      "metadata": {
        "id": "gjlIILZZ6-mk",
        "outputId": "58089ed6-0a34-4286-fd62-8e78e9e627ab",
        "colab": {
          "base_uri": "https://localhost:8080/"
        }
      },
      "source": [
        "#subset data to people born between 2000 to 1970: age of 20 to 50 \n",
        "df1 = df[(df['birth_year'] >= 1970) & (df['birth_year'] <= 2000)]\n",
        "print(df1.shape)"
      ],
      "execution_count": 12,
      "outputs": [
        {
          "output_type": "stream",
          "text": [
            "(9146, 35)\n"
          ],
          "name": "stdout"
        }
      ]
    },
    {
      "cell_type": "code",
      "metadata": {
        "id": "d45RCungZL9H",
        "outputId": "aeefb15d-35fa-470a-f47a-35fa74dc0caf",
        "colab": {
          "base_uri": "https://localhost:8080/"
        }
      },
      "source": [
        "print(df1['online_order'].value_counts())\n",
        "print()\n",
        "print(df1['brand'].value_counts())\n",
        "print()\n",
        "print(df1['product_line'].value_counts())\n",
        "print()\n",
        "print(df1['product_class'].value_counts())\n",
        "print()\n",
        "print(df1['job_title'].value_counts())\n",
        "print()\n",
        "print(df1['job_industry_category'].value_counts())\n",
        "print()\n",
        "print(df1['wealth_segment'].value_counts())\n",
        "print()\n",
        "print(df1['deceased_indicator'].value_counts())\n",
        "print()\n",
        "print(df1['owns_car'].value_counts())\n",
        "print()\n",
        "print(df1['state'].value_counts())\n",
        "print()\n",
        "print(df1['country'].value_counts())"
      ],
      "execution_count": 13,
      "outputs": [
        {
          "output_type": "stream",
          "text": [
            "True     4610\n",
            "False    4536\n",
            "Name: online_order, dtype: int64\n",
            "\n",
            "Solex             1997\n",
            "Giant Bicycles    1497\n",
            "WeareA2B          1490\n",
            "OHM Cycles        1404\n",
            "Trek Bicycles     1385\n",
            "Norco Bicycles    1373\n",
            "Name: brand, dtype: int64\n",
            "\n",
            "Standard    6534\n",
            "Road        1873\n",
            "Touring      542\n",
            "Mountain     197\n",
            "Name: product_line, dtype: int64\n",
            "\n",
            "medium    6382\n",
            "high      1403\n",
            "low       1361\n",
            "Name: product_class, dtype: int64\n",
            "\n",
            "Nuclear Power Engineer       147\n",
            "Social Worker                144\n",
            "Tax Accountant               129\n",
            "Registered Nurse             129\n",
            "Clinical Specialist          118\n",
            "                            ... \n",
            "Database Administrator II      5\n",
            "Media Manager II               5\n",
            "Research Assistant I           4\n",
            "Office Assistant II            3\n",
            "Geologist II                   2\n",
            "Name: job_title, Length: 192, dtype: int64\n",
            "\n",
            "Financial Services    2222\n",
            "Manufacturing         2181\n",
            "Health                1728\n",
            "Retail                1002\n",
            "Property               715\n",
            "IT                     393\n",
            "Entertainment          362\n",
            "Argiculture            362\n",
            "Telecommunications     181\n",
            "Name: job_industry_category, dtype: int64\n",
            "\n",
            "Mass Customer        4463\n",
            "High Net Worth       2417\n",
            "Affluent Customer    2266\n",
            "Name: wealth_segment, dtype: int64\n",
            "\n",
            "N    9138\n",
            "Y       8\n",
            "Name: deceased_indicator, dtype: int64\n",
            "\n",
            "Yes    4637\n",
            "No     4509\n",
            "Name: owns_car, dtype: int64\n",
            "\n",
            "NSW    4910\n",
            "VIC    2187\n",
            "QLD    2049\n",
            "Name: state, dtype: int64\n",
            "\n",
            "Australia    9146\n",
            "Name: country, dtype: int64\n"
          ],
          "name": "stdout"
        }
      ]
    },
    {
      "cell_type": "code",
      "metadata": {
        "id": "SE5VbJB2P9Uk",
        "outputId": "44aa4c05-4e26-44cc-a044-30f893c1848c",
        "colab": {
          "base_uri": "https://localhost:8080/"
        }
      },
      "source": [
        "#change VIC to Victoria in state\n",
        "df1['state'] = df1['state'].replace({'VIC':'Victoria'})"
      ],
      "execution_count": 14,
      "outputs": [
        {
          "output_type": "stream",
          "text": [
            "/usr/local/lib/python3.6/dist-packages/ipykernel_launcher.py:2: SettingWithCopyWarning: \n",
            "A value is trying to be set on a copy of a slice from a DataFrame.\n",
            "Try using .loc[row_indexer,col_indexer] = value instead\n",
            "\n",
            "See the caveats in the documentation: https://pandas.pydata.org/pandas-docs/stable/user_guide/indexing.html#returning-a-view-versus-a-copy\n",
            "  \n"
          ],
          "name": "stderr"
        }
      ]
    },
    {
      "cell_type": "code",
      "metadata": {
        "id": "l6mm2jr-OY_f",
        "outputId": "2ce8af1b-db22-49e6-edc5-8194241103ce",
        "colab": {
          "base_uri": "https://localhost:8080/"
        }
      },
      "source": [
        "df1['state'].value_counts()"
      ],
      "execution_count": 15,
      "outputs": [
        {
          "output_type": "execute_result",
          "data": {
            "text/plain": [
              "NSW         4910\n",
              "Victoria    2187\n",
              "QLD         2049\n",
              "Name: state, dtype: int64"
            ]
          },
          "metadata": {
            "tags": []
          },
          "execution_count": 15
        }
      ]
    },
    {
      "cell_type": "code",
      "metadata": {
        "id": "ElhDFImP7-IR",
        "outputId": "2be5221c-3599-4d86-b109-860faf79a5c1",
        "colab": {
          "base_uri": "https://localhost:8080/"
        }
      },
      "source": [
        "#sample size of online order: Yes and No\n",
        "online_order_yes = df1.loc[df1['online_order']==1]\n",
        "online_order_no = df1.loc[df1['online_order']==0]\n",
        "print(online_order_yes.shape,online_order_no.shape)"
      ],
      "execution_count": 16,
      "outputs": [
        {
          "output_type": "stream",
          "text": [
            "(4610, 35) (4536, 35)\n"
          ],
          "name": "stdout"
        }
      ]
    },
    {
      "cell_type": "code",
      "metadata": {
        "id": "DiI0jJxL89m8",
        "outputId": "591c3d56-8832-41f3-9a10-007f7c3e22d1",
        "colab": {
          "base_uri": "https://localhost:8080/"
        }
      },
      "source": [
        "#sample size of female and male guests\n",
        "female = df1.loc[df1['gender']=='Female']\n",
        "male = df1.loc[df1['gender']=='Male']\n",
        "print(female.shape,male.shape)"
      ],
      "execution_count": 17,
      "outputs": [
        {
          "output_type": "stream",
          "text": [
            "(4759, 35) (4387, 35)\n"
          ],
          "name": "stdout"
        }
      ]
    },
    {
      "cell_type": "code",
      "metadata": {
        "id": "7p6HU8h23Co5",
        "outputId": "5de0d730-77a7-4e97-95fa-d5d973c27f58",
        "colab": {
          "base_uri": "https://localhost:8080/"
        }
      },
      "source": [
        "df1['gender'].value_counts()"
      ],
      "execution_count": 18,
      "outputs": [
        {
          "output_type": "execute_result",
          "data": {
            "text/plain": [
              "Female    4759\n",
              "Male      4387\n",
              "Name: gender, dtype: int64"
            ]
          },
          "metadata": {
            "tags": []
          },
          "execution_count": 18
        }
      ]
    },
    {
      "cell_type": "code",
      "metadata": {
        "id": "0DUUohZF9QsK",
        "outputId": "fc6ff630-80ad-4c4e-d26c-9ee960e1b186",
        "colab": {
          "base_uri": "https://localhost:8080/",
          "height": 142
        }
      },
      "source": [
        "df1.groupby('gender').agg({'list_price':'mean'})"
      ],
      "execution_count": 19,
      "outputs": [
        {
          "output_type": "execute_result",
          "data": {
            "text/html": [
              "<div>\n",
              "<style scoped>\n",
              "    .dataframe tbody tr th:only-of-type {\n",
              "        vertical-align: middle;\n",
              "    }\n",
              "\n",
              "    .dataframe tbody tr th {\n",
              "        vertical-align: top;\n",
              "    }\n",
              "\n",
              "    .dataframe thead th {\n",
              "        text-align: right;\n",
              "    }\n",
              "</style>\n",
              "<table border=\"1\" class=\"dataframe\">\n",
              "  <thead>\n",
              "    <tr style=\"text-align: right;\">\n",
              "      <th></th>\n",
              "      <th>list_price</th>\n",
              "    </tr>\n",
              "    <tr>\n",
              "      <th>gender</th>\n",
              "      <th></th>\n",
              "    </tr>\n",
              "  </thead>\n",
              "  <tbody>\n",
              "    <tr>\n",
              "      <th>Female</th>\n",
              "      <td>1099.851042</td>\n",
              "    </tr>\n",
              "    <tr>\n",
              "      <th>Male</th>\n",
              "      <td>1121.569581</td>\n",
              "    </tr>\n",
              "  </tbody>\n",
              "</table>\n",
              "</div>"
            ],
            "text/plain": [
              "         list_price\n",
              "gender             \n",
              "Female  1099.851042\n",
              "Male    1121.569581"
            ]
          },
          "metadata": {
            "tags": []
          },
          "execution_count": 19
        }
      ]
    },
    {
      "cell_type": "code",
      "metadata": {
        "id": "f7fW5YNmAQWw",
        "outputId": "358c5543-12e3-4097-d151-ef06b3cd0102",
        "colab": {
          "base_uri": "https://localhost:8080/",
          "height": 142
        }
      },
      "source": [
        "\n",
        "#online itmes are cheaper\n",
        "df1.groupby('online_order').agg({'list_price':'mean'})"
      ],
      "execution_count": 20,
      "outputs": [
        {
          "output_type": "execute_result",
          "data": {
            "text/html": [
              "<div>\n",
              "<style scoped>\n",
              "    .dataframe tbody tr th:only-of-type {\n",
              "        vertical-align: middle;\n",
              "    }\n",
              "\n",
              "    .dataframe tbody tr th {\n",
              "        vertical-align: top;\n",
              "    }\n",
              "\n",
              "    .dataframe thead th {\n",
              "        text-align: right;\n",
              "    }\n",
              "</style>\n",
              "<table border=\"1\" class=\"dataframe\">\n",
              "  <thead>\n",
              "    <tr style=\"text-align: right;\">\n",
              "      <th></th>\n",
              "      <th>list_price</th>\n",
              "    </tr>\n",
              "    <tr>\n",
              "      <th>online_order</th>\n",
              "      <th></th>\n",
              "    </tr>\n",
              "  </thead>\n",
              "  <tbody>\n",
              "    <tr>\n",
              "      <th>False</th>\n",
              "      <td>1115.45776</td>\n",
              "    </tr>\n",
              "    <tr>\n",
              "      <th>True</th>\n",
              "      <td>1105.16279</td>\n",
              "    </tr>\n",
              "  </tbody>\n",
              "</table>\n",
              "</div>"
            ],
            "text/plain": [
              "              list_price\n",
              "online_order            \n",
              "False         1115.45776\n",
              "True          1105.16279"
            ]
          },
          "metadata": {
            "tags": []
          },
          "execution_count": 20
        }
      ]
    },
    {
      "cell_type": "code",
      "metadata": {
        "id": "U3t-BbyappMj"
      },
      "source": [
        "men = df1.loc[df1['gender'] == 'Male']\n",
        "women = df1.loc[df1['gender'] == 'Female']"
      ],
      "execution_count": 21,
      "outputs": []
    },
    {
      "cell_type": "code",
      "metadata": {
        "id": "cOGAnYO_JxqO",
        "outputId": "9ca3b9b9-0415-4f0f-81eb-3d6c36a12ce7",
        "colab": {
          "base_uri": "https://localhost:8080/"
        }
      },
      "source": [
        "print('The minimum age is:',df1['age'].min()) \n",
        "print('The maximum age is:', df1['age'].max())"
      ],
      "execution_count": 22,
      "outputs": [
        {
          "output_type": "stream",
          "text": [
            "The minimum age is: 20\n",
            "The maximum age is: 50\n"
          ],
          "name": "stdout"
        }
      ]
    },
    {
      "cell_type": "markdown",
      "metadata": {
        "id": "VAvu6Xg02-Gi"
      },
      "source": [
        "# Descriptive Statistics AND Exploratory Data Analysis\n"
      ]
    },
    {
      "cell_type": "markdown",
      "metadata": {
        "id": "FFu3NMlF7eWs"
      },
      "source": [
        "Questions: \n",
        "1. Do men have higher buying power than women?\n",
        "2. What's the most popular brand among the two groups: women and men?\n",
        "3. What's the most popular brand among the women and men who have high power?\n",
        "4. How wealth segment influenced the sales volumne of each brand?\n",
        "\n",
        "- Note: list_price higher than the mean is considered as high buying power\n",
        "- the average list price is 1108"
      ]
    },
    {
      "cell_type": "markdown",
      "metadata": {
        "id": "7I4kV5fHVRjH"
      },
      "source": [
        "###Which group has the highest buying power?"
      ]
    },
    {
      "cell_type": "code",
      "metadata": {
        "id": "JHTHQJyG8FDq"
      },
      "source": [
        "#split the df1 into groups: male and female\n",
        "male = df1[df1['gender']=='Male']\n",
        "female=df1[df1['gender']=='Female']"
      ],
      "execution_count": 23,
      "outputs": []
    },
    {
      "cell_type": "code",
      "metadata": {
        "id": "c_3JgARL8VFQ"
      },
      "source": [
        "#split the df1 into two groups with high buying power\n",
        "male1 = df1[(df1.gender == 'Male') & (df1.list_price > 1108)]\n",
        "female1 = df1[(df1.gender == 'Female') & (df1.list_price > 1108)]"
      ],
      "execution_count": 24,
      "outputs": []
    },
    {
      "cell_type": "code",
      "metadata": {
        "id": "HQYXB9N_6bWl",
        "outputId": "33ab3538-a8d7-4f67-9661-d84368f6eb30",
        "colab": {
          "base_uri": "https://localhost:8080/"
        }
      },
      "source": [
        "print (np.shape(male1), np.shape(male))"
      ],
      "execution_count": 25,
      "outputs": [
        {
          "output_type": "stream",
          "text": [
            "(2382, 35) (4387, 35)\n"
          ],
          "name": "stdout"
        }
      ]
    },
    {
      "cell_type": "code",
      "metadata": {
        "id": "2hPodUUV67bZ",
        "outputId": "a2eea25d-0a69-462a-9d87-ac097e77582c",
        "colab": {
          "base_uri": "https://localhost:8080/"
        }
      },
      "source": [
        "print (np.shape(female1), np.shape(female))"
      ],
      "execution_count": 26,
      "outputs": [
        {
          "output_type": "stream",
          "text": [
            "(2507, 35) (4759, 35)\n"
          ],
          "name": "stdout"
        }
      ]
    },
    {
      "cell_type": "code",
      "metadata": {
        "id": "C4JMPoyO8qyp"
      },
      "source": [
        "#people who have the high buying power among the entire dataset\n",
        "df2 = df1[df1.list_price > 1108]"
      ],
      "execution_count": 27,
      "outputs": []
    },
    {
      "cell_type": "code",
      "metadata": {
        "id": "p5a-oRv68t6F",
        "outputId": "966c9470-3979-4ec5-e254-3eed7c9c7512",
        "colab": {
          "base_uri": "https://localhost:8080/"
        }
      },
      "source": [
        "print ('The rate of people with high buying power is: ',\n",
        "    int(len(df2) / float(len(df1)) * 100), '%.')\n",
        "print('The rate of men with high buying power is: ',\n",
        "      int(len(male1)/float(len(male)) * 100), '%,')\n",
        "print('The rate of female with high buying power is: ',\n",
        "      int(len(female1)/float(len(female)) * 100), '%,')"
      ],
      "execution_count": 28,
      "outputs": [
        {
          "output_type": "stream",
          "text": [
            "The rate of people with high buying power is:  53 %.\n",
            "The rate of men with high buying power is:  54 %,\n",
            "The rate of female with high buying power is:  52 %,\n"
          ],
          "name": "stdout"
        }
      ]
    },
    {
      "cell_type": "markdown",
      "metadata": {
        "id": "w2I784miVMMu"
      },
      "source": [
        "###What's the most popular brand among all the people regardless of their buying power."
      ]
    },
    {
      "cell_type": "code",
      "metadata": {
        "id": "Vvpalzwv5ok8",
        "outputId": "00924caa-498d-4553-d760-b032c522f67c",
        "colab": {
          "base_uri": "https://localhost:8080/"
        }
      },
      "source": [
        "df1['brand'].value_counts()"
      ],
      "execution_count": 29,
      "outputs": [
        {
          "output_type": "execute_result",
          "data": {
            "text/plain": [
              "Solex             1997\n",
              "Giant Bicycles    1497\n",
              "WeareA2B          1490\n",
              "OHM Cycles        1404\n",
              "Trek Bicycles     1385\n",
              "Norco Bicycles    1373\n",
              "Name: brand, dtype: int64"
            ]
          },
          "metadata": {
            "tags": []
          },
          "execution_count": 29
        }
      ]
    },
    {
      "cell_type": "code",
      "metadata": {
        "id": "cKjVjHseVlz0"
      },
      "source": [
        "solex = df1[df1.brand == 'Solex']\n",
        "giant_bicycles = df1[df1.brand == 'Giant Bicycles']\n",
        "weareA2B = df1[df1.brand == 'WeareA2B']\n",
        "OHM_cycles = df1[df1.brand == 'OHM Cycles']\n",
        "trek_bicycles = df1[df1.brand == 'Trek Bicycles']\n",
        "norco_bicycles = df1[df1.brand == 'Norco Bicycles']"
      ],
      "execution_count": 30,
      "outputs": []
    },
    {
      "cell_type": "code",
      "metadata": {
        "id": "4csBGo88tUxQ",
        "outputId": "02b3bb5f-972d-45f3-8eb5-108d7127d64a",
        "colab": {
          "base_uri": "https://localhost:8080/",
          "height": 421
        }
      },
      "source": [
        "plt.figure(figsize=(10,6))\n",
        "plt.title('Brand Popularity Bewteen Women and Men')\n",
        "sns.countplot(x='brand',hue='gender',data=df1)"
      ],
      "execution_count": 31,
      "outputs": [
        {
          "output_type": "execute_result",
          "data": {
            "text/plain": [
              "<matplotlib.axes._subplots.AxesSubplot at 0x7fca33e93358>"
            ]
          },
          "metadata": {
            "tags": []
          },
          "execution_count": 31
        },
        {
          "output_type": "display_data",
          "data": {
            "image/png": "[encoded data removed]",
            "text/plain": [
              "<Figure size 720x432 with 1 Axes>"
            ]
          },
          "metadata": {
            "tags": [],
            "needs_background": "light"
          }
        }
      ]
    },
    {
      "cell_type": "code",
      "metadata": {
        "id": "XUVUZqf6VsZN",
        "outputId": "cfc62375-f4c4-433e-d994-55a301fcfce0",
        "colab": {
          "base_uri": "https://localhost:8080/"
        }
      },
      "source": [
        "print ('The rate of Solex is: ', round((len(solex)/len(df1))*100,2), '%. This is the most popular brand among all the people')\n",
        "print ('The rate of Giant Bicycles is: ', round(len(giant_bicycles)/len(df1)*100,2), '%.')\n",
        "print ('The rate of WeareA2B is: ',\n",
        "       round(len(weareA2B)/len(df1)*100,2), '%.')\n",
        "print ('The rate of OHM Cycles is: ',\n",
        "       round(len(OHM_cycles)/len(df1)*100,2), '%.')\n",
        "print ('The rate of Trek Bicycles is: ',\n",
        "       round(len(trek_bicycles)/len(df1)*100,2), '%.')\n",
        "print ('The rate of Norco Bicycles is: ',\n",
        "       round(len(norco_bicycles)/len(df1)*100,2), '%.')"
      ],
      "execution_count": 32,
      "outputs": [
        {
          "output_type": "stream",
          "text": [
            "The rate of Solex is:  21.83 %. This is the most popular brand among all the people\n",
            "The rate of Giant Bicycles is:  16.37 %.\n",
            "The rate of WeareA2B is:  16.29 %.\n",
            "The rate of OHM Cycles is:  15.35 %.\n",
            "The rate of Trek Bicycles is:  15.14 %.\n",
            "The rate of Norco Bicycles is:  15.01 %.\n"
          ],
          "name": "stdout"
        }
      ]
    },
    {
      "cell_type": "code",
      "metadata": {
        "id": "LfvZo73CXJtb"
      },
      "source": [
        "#find the most popular brand between women and men of the entire dataset\n",
        "#Solex\n",
        "solex_m = solex[solex.gender == 'Male']\n",
        "solex_f = solex[solex.gender == 'Female']\n",
        "#Giant Bicycles\n",
        "giant_bicycles_m = giant_bicycles[giant_bicycles.gender == 'Male']\n",
        "giant_bicycles_f = giant_bicycles[giant_bicycles.gender == 'Female']\n",
        "#WeareA2B\n",
        "weareA2B_m = weareA2B[weareA2B.gender == 'Male']\n",
        "weareA2B_f = weareA2B[weareA2B.gender == 'Female']\n",
        "#OHM_cycles\n",
        "OHM_cycles_m = OHM_cycles[OHM_cycles.gender == 'Male']\n",
        "OHM_cycles_f = OHM_cycles[OHM_cycles.gender == 'Female']\n",
        "#trek bicycles\n",
        "trek_bicyles_m = trek_bicycles[trek_bicycles.gender == 'Male']\n",
        "trek_bicyles_f = trek_bicycles[trek_bicycles.gender == 'Female']\n",
        "#Norco Bicycles\n",
        "norco_bicycles_m = norco_bicycles[norco_bicycles.gender == 'Male']\n",
        "norco_bicycles_f = norco_bicycles[norco_bicycles.gender == 'Female']"
      ],
      "execution_count": 33,
      "outputs": []
    },
    {
      "cell_type": "code",
      "metadata": {
        "id": "my6R0ZAfaxBg",
        "outputId": "47546f4e-c9f8-4d68-f6d7-9504217c2d50",
        "colab": {
          "base_uri": "https://localhost:8080/"
        }
      },
      "source": [
        "print('The percent of men like Solex is: ', round(len(solex_m)/len(solex)*100,2), '%.')\n",
        "print('The percent of women like Solex is: ', round(len(solex_f)/len(solex)*100,2), '%.')\n",
        "print ('More women like Solex than men.')"
      ],
      "execution_count": 34,
      "outputs": [
        {
          "output_type": "stream",
          "text": [
            "The percent of men like Solex is:  47.92 %.\n",
            "The percent of women like Solex is:  52.08 %.\n",
            "More women like Solex than men.\n"
          ],
          "name": "stdout"
        }
      ]
    },
    {
      "cell_type": "code",
      "metadata": {
        "id": "6os-nh9oGLey",
        "outputId": "57936cb3-4042-4fff-f9ff-53beda26373d",
        "colab": {
          "base_uri": "https://localhost:8080/"
        }
      },
      "source": [
        "#\n",
        "print('The percent of men like Giant Bicycles is: ', round(len(giant_bicycles_m)/len(giant_bicycles)*100,2), '%.')\n",
        "print('The percent of women like Giant Bicycles is: ', round(len(giant_bicycles_f)/len(giant_bicycles)*100,2), '%.')\n",
        "print ('More women like Giant Bicycles than men.')\n"
      ],
      "execution_count": 35,
      "outputs": [
        {
          "output_type": "stream",
          "text": [
            "The percent of men like Giant Bicycles is:  47.96 %.\n",
            "The percent of women like Giant Bicycles is:  52.04 %.\n",
            "More women like Giant Bicycles than men.\n"
          ],
          "name": "stdout"
        }
      ]
    },
    {
      "cell_type": "code",
      "metadata": {
        "id": "foZ-yXQPM_6T",
        "outputId": "9c8d6aca-0e3e-493b-ebd2-7c6ce5115829",
        "colab": {
          "base_uri": "https://localhost:8080/"
        }
      },
      "source": [
        "print('The percent of men like WeareA2B is: ', round(len(weareA2B_m)/len(weareA2B)*100,2), '%.')\n",
        "print('The percent of women like WeareA2B is: ', round(len(weareA2B_f)/len(weareA2B)*100,2), '%.')\n",
        "print ('More women like WeareA2B than men.')\n"
      ],
      "execution_count": 36,
      "outputs": [
        {
          "output_type": "stream",
          "text": [
            "The percent of men like WeareA2B is:  48.05 %.\n",
            "The percent of women like WeareA2B is:  51.95 %.\n",
            "More women like WeareA2B than men.\n"
          ],
          "name": "stdout"
        }
      ]
    },
    {
      "cell_type": "code",
      "metadata": {
        "id": "AEMjZAA4M01l",
        "outputId": "1b768485-84c4-46aa-c8b8-a287da7cd7b0",
        "colab": {
          "base_uri": "https://localhost:8080/"
        }
      },
      "source": [
        "#\n",
        "print('The percent of men like OHM Cycles is: ', round(len(OHM_cycles_m)/len(OHM_cycles)*100,2), '%.')\n",
        "print('The percent of women like OHM Cycles is: ', round(len(OHM_cycles_f)/len(OHM_cycles)*100,2), '%.')\n",
        "print ('More women like OHM Cycles than men.')"
      ],
      "execution_count": 37,
      "outputs": [
        {
          "output_type": "stream",
          "text": [
            "The percent of men like OHM Cycles is:  48.22 %.\n",
            "The percent of women like OHM Cycles is:  51.78 %.\n",
            "More women like OHM Cycles than men.\n"
          ],
          "name": "stdout"
        }
      ]
    },
    {
      "cell_type": "code",
      "metadata": {
        "id": "_zcqXYhXM2SQ",
        "outputId": "26a7cb91-9169-4477-faa5-e8ebc8df697d",
        "colab": {
          "base_uri": "https://localhost:8080/"
        }
      },
      "source": [
        "print('The percent of men like Trek Bicycles is: ', round(len(trek_bicyles_m)/len(trek_bicycles)*100,2), '%.')\n",
        "print('The percent of women like Trek Bicycles is: ', round(len(trek_bicyles_f)/len(trek_bicycles)*100,2), '%.')"
      ],
      "execution_count": 38,
      "outputs": [
        {
          "output_type": "stream",
          "text": [
            "The percent of men like Trek Bicycles is:  47.36 %.\n",
            "The percent of women like Trek Bicycles is:  52.64 %.\n"
          ],
          "name": "stdout"
        }
      ]
    },
    {
      "cell_type": "code",
      "metadata": {
        "id": "Wv5-5--4Ny6r",
        "outputId": "354478b5-4733-4ad2-d242-34fafac5648b",
        "colab": {
          "base_uri": "https://localhost:8080/"
        }
      },
      "source": [
        "print('The percent of men like Norco Bicycles is: ', round(len(norco_bicycles_m)/len(norco_bicycles)*100,2), '%.')\n",
        "print('The percent of women like Norco Bicycles is: ', round(len(norco_bicycles_f)/len(norco_bicycles)*100,2), '%.')"
      ],
      "execution_count": 39,
      "outputs": [
        {
          "output_type": "stream",
          "text": [
            "The percent of men like Norco Bicycles is:  48.29 %.\n",
            "The percent of women like Norco Bicycles is:  51.71 %.\n"
          ],
          "name": "stdout"
        }
      ]
    },
    {
      "cell_type": "markdown",
      "metadata": {
        "id": "XoratHmrORg8"
      },
      "source": [
        "###Among the people who have high buying power, what do they like to buy?"
      ]
    },
    {
      "cell_type": "code",
      "metadata": {
        "id": "mSC70cshN-eD",
        "outputId": "b72f1683-d4e6-4dec-f600-144e60570745",
        "colab": {
          "base_uri": "https://localhost:8080/"
        }
      },
      "source": [
        "df2['brand'].value_counts()"
      ],
      "execution_count": 40,
      "outputs": [
        {
          "output_type": "execute_result",
          "data": {
            "text/plain": [
              "WeareA2B          1082\n",
              "Giant Bicycles    1049\n",
              "Solex              935\n",
              "Trek Bicycles      668\n",
              "OHM Cycles         608\n",
              "Norco Bicycles     547\n",
              "Name: brand, dtype: int64"
            ]
          },
          "metadata": {
            "tags": []
          },
          "execution_count": 40
        }
      ]
    },
    {
      "cell_type": "code",
      "metadata": {
        "id": "0Ako5mmy4rQD",
        "outputId": "101b6c1b-27b8-4190-afc8-68d04963e869",
        "colab": {
          "base_uri": "https://localhost:8080/",
          "height": 421
        }
      },
      "source": [
        "plt.figure(figsize=(10,6))\n",
        "plt.title('Number of Brands for People with High Buying Power')\n",
        "sns.countplot(x='brand',data=df2)"
      ],
      "execution_count": 41,
      "outputs": [
        {
          "output_type": "execute_result",
          "data": {
            "text/plain": [
              "<matplotlib.axes._subplots.AxesSubplot at 0x7fca33d8c0b8>"
            ]
          },
          "metadata": {
            "tags": []
          },
          "execution_count": 41
        },
        {
          "output_type": "display_data",
          "data": {
            "image/png": "[encoded data removed]",
            "text/plain": [
              "<Figure size 720x432 with 1 Axes>"
            ]
          },
          "metadata": {
            "tags": [],
            "needs_background": "light"
          }
        }
      ]
    },
    {
      "cell_type": "code",
      "metadata": {
        "id": "5nZGbO9IOwAo"
      },
      "source": [
        "df2_solex = df2[df2.brand == 'Solex']\n",
        "df2_giant_bicycles = df2[df2.brand == 'Giant Bicycles']\n",
        "df2_weareA2B = df2[df2.brand == 'WeareA2B']\n",
        "df2_OHM_cycles = df2[df2.brand == 'OHM Cycles']\n",
        "df2_trek_bicycles = df2[df2.brand == 'Trek Bicycles']\n",
        "df2_norco_bicycles = df2[df2.brand == 'Norco Bicycles']"
      ],
      "execution_count": 42,
      "outputs": []
    },
    {
      "cell_type": "code",
      "metadata": {
        "id": "ulkXRqDtuKeY",
        "outputId": "62171249-fefa-40b5-84c2-35f93db48620",
        "colab": {
          "base_uri": "https://localhost:8080/",
          "height": 530
        }
      },
      "source": [
        "plt.figure(figsize=(10,8))\n",
        "plt.title('Brand Popularity of Rich People')\n",
        "sns.countplot(x='brand',hue='gender',data=df2)"
      ],
      "execution_count": 43,
      "outputs": [
        {
          "output_type": "execute_result",
          "data": {
            "text/plain": [
              "<matplotlib.axes._subplots.AxesSubplot at 0x7fca33907c18>"
            ]
          },
          "metadata": {
            "tags": []
          },
          "execution_count": 43
        },
        {
          "output_type": "display_data",
          "data": {
            "image/png": "[encoded data removed]",
            "text/plain": [
              "<Figure size 720x576 with 1 Axes>"
            ]
          },
          "metadata": {
            "tags": [],
            "needs_background": "light"
          }
        }
      ]
    },
    {
      "cell_type": "code",
      "metadata": {
        "id": "hCSXQxP2PUn-"
      },
      "source": [
        "#find the most popular brand between women and men of people who have high buying power\n",
        "#Solex\n",
        "df2_solex_m = df2_solex[df2_solex.gender == 'Male']\n",
        "df2_solex_f = df2_solex[df2_solex.gender == 'Female']\n",
        "#Giant Bicycles\n",
        "df2_giant_bicycles_m = df2_giant_bicycles[df2_giant_bicycles.gender == 'Male']\n",
        "df2_giant_bicycles_f = df2_giant_bicycles[df2_giant_bicycles.gender == 'Female']\n",
        "#WeareA2B\n",
        "df2_weareA2B_m = df2_weareA2B[df2_weareA2B.gender == 'Male']\n",
        "df2_weareA2B_f = df2_weareA2B[df2_weareA2B.gender == 'Female']\n",
        "#OHM_cycles\n",
        "df2_OHM_cycles_m = df2_OHM_cycles[df2_OHM_cycles.gender == 'Male']\n",
        "df2_OHM_cycles_f = df2_OHM_cycles[df2_OHM_cycles.gender == 'Female']\n",
        "#trek bicycles\n",
        "df2_trek_bicyles_m = df2_trek_bicycles[df2_trek_bicycles.gender == 'Male']\n",
        "df2_trek_bicyles_f = df2_trek_bicycles[df2_trek_bicycles.gender == 'Female']\n",
        "#Norco Bicycles\n",
        "df2_norco_bicycles_m = df2_norco_bicycles[df2_norco_bicycles.gender == 'Male']\n",
        "df2_norco_bicycles_f = df2_norco_bicycles[df2_norco_bicycles.gender == 'Female']"
      ],
      "execution_count": 44,
      "outputs": []
    },
    {
      "cell_type": "code",
      "metadata": {
        "id": "NpigfNlAP3P8",
        "outputId": "ee944020-a357-4821-f7cc-7f1490dc3082",
        "colab": {
          "base_uri": "https://localhost:8080/"
        }
      },
      "source": [
        "#solex\n",
        "print('The percent of men purchased Solex is: ', round(len(df2_solex_m)/len(df2_solex)*100,2), '%.')\n",
        "print('The percent of women purchased Solex is: ', round(len(df2_solex_f)/len(df2_solex)*100,2), '%.')\n",
        "print ('More men purchased Giant Bicycles than women.')"
      ],
      "execution_count": 45,
      "outputs": [
        {
          "output_type": "stream",
          "text": [
            "The percent of men purchased Solex is:  50.05 %.\n",
            "The percent of women purchased Solex is:  49.95 %.\n",
            "More men purchased Giant Bicycles than women.\n"
          ],
          "name": "stdout"
        }
      ]
    },
    {
      "cell_type": "code",
      "metadata": {
        "id": "02KS0DWoYMPM",
        "outputId": "fc96e0d8-ad2d-4f9f-9150-5a76a055cbe5",
        "colab": {
          "base_uri": "https://localhost:8080/"
        }
      },
      "source": [
        "#Giant Bicycles\n",
        "print('The percent of men like Giant Bicycles is: ', round(len(df2_giant_bicycles_m)/len(df2_giant_bicycles)*100,2), '%.')\n",
        "print('The percent of women like Giant Bicycles is: ', round(len(df2_giant_bicycles_f)/len(df2_giant_bicycles)*100,2), '%.')\n",
        "print ('More men purchased Giant Bicycles than women.')"
      ],
      "execution_count": 46,
      "outputs": [
        {
          "output_type": "stream",
          "text": [
            "The percent of men like Giant Bicycles is:  48.81 %.\n",
            "The percent of women like Giant Bicycles is:  51.19 %.\n",
            "More men purchased Giant Bicycles than women.\n"
          ],
          "name": "stdout"
        }
      ]
    },
    {
      "cell_type": "code",
      "metadata": {
        "id": "sABhRtZPbzMw",
        "outputId": "7c56c43b-c547-4fa3-fc93-ea18ad6d14ba",
        "colab": {
          "base_uri": "https://localhost:8080/"
        }
      },
      "source": [
        "#WeareA2B\n",
        "print('The percent of men like WeareA2B is: ', round(len(df2_weareA2B_m)/len(df2_weareA2B)*100,2), '%.')\n",
        "print('The percent of women like WeareA2B is: ', round(len(df2_weareA2B_f)/len(df2_weareA2B)*100,2), '%.')\n",
        "print ('More women purchased WeareA2B than men.')"
      ],
      "execution_count": 47,
      "outputs": [
        {
          "output_type": "stream",
          "text": [
            "The percent of men like WeareA2B is:  47.41 %.\n",
            "The percent of women like WeareA2B is:  52.59 %.\n",
            "More women purchased WeareA2B than men.\n"
          ],
          "name": "stdout"
        }
      ]
    },
    {
      "cell_type": "code",
      "metadata": {
        "id": "JE1G6rBycLdv",
        "outputId": "a2bc531b-8415-4683-e9fe-90e244fbcc85",
        "colab": {
          "base_uri": "https://localhost:8080/"
        }
      },
      "source": [
        "#OHM Cycles\n",
        "print('The percent of men like OHM Cycles is: ', round(len(df2_OHM_cycles_m)/len(df2_OHM_cycles)*100,2), '%.')\n",
        "print('The percent of women like OHM Cycles is: ', round(len(df2_OHM_cycles_f)/len(df2_OHM_cycles)*100,2), '%.')\n",
        "print ('More women like OHM Cycles than men.')"
      ],
      "execution_count": 48,
      "outputs": [
        {
          "output_type": "stream",
          "text": [
            "The percent of men like OHM Cycles is:  48.52 %.\n",
            "The percent of women like OHM Cycles is:  51.48 %.\n",
            "More women like OHM Cycles than men.\n"
          ],
          "name": "stdout"
        }
      ]
    },
    {
      "cell_type": "code",
      "metadata": {
        "id": "waVGUTKAclWe",
        "outputId": "cdded4b4-d479-415f-9f6f-41e79291720d",
        "colab": {
          "base_uri": "https://localhost:8080/"
        }
      },
      "source": [
        "#Trek Bicycles\n",
        "print('The percent of men like Trek Bicycles is: ', round(len(df2_trek_bicyles_m)/len(df2_trek_bicycles)*100,2), '%.')\n",
        "print('The percent of women like Trek Bicycles is: ', round(len(df2_trek_bicyles_f)/len(df2_trek_bicycles)*100,2), '%.')\n",
        "print ('More men like Trek Bicycles than women.')"
      ],
      "execution_count": 49,
      "outputs": [
        {
          "output_type": "stream",
          "text": [
            "The percent of men like Trek Bicycles is:  49.7 %.\n",
            "The percent of women like Trek Bicycles is:  50.3 %.\n",
            "More men like Trek Bicycles than women.\n"
          ],
          "name": "stdout"
        }
      ]
    },
    {
      "cell_type": "code",
      "metadata": {
        "id": "M6tbYFbZcuEO",
        "outputId": "81a2a7e4-85d2-4326-bd0a-f942c8eb7103",
        "colab": {
          "base_uri": "https://localhost:8080/"
        }
      },
      "source": [
        "#Norco Bicycles\n",
        "print('The percent of men like Norco Bicycles is: ', round(len(df2_norco_bicycles_m)/len(df2_norco_bicycles)*100,2), '%.')\n",
        "print('The percent of women like Norco Bicycles is: ', round(len(df2_norco_bicycles_f)/len(df2_norco_bicycles)*100,2), '%.')\n",
        "print ('More women like Norco Bicycles than men.')"
      ],
      "execution_count": 50,
      "outputs": [
        {
          "output_type": "stream",
          "text": [
            "The percent of men like Norco Bicycles is:  47.9 %.\n",
            "The percent of women like Norco Bicycles is:  52.1 %.\n",
            "More women like Norco Bicycles than men.\n"
          ],
          "name": "stdout"
        }
      ]
    },
    {
      "cell_type": "markdown",
      "metadata": {
        "id": "xFTPjUga9yyo"
      },
      "source": [
        "### How's Wealth Segment Affecting the Buying Power?\n",
        "Do different wealth segment influence customer's ability to buy stuff?"
      ]
    },
    {
      "cell_type": "code",
      "metadata": {
        "id": "gyXs450h-CfR",
        "outputId": "a80ef575-1bf9-41c3-d607-c4974ef7cca1",
        "colab": {
          "base_uri": "https://localhost:8080/"
        }
      },
      "source": [
        "df1['wealth_segment'].value_counts()"
      ],
      "execution_count": 51,
      "outputs": [
        {
          "output_type": "execute_result",
          "data": {
            "text/plain": [
              "Mass Customer        4463\n",
              "High Net Worth       2417\n",
              "Affluent Customer    2266\n",
              "Name: wealth_segment, dtype: int64"
            ]
          },
          "metadata": {
            "tags": []
          },
          "execution_count": 51
        }
      ]
    },
    {
      "cell_type": "code",
      "metadata": {
        "id": "hNcO3OB--gsd"
      },
      "source": [
        "mass = df1[df1['wealth_segment'] == 'Mass Customer']\n",
        "high = df1[df1['wealth_segment'] == 'High Net Worth']\n",
        "affluent = df1[df1['wealth_segment'] == 'Affluent Customer'] "
      ],
      "execution_count": 52,
      "outputs": []
    },
    {
      "cell_type": "code",
      "metadata": {
        "id": "7_DcGRjx-35Q"
      },
      "source": [
        "mass_m = mass[mass['gender'] == 'men']\n",
        "mass_f = mass[mass['gender'] == 'women']\n",
        "\n",
        "high_m = high[high['gender'] == 'men']\n",
        "high_f = high[high['gender'] == 'women']\n",
        "\n",
        "affluent_m = affluent[affluent['gender'] == 'men']\n",
        "affluent_f = affluent[affluent['gender'] == 'women']"
      ],
      "execution_count": 53,
      "outputs": []
    },
    {
      "cell_type": "code",
      "metadata": {
        "id": "P3lfHWjx_0Y4",
        "outputId": "d13dde0e-c9a3-4e0e-9f79-6235e1202851",
        "colab": {
          "base_uri": "https://localhost:8080/",
          "height": 367
        }
      },
      "source": [
        "plt.figure(figsize=(8,5))\n",
        "plt.title('Mass Customer')\n",
        "sns.countplot(x='brand',hue='gender',data=mass) #mass customer only"
      ],
      "execution_count": 54,
      "outputs": [
        {
          "output_type": "execute_result",
          "data": {
            "text/plain": [
              "<matplotlib.axes._subplots.AxesSubplot at 0x7fca338567f0>"
            ]
          },
          "metadata": {
            "tags": []
          },
          "execution_count": 54
        },
        {
          "output_type": "display_data",
          "data": {
            "image/png": "[encoded data removed]",
            "text/plain": [
              "<Figure size 576x360 with 1 Axes>"
            ]
          },
          "metadata": {
            "tags": [],
            "needs_background": "light"
          }
        }
      ]
    },
    {
      "cell_type": "code",
      "metadata": {
        "id": "0ZKpfXp0AXJm",
        "outputId": "d615f310-bbf5-485d-f7b8-16e8aaf3670c",
        "colab": {
          "base_uri": "https://localhost:8080/",
          "height": 367
        }
      },
      "source": [
        "plt.figure(figsize=(8,5))\n",
        "plt.title('High Net Worth')\n",
        "sns.countplot(x='brand',hue='gender',data=high) #High Net Worth customer only"
      ],
      "execution_count": 55,
      "outputs": [
        {
          "output_type": "execute_result",
          "data": {
            "text/plain": [
              "<matplotlib.axes._subplots.AxesSubplot at 0x7fca33777550>"
            ]
          },
          "metadata": {
            "tags": []
          },
          "execution_count": 55
        },
        {
          "output_type": "display_data",
          "data": {
            "image/png": "[encoded data removed]",
            "text/plain": [
              "<Figure size 576x360 with 1 Axes>"
            ]
          },
          "metadata": {
            "tags": [],
            "needs_background": "light"
          }
        }
      ]
    },
    {
      "cell_type": "code",
      "metadata": {
        "id": "czl77-WrAk1H",
        "outputId": "e2c3ef1d-1d86-4b36-e8fd-a2dd1494c39f",
        "colab": {
          "base_uri": "https://localhost:8080/",
          "height": 367
        }
      },
      "source": [
        "plt.figure(figsize=(8,5))\n",
        "plt.title('Affluent Customer')\n",
        "sns.countplot(x='brand',hue='gender',data=affluent) #Affluent customer only"
      ],
      "execution_count": 56,
      "outputs": [
        {
          "output_type": "execute_result",
          "data": {
            "text/plain": [
              "<matplotlib.axes._subplots.AxesSubplot at 0x7fca336fa240>"
            ]
          },
          "metadata": {
            "tags": []
          },
          "execution_count": 56
        },
        {
          "output_type": "display_data",
          "data": {
            "image/png": "[encoded data removed]",
            "text/plain": [
              "<Figure size 576x360 with 1 Axes>"
            ]
          },
          "metadata": {
            "tags": [],
            "needs_background": "light"
          }
        }
      ]
    },
    {
      "cell_type": "code",
      "metadata": {
        "id": "cG4m0YWHWaMS"
      },
      "source": [
        ""
      ],
      "execution_count": 56,
      "outputs": []
    },
    {
      "cell_type": "markdown",
      "metadata": {
        "id": "-Sj-T5SdlOnJ"
      },
      "source": [
        "#Conclusion\n",
        "Generally, men have higher buying power than women. However, if we don't consider who has higher buying power, women are more likely to buy all brands than men. If we want to target people who have the high buying power, their favorite brand is WearA2B. Women who has high buying power like all brands except slight off on Solex. Men who have high buying power tend to buy Solex.\n"
      ]
    },
    {
      "cell_type": "markdown",
      "metadata": {
        "id": "g7z8LbsM8lwZ"
      },
      "source": [
        "## New Customer data"
      ]
    },
    {
      "cell_type": "code",
      "metadata": {
        "id": "tf1Vf9ZSDZha"
      },
      "source": [
        "new['year'] = new['DOB'].dt.year"
      ],
      "execution_count": 57,
      "outputs": []
    },
    {
      "cell_type": "code",
      "metadata": {
        "id": "FgC5fksAC3jT"
      },
      "source": [
        "new = new[new['year'] >= 1970]\n",
        "new = new[new['year'] <= 2000]"
      ],
      "execution_count": 58,
      "outputs": []
    },
    {
      "cell_type": "code",
      "metadata": {
        "id": "PIPADvCRHWCr",
        "outputId": "8599d630-335b-4915-ab4f-7d73bf5d804d",
        "colab": {
          "base_uri": "https://localhost:8080/"
        }
      },
      "source": [
        "new['DOB'].max()"
      ],
      "execution_count": 59,
      "outputs": [
        {
          "output_type": "execute_result",
          "data": {
            "text/plain": [
              "Timestamp('2000-12-09 00:00:00')"
            ]
          },
          "metadata": {
            "tags": []
          },
          "execution_count": 59
        }
      ]
    },
    {
      "cell_type": "code",
      "metadata": {
        "id": "DumAWPtvAl2y"
      },
      "source": [
        "new['name'] = new['first_name'] + ' ' + new['last_name']"
      ],
      "execution_count": 60,
      "outputs": []
    },
    {
      "cell_type": "code",
      "metadata": {
        "id": "zQGxe5Jt8y0q",
        "outputId": "4ebc9408-5243-4652-c060-67c848f6fcfb",
        "colab": {
          "base_uri": "https://localhost:8080/",
          "height": 359
        }
      },
      "source": [
        "ax = new.sort_values(by='past_3_years_bike_related_purchases',ascending=False)\n",
        "ax[['name','gender','past_3_years_bike_related_purchases']].head(10)"
      ],
      "execution_count": 61,
      "outputs": [
        {
          "output_type": "execute_result",
          "data": {
            "text/html": [
              "<div>\n",
              "<style scoped>\n",
              "    .dataframe tbody tr th:only-of-type {\n",
              "        vertical-align: middle;\n",
              "    }\n",
              "\n",
              "    .dataframe tbody tr th {\n",
              "        vertical-align: top;\n",
              "    }\n",
              "\n",
              "    .dataframe thead th {\n",
              "        text-align: right;\n",
              "    }\n",
              "</style>\n",
              "<table border=\"1\" class=\"dataframe\">\n",
              "  <thead>\n",
              "    <tr style=\"text-align: right;\">\n",
              "      <th></th>\n",
              "      <th>name</th>\n",
              "      <th>gender</th>\n",
              "      <th>past_3_years_bike_related_purchases</th>\n",
              "    </tr>\n",
              "  </thead>\n",
              "  <tbody>\n",
              "    <tr>\n",
              "      <th>748</th>\n",
              "      <td>Mikol Eck</td>\n",
              "      <td>Male</td>\n",
              "      <td>99</td>\n",
              "    </tr>\n",
              "    <tr>\n",
              "      <th>272</th>\n",
              "      <td>Theresa Cowper</td>\n",
              "      <td>Female</td>\n",
              "      <td>99</td>\n",
              "    </tr>\n",
              "    <tr>\n",
              "      <th>546</th>\n",
              "      <td>Sammy Borsi</td>\n",
              "      <td>Female</td>\n",
              "      <td>99</td>\n",
              "    </tr>\n",
              "    <tr>\n",
              "      <th>359</th>\n",
              "      <td>Pace Clemonts</td>\n",
              "      <td>Male</td>\n",
              "      <td>99</td>\n",
              "    </tr>\n",
              "    <tr>\n",
              "      <th>652</th>\n",
              "      <td>Leticia Hovenden</td>\n",
              "      <td>Female</td>\n",
              "      <td>98</td>\n",
              "    </tr>\n",
              "    <tr>\n",
              "      <th>931</th>\n",
              "      <td>Kizzee Agget</td>\n",
              "      <td>Female</td>\n",
              "      <td>98</td>\n",
              "    </tr>\n",
              "    <tr>\n",
              "      <th>75</th>\n",
              "      <td>Hasheem Groucock</td>\n",
              "      <td>Male</td>\n",
              "      <td>98</td>\n",
              "    </tr>\n",
              "    <tr>\n",
              "      <th>783</th>\n",
              "      <td>Calhoun Mussington</td>\n",
              "      <td>Male</td>\n",
              "      <td>98</td>\n",
              "    </tr>\n",
              "    <tr>\n",
              "      <th>683</th>\n",
              "      <td>Selle Casper</td>\n",
              "      <td>Female</td>\n",
              "      <td>98</td>\n",
              "    </tr>\n",
              "    <tr>\n",
              "      <th>421</th>\n",
              "      <td>Etan Prinett</td>\n",
              "      <td>Male</td>\n",
              "      <td>97</td>\n",
              "    </tr>\n",
              "  </tbody>\n",
              "</table>\n",
              "</div>"
            ],
            "text/plain": [
              "                   name  gender  past_3_years_bike_related_purchases\n",
              "748           Mikol Eck    Male                                   99\n",
              "272      Theresa Cowper  Female                                   99\n",
              "546         Sammy Borsi  Female                                   99\n",
              "359       Pace Clemonts    Male                                   99\n",
              "652    Leticia Hovenden  Female                                   98\n",
              "931        Kizzee Agget  Female                                   98\n",
              "75     Hasheem Groucock    Male                                   98\n",
              "783  Calhoun Mussington    Male                                   98\n",
              "683        Selle Casper  Female                                   98\n",
              "421        Etan Prinett    Male                                   97"
            ]
          },
          "metadata": {
            "tags": []
          },
          "execution_count": 61
        }
      ]
    },
    {
      "cell_type": "code",
      "metadata": {
        "id": "QWp2dYp_9EYQ",
        "outputId": "986962a3-1f45-4c19-ec39-8e3283531444",
        "colab": {
          "base_uri": "https://localhost:8080/",
          "height": 204
        }
      },
      "source": [
        "ax = new.sort_values(by='past_3_years_bike_related_purchases')\n",
        "ax[['name','gender','past_3_years_bike_related_purchases']].head()"
      ],
      "execution_count": 62,
      "outputs": [
        {
          "output_type": "execute_result",
          "data": {
            "text/html": [
              "<div>\n",
              "<style scoped>\n",
              "    .dataframe tbody tr th:only-of-type {\n",
              "        vertical-align: middle;\n",
              "    }\n",
              "\n",
              "    .dataframe tbody tr th {\n",
              "        vertical-align: top;\n",
              "    }\n",
              "\n",
              "    .dataframe thead th {\n",
              "        text-align: right;\n",
              "    }\n",
              "</style>\n",
              "<table border=\"1\" class=\"dataframe\">\n",
              "  <thead>\n",
              "    <tr style=\"text-align: right;\">\n",
              "      <th></th>\n",
              "      <th>name</th>\n",
              "      <th>gender</th>\n",
              "      <th>past_3_years_bike_related_purchases</th>\n",
              "    </tr>\n",
              "  </thead>\n",
              "  <tbody>\n",
              "    <tr>\n",
              "      <th>798</th>\n",
              "      <td>Cherye Stanfield</td>\n",
              "      <td>Female</td>\n",
              "      <td>0</td>\n",
              "    </tr>\n",
              "    <tr>\n",
              "      <th>113</th>\n",
              "      <td>Meriel Tapp</td>\n",
              "      <td>Female</td>\n",
              "      <td>0</td>\n",
              "    </tr>\n",
              "    <tr>\n",
              "      <th>545</th>\n",
              "      <td>Katy Crooke</td>\n",
              "      <td>Female</td>\n",
              "      <td>0</td>\n",
              "    </tr>\n",
              "    <tr>\n",
              "      <th>225</th>\n",
              "      <td>Hersh Stubbert</td>\n",
              "      <td>Male</td>\n",
              "      <td>0</td>\n",
              "    </tr>\n",
              "    <tr>\n",
              "      <th>451</th>\n",
              "      <td>Katie Warhurst</td>\n",
              "      <td>Female</td>\n",
              "      <td>0</td>\n",
              "    </tr>\n",
              "  </tbody>\n",
              "</table>\n",
              "</div>"
            ],
            "text/plain": [
              "                 name  gender  past_3_years_bike_related_purchases\n",
              "798  Cherye Stanfield  Female                                    0\n",
              "113       Meriel Tapp  Female                                    0\n",
              "545       Katy Crooke  Female                                    0\n",
              "225    Hersh Stubbert    Male                                    0\n",
              "451    Katie Warhurst  Female                                    0"
            ]
          },
          "metadata": {
            "tags": []
          },
          "execution_count": 62
        }
      ]
    }
  ]
}
